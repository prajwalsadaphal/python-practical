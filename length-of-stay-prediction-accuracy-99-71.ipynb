{
 "cells": [
  {
   "cell_type": "markdown",
   "id": "afraid-exposure",
   "metadata": {
    "papermill": {
     "duration": 0.040422,
     "end_time": "2021-05-12T13:19:04.595737",
     "exception": false,
     "start_time": "2021-05-12T13:19:04.555315",
     "status": "completed"
    },
    "tags": []
   },
   "source": [
    "# HealthCare Analytics: Predicting the Length of Stay (LOS) of a patient \n",
    "- Objective: Predict the Length of Stay for each patient on case by case basis so that the Hospitals can use this information for optimal resource allocation and better functioning\n",
    "- The length of stay is divided into 11 different classes ranging from 0-10 days to more than 100 days."
   ]
  },
  {
   "cell_type": "markdown",
   "id": "polar-project",
   "metadata": {
    "papermill": {
     "duration": 0.038616,
     "end_time": "2021-05-12T13:19:04.674268",
     "exception": false,
     "start_time": "2021-05-12T13:19:04.635652",
     "status": "completed"
    },
    "tags": []
   },
   "source": [
    "## Load Libraries & Data"
   ]
  },
  {
   "cell_type": "code",
   "execution_count": 1,
   "id": "diagnostic-lodging",
   "metadata": {
    "execution": {
     "iopub.execute_input": "2021-05-12T13:19:04.756858Z",
     "iopub.status.busy": "2021-05-12T13:19:04.755719Z",
     "iopub.status.idle": "2021-05-12T13:19:05.673268Z",
     "shell.execute_reply": "2021-05-12T13:19:05.673800Z"
    },
    "papermill": {
     "duration": 0.961141,
     "end_time": "2021-05-12T13:19:05.674199",
     "exception": false,
     "start_time": "2021-05-12T13:19:04.713058",
     "status": "completed"
    },
    "tags": []
   },
   "outputs": [],
   "source": [
    "import numpy as np\n",
    "import pandas as pd\n",
    "import matplotlib.pyplot as plt\n",
    "import seaborn as sns\n",
    "import pickle\n",
    "\n",
    "%matplotlib inline\n",
    "sns.set_style(\"whitegrid\")\n",
    "plt.style.use(\"fivethirtyeight\")"
   ]
  },
  {
   "cell_type": "code",
   "execution_count": 2,
   "id": "undefined-pierre",
   "metadata": {
    "execution": {
     "iopub.execute_input": "2021-05-12T13:19:05.757280Z",
     "iopub.status.busy": "2021-05-12T13:19:05.756587Z",
     "iopub.status.idle": "2021-05-12T13:19:05.782616Z",
     "shell.execute_reply": "2021-05-12T13:19:05.781462Z"
    },
    "papermill": {
     "duration": 0.068976,
     "end_time": "2021-05-12T13:19:05.782833",
     "exception": false,
     "start_time": "2021-05-12T13:19:05.713857",
     "status": "completed"
    },
    "tags": []
   },
   "outputs": [],
   "source": [
    "import os\n",
    "for dirname, _, filenames in os.walk('/kaggle/input'):\n",
    "    for filename in filenames:\n",
    "        print(os.path.join(dirname, filename))"
   ]
  },
  {
   "cell_type": "code",
   "execution_count": 3,
   "id": "tamil-athletics",
   "metadata": {
    "execution": {
     "iopub.execute_input": "2021-05-12T13:19:05.871680Z",
     "iopub.status.busy": "2021-05-12T13:19:05.870933Z",
     "iopub.status.idle": "2021-05-12T13:19:07.253414Z",
     "shell.execute_reply": "2021-05-12T13:19:07.252198Z"
    },
    "papermill": {
     "duration": 1.42871,
     "end_time": "2021-05-12T13:19:07.253600",
     "exception": false,
     "start_time": "2021-05-12T13:19:05.824890",
     "status": "completed"
    },
    "tags": []
   },
   "outputs": [],
   "source": [
    "train = pd.read_csv('train_data.csv')\n",
    "test = pd.read_csv('test_data.csv')\n",
    "dictionary = pd.read_csv('train_data_dictionary.csv')\n",
    "sample = pd.read_csv('sample_sub.csv')"
   ]
  },
  {
   "cell_type": "markdown",
   "id": "artificial-accordance",
   "metadata": {
    "papermill": {
     "duration": 0.0403,
     "end_time": "2021-05-12T13:19:07.334531",
     "exception": false,
     "start_time": "2021-05-12T13:19:07.294231",
     "status": "completed"
    },
    "tags": []
   },
   "source": [
    "## Data Dictionary"
   ]
  },
  {
   "cell_type": "code",
   "execution_count": 4,
   "id": "going-consumption",
   "metadata": {
    "execution": {
     "iopub.execute_input": "2021-05-12T13:19:07.428354Z",
     "iopub.status.busy": "2021-05-12T13:19:07.426642Z",
     "iopub.status.idle": "2021-05-12T13:19:07.449437Z",
     "shell.execute_reply": "2021-05-12T13:19:07.450019Z"
    },
    "papermill": {
     "duration": 0.075966,
     "end_time": "2021-05-12T13:19:07.450245",
     "exception": false,
     "start_time": "2021-05-12T13:19:07.374279",
     "status": "completed"
    },
    "tags": []
   },
   "outputs": [
    {
     "data": {
      "text/html": [
       "<div>\n",
       "<style scoped>\n",
       "    .dataframe tbody tr th:only-of-type {\n",
       "        vertical-align: middle;\n",
       "    }\n",
       "\n",
       "    .dataframe tbody tr th {\n",
       "        vertical-align: top;\n",
       "    }\n",
       "\n",
       "    .dataframe thead th {\n",
       "        text-align: right;\n",
       "    }\n",
       "</style>\n",
       "<table border=\"1\" class=\"dataframe\">\n",
       "  <thead>\n",
       "    <tr style=\"text-align: right;\">\n",
       "      <th></th>\n",
       "      <th>Column</th>\n",
       "      <th>Description</th>\n",
       "    </tr>\n",
       "  </thead>\n",
       "  <tbody>\n",
       "    <tr>\n",
       "      <th>0</th>\n",
       "      <td>case_id</td>\n",
       "      <td>Case_ID registered in Hospital</td>\n",
       "    </tr>\n",
       "    <tr>\n",
       "      <th>1</th>\n",
       "      <td>Hospital_code</td>\n",
       "      <td>Unique code for the Hospital</td>\n",
       "    </tr>\n",
       "    <tr>\n",
       "      <th>2</th>\n",
       "      <td>Hospital_type_code</td>\n",
       "      <td>Unique code for the type of Hospital</td>\n",
       "    </tr>\n",
       "    <tr>\n",
       "      <th>3</th>\n",
       "      <td>City_Code_Hospital</td>\n",
       "      <td>City Code of the Hospital</td>\n",
       "    </tr>\n",
       "    <tr>\n",
       "      <th>4</th>\n",
       "      <td>Hospital_region_code</td>\n",
       "      <td>Region Code of the Hospital</td>\n",
       "    </tr>\n",
       "    <tr>\n",
       "      <th>5</th>\n",
       "      <td>Available Extra Rooms in Hospital</td>\n",
       "      <td>Number of Extra rooms available in the Hospital</td>\n",
       "    </tr>\n",
       "    <tr>\n",
       "      <th>6</th>\n",
       "      <td>Department</td>\n",
       "      <td>Department overlooking the case</td>\n",
       "    </tr>\n",
       "    <tr>\n",
       "      <th>7</th>\n",
       "      <td>Ward_Type</td>\n",
       "      <td>Code for the Ward type</td>\n",
       "    </tr>\n",
       "    <tr>\n",
       "      <th>8</th>\n",
       "      <td>Ward_Facility_Code</td>\n",
       "      <td>Code for the Ward Facility</td>\n",
       "    </tr>\n",
       "    <tr>\n",
       "      <th>9</th>\n",
       "      <td>Bed Grade</td>\n",
       "      <td>Condition of Bed in the Ward</td>\n",
       "    </tr>\n",
       "    <tr>\n",
       "      <th>10</th>\n",
       "      <td>patientid</td>\n",
       "      <td>Unique Patient Id</td>\n",
       "    </tr>\n",
       "    <tr>\n",
       "      <th>11</th>\n",
       "      <td>City_Code_Patient</td>\n",
       "      <td>City Code for the patient</td>\n",
       "    </tr>\n",
       "    <tr>\n",
       "      <th>12</th>\n",
       "      <td>Type of Admission</td>\n",
       "      <td>Admission Type registered by the Hospital</td>\n",
       "    </tr>\n",
       "    <tr>\n",
       "      <th>13</th>\n",
       "      <td>Severity of Illness</td>\n",
       "      <td>Severity of the illness recorded at the time o...</td>\n",
       "    </tr>\n",
       "    <tr>\n",
       "      <th>14</th>\n",
       "      <td>Visitors with Patient</td>\n",
       "      <td>Number of Visitors with the patient</td>\n",
       "    </tr>\n",
       "    <tr>\n",
       "      <th>15</th>\n",
       "      <td>Age</td>\n",
       "      <td>Age of the patient</td>\n",
       "    </tr>\n",
       "    <tr>\n",
       "      <th>16</th>\n",
       "      <td>Admission_Deposit</td>\n",
       "      <td>Deposit at the Admission Time</td>\n",
       "    </tr>\n",
       "    <tr>\n",
       "      <th>17</th>\n",
       "      <td>Stay</td>\n",
       "      <td>Stay Days by the patient</td>\n",
       "    </tr>\n",
       "  </tbody>\n",
       "</table>\n",
       "</div>"
      ],
      "text/plain": [
       "                               Column  \\\n",
       "0                             case_id   \n",
       "1                       Hospital_code   \n",
       "2                  Hospital_type_code   \n",
       "3                  City_Code_Hospital   \n",
       "4                Hospital_region_code   \n",
       "5   Available Extra Rooms in Hospital   \n",
       "6                          Department   \n",
       "7                           Ward_Type   \n",
       "8                  Ward_Facility_Code   \n",
       "9                           Bed Grade   \n",
       "10                          patientid   \n",
       "11                  City_Code_Patient   \n",
       "12                  Type of Admission   \n",
       "13                Severity of Illness   \n",
       "14              Visitors with Patient   \n",
       "15                                Age   \n",
       "16                  Admission_Deposit   \n",
       "17                               Stay   \n",
       "\n",
       "                                          Description  \n",
       "0                      Case_ID registered in Hospital  \n",
       "1                        Unique code for the Hospital  \n",
       "2                Unique code for the type of Hospital  \n",
       "3                           City Code of the Hospital  \n",
       "4                         Region Code of the Hospital  \n",
       "5     Number of Extra rooms available in the Hospital  \n",
       "6                     Department overlooking the case  \n",
       "7                              Code for the Ward type  \n",
       "8                          Code for the Ward Facility  \n",
       "9                        Condition of Bed in the Ward  \n",
       "10                                  Unique Patient Id  \n",
       "11                          City Code for the patient  \n",
       "12          Admission Type registered by the Hospital  \n",
       "13  Severity of the illness recorded at the time o...  \n",
       "14                Number of Visitors with the patient  \n",
       "15                                 Age of the patient  \n",
       "16                      Deposit at the Admission Time  \n",
       "17                           Stay Days by the patient  "
      ]
     },
     "execution_count": 4,
     "metadata": {},
     "output_type": "execute_result"
    }
   ],
   "source": [
    "dictionary"
   ]
  },
  {
   "cell_type": "markdown",
   "id": "wooden-baker",
   "metadata": {
    "papermill": {
     "duration": 0.040227,
     "end_time": "2021-05-12T13:19:07.531090",
     "exception": false,
     "start_time": "2021-05-12T13:19:07.490863",
     "status": "completed"
    },
    "tags": []
   },
   "source": [
    "#### Hypothesis: \n",
    "The following features may have relevance with the Length of Stay of a patient\n",
    "- Department: Relates to the type of disease\n",
    "- Type of Admission: Relates to patients' reason of admission to the hospital\n",
    "- Severity of Illness: Relates to the curability of disease\n",
    "- Age: Relates to the curability of disease"
   ]
  },
  {
   "cell_type": "markdown",
   "id": "direct-marina",
   "metadata": {
    "papermill": {
     "duration": 0.040012,
     "end_time": "2021-05-12T13:19:07.611778",
     "exception": false,
     "start_time": "2021-05-12T13:19:07.571766",
     "status": "completed"
    },
    "tags": []
   },
   "source": [
    "# 1. Exploratory Data Analysis\n",
    "* What question(s) are you trying to solve?\n",
    "* What kind of data do we have and how do we treat different types?\n",
    "* What's missing from the data and how do you deal with it?\n",
    "* Where are the outliers and why should you care about them?\n",
    "* How can you add, change or remove features to get more out of your data?"
   ]
  },
  {
   "cell_type": "code",
   "execution_count": 5,
   "id": "absent-nursing",
   "metadata": {
    "execution": {
     "iopub.execute_input": "2021-05-12T13:19:07.697670Z",
     "iopub.status.busy": "2021-05-12T13:19:07.696726Z",
     "iopub.status.idle": "2021-05-12T13:19:08.015010Z",
     "shell.execute_reply": "2021-05-12T13:19:08.015614Z"
    },
    "papermill": {
     "duration": 0.363123,
     "end_time": "2021-05-12T13:19:08.015836",
     "exception": false,
     "start_time": "2021-05-12T13:19:07.652713",
     "status": "completed"
    },
    "tags": []
   },
   "outputs": [
    {
     "name": "stdout",
     "output_type": "stream",
     "text": [
      "<class 'pandas.core.frame.DataFrame'>\n",
      "RangeIndex: 318438 entries, 0 to 318437\n",
      "Data columns (total 18 columns):\n",
      " #   Column                             Non-Null Count   Dtype  \n",
      "---  ------                             --------------   -----  \n",
      " 0   case_id                            318438 non-null  int64  \n",
      " 1   Hospital_code                      318438 non-null  int64  \n",
      " 2   Hospital_type_code                 318438 non-null  object \n",
      " 3   City_Code_Hospital                 318438 non-null  int64  \n",
      " 4   Hospital_region_code               318438 non-null  object \n",
      " 5   Available Extra Rooms in Hospital  318438 non-null  int64  \n",
      " 6   Department                         318438 non-null  object \n",
      " 7   Ward_Type                          318438 non-null  object \n",
      " 8   Ward_Facility_Code                 318438 non-null  object \n",
      " 9   Bed Grade                          318325 non-null  float64\n",
      " 10  patientid                          318438 non-null  int64  \n",
      " 11  City_Code_Patient                  313906 non-null  float64\n",
      " 12  Type of Admission                  318438 non-null  object \n",
      " 13  Severity of Illness                318438 non-null  object \n",
      " 14  Visitors with Patient              318438 non-null  int64  \n",
      " 15  Age                                318438 non-null  object \n",
      " 16  Admission_Deposit                  318438 non-null  float64\n",
      " 17  Stay                               318438 non-null  object \n",
      "dtypes: float64(3), int64(6), object(9)\n",
      "memory usage: 43.7+ MB\n"
     ]
    }
   ],
   "source": [
    "train.info()"
   ]
  },
  {
   "cell_type": "code",
   "execution_count": 6,
   "id": "handy-sugar",
   "metadata": {
    "execution": {
     "iopub.execute_input": "2021-05-12T13:19:08.122539Z",
     "iopub.status.busy": "2021-05-12T13:19:08.111825Z",
     "iopub.status.idle": "2021-05-12T13:19:08.127812Z",
     "shell.execute_reply": "2021-05-12T13:19:08.127300Z"
    },
    "papermill": {
     "duration": 0.070721,
     "end_time": "2021-05-12T13:19:08.128028",
     "exception": false,
     "start_time": "2021-05-12T13:19:08.057307",
     "status": "completed"
    },
    "tags": []
   },
   "outputs": [
    {
     "data": {
      "text/html": [
       "<div>\n",
       "<style scoped>\n",
       "    .dataframe tbody tr th:only-of-type {\n",
       "        vertical-align: middle;\n",
       "    }\n",
       "\n",
       "    .dataframe tbody tr th {\n",
       "        vertical-align: top;\n",
       "    }\n",
       "\n",
       "    .dataframe thead th {\n",
       "        text-align: right;\n",
       "    }\n",
       "</style>\n",
       "<table border=\"1\" class=\"dataframe\">\n",
       "  <thead>\n",
       "    <tr style=\"text-align: right;\">\n",
       "      <th></th>\n",
       "      <th>case_id</th>\n",
       "      <th>Hospital_code</th>\n",
       "      <th>Hospital_type_code</th>\n",
       "      <th>City_Code_Hospital</th>\n",
       "      <th>Hospital_region_code</th>\n",
       "      <th>Available Extra Rooms in Hospital</th>\n",
       "      <th>Department</th>\n",
       "      <th>Ward_Type</th>\n",
       "      <th>Ward_Facility_Code</th>\n",
       "      <th>Bed Grade</th>\n",
       "      <th>patientid</th>\n",
       "      <th>City_Code_Patient</th>\n",
       "      <th>Type of Admission</th>\n",
       "      <th>Severity of Illness</th>\n",
       "      <th>Visitors with Patient</th>\n",
       "      <th>Age</th>\n",
       "      <th>Admission_Deposit</th>\n",
       "      <th>Stay</th>\n",
       "    </tr>\n",
       "  </thead>\n",
       "  <tbody>\n",
       "    <tr>\n",
       "      <th>0</th>\n",
       "      <td>1</td>\n",
       "      <td>8</td>\n",
       "      <td>c</td>\n",
       "      <td>3</td>\n",
       "      <td>Z</td>\n",
       "      <td>3</td>\n",
       "      <td>radiotherapy</td>\n",
       "      <td>R</td>\n",
       "      <td>F</td>\n",
       "      <td>2.0</td>\n",
       "      <td>31397</td>\n",
       "      <td>7.0</td>\n",
       "      <td>Emergency</td>\n",
       "      <td>Extreme</td>\n",
       "      <td>2</td>\n",
       "      <td>51-60</td>\n",
       "      <td>4911.0</td>\n",
       "      <td>0-10</td>\n",
       "    </tr>\n",
       "    <tr>\n",
       "      <th>1</th>\n",
       "      <td>2</td>\n",
       "      <td>2</td>\n",
       "      <td>c</td>\n",
       "      <td>5</td>\n",
       "      <td>Z</td>\n",
       "      <td>2</td>\n",
       "      <td>radiotherapy</td>\n",
       "      <td>S</td>\n",
       "      <td>F</td>\n",
       "      <td>2.0</td>\n",
       "      <td>31397</td>\n",
       "      <td>7.0</td>\n",
       "      <td>Trauma</td>\n",
       "      <td>Extreme</td>\n",
       "      <td>2</td>\n",
       "      <td>51-60</td>\n",
       "      <td>5954.0</td>\n",
       "      <td>41-50</td>\n",
       "    </tr>\n",
       "    <tr>\n",
       "      <th>2</th>\n",
       "      <td>3</td>\n",
       "      <td>10</td>\n",
       "      <td>e</td>\n",
       "      <td>1</td>\n",
       "      <td>X</td>\n",
       "      <td>2</td>\n",
       "      <td>anesthesia</td>\n",
       "      <td>S</td>\n",
       "      <td>E</td>\n",
       "      <td>2.0</td>\n",
       "      <td>31397</td>\n",
       "      <td>7.0</td>\n",
       "      <td>Trauma</td>\n",
       "      <td>Extreme</td>\n",
       "      <td>2</td>\n",
       "      <td>51-60</td>\n",
       "      <td>4745.0</td>\n",
       "      <td>31-40</td>\n",
       "    </tr>\n",
       "    <tr>\n",
       "      <th>3</th>\n",
       "      <td>4</td>\n",
       "      <td>26</td>\n",
       "      <td>b</td>\n",
       "      <td>2</td>\n",
       "      <td>Y</td>\n",
       "      <td>2</td>\n",
       "      <td>radiotherapy</td>\n",
       "      <td>R</td>\n",
       "      <td>D</td>\n",
       "      <td>2.0</td>\n",
       "      <td>31397</td>\n",
       "      <td>7.0</td>\n",
       "      <td>Trauma</td>\n",
       "      <td>Extreme</td>\n",
       "      <td>2</td>\n",
       "      <td>51-60</td>\n",
       "      <td>7272.0</td>\n",
       "      <td>41-50</td>\n",
       "    </tr>\n",
       "    <tr>\n",
       "      <th>4</th>\n",
       "      <td>5</td>\n",
       "      <td>26</td>\n",
       "      <td>b</td>\n",
       "      <td>2</td>\n",
       "      <td>Y</td>\n",
       "      <td>2</td>\n",
       "      <td>radiotherapy</td>\n",
       "      <td>S</td>\n",
       "      <td>D</td>\n",
       "      <td>2.0</td>\n",
       "      <td>31397</td>\n",
       "      <td>7.0</td>\n",
       "      <td>Trauma</td>\n",
       "      <td>Extreme</td>\n",
       "      <td>2</td>\n",
       "      <td>51-60</td>\n",
       "      <td>5558.0</td>\n",
       "      <td>41-50</td>\n",
       "    </tr>\n",
       "  </tbody>\n",
       "</table>\n",
       "</div>"
      ],
      "text/plain": [
       "   case_id  Hospital_code Hospital_type_code  City_Code_Hospital  \\\n",
       "0        1              8                  c                   3   \n",
       "1        2              2                  c                   5   \n",
       "2        3             10                  e                   1   \n",
       "3        4             26                  b                   2   \n",
       "4        5             26                  b                   2   \n",
       "\n",
       "  Hospital_region_code  Available Extra Rooms in Hospital    Department  \\\n",
       "0                    Z                                  3  radiotherapy   \n",
       "1                    Z                                  2  radiotherapy   \n",
       "2                    X                                  2    anesthesia   \n",
       "3                    Y                                  2  radiotherapy   \n",
       "4                    Y                                  2  radiotherapy   \n",
       "\n",
       "  Ward_Type Ward_Facility_Code  Bed Grade  patientid  City_Code_Patient  \\\n",
       "0         R                  F        2.0      31397                7.0   \n",
       "1         S                  F        2.0      31397                7.0   \n",
       "2         S                  E        2.0      31397                7.0   \n",
       "3         R                  D        2.0      31397                7.0   \n",
       "4         S                  D        2.0      31397                7.0   \n",
       "\n",
       "  Type of Admission Severity of Illness  Visitors with Patient    Age  \\\n",
       "0         Emergency             Extreme                      2  51-60   \n",
       "1            Trauma             Extreme                      2  51-60   \n",
       "2            Trauma             Extreme                      2  51-60   \n",
       "3            Trauma             Extreme                      2  51-60   \n",
       "4            Trauma             Extreme                      2  51-60   \n",
       "\n",
       "   Admission_Deposit   Stay  \n",
       "0             4911.0   0-10  \n",
       "1             5954.0  41-50  \n",
       "2             4745.0  31-40  \n",
       "3             7272.0  41-50  \n",
       "4             5558.0  41-50  "
      ]
     },
     "execution_count": 6,
     "metadata": {},
     "output_type": "execute_result"
    }
   ],
   "source": [
    "train.head(5)"
   ]
  },
  {
   "cell_type": "code",
   "execution_count": 7,
   "id": "green-singing",
   "metadata": {
    "execution": {
     "iopub.execute_input": "2021-05-12T13:19:08.298093Z",
     "iopub.status.busy": "2021-05-12T13:19:08.295068Z",
     "iopub.status.idle": "2021-05-12T13:19:08.303108Z",
     "shell.execute_reply": "2021-05-12T13:19:08.302603Z"
    },
    "papermill": {
     "duration": 0.132565,
     "end_time": "2021-05-12T13:19:08.303281",
     "exception": false,
     "start_time": "2021-05-12T13:19:08.170716",
     "status": "completed"
    },
    "tags": []
   },
   "outputs": [
    {
     "data": {
      "text/plain": [
       "21-30                 87491\n",
       "11-20                 78139\n",
       "31-40                 55159\n",
       "51-60                 35018\n",
       "0-10                  23604\n",
       "41-50                 11743\n",
       "71-80                 10254\n",
       "More than 100 Days     6683\n",
       "81-90                  4838\n",
       "91-100                 2765\n",
       "61-70                  2744\n",
       "Name: Stay, dtype: int64"
      ]
     },
     "execution_count": 7,
     "metadata": {},
     "output_type": "execute_result"
    }
   ],
   "source": [
    "train.Stay.value_counts()"
   ]
  },
  {
   "cell_type": "code",
   "execution_count": 8,
   "id": "polish-tuition",
   "metadata": {
    "execution": {
     "iopub.execute_input": "2021-05-12T13:19:08.412378Z",
     "iopub.status.busy": "2021-05-12T13:19:08.411346Z",
     "iopub.status.idle": "2021-05-12T13:19:08.416786Z",
     "shell.execute_reply": "2021-05-12T13:19:08.416235Z"
    },
    "papermill": {
     "duration": 0.070567,
     "end_time": "2021-05-12T13:19:08.416955",
     "exception": false,
     "start_time": "2021-05-12T13:19:08.346388",
     "status": "completed"
    },
    "tags": []
   },
   "outputs": [
    {
     "data": {
      "text/html": [
       "<div>\n",
       "<style scoped>\n",
       "    .dataframe tbody tr th:only-of-type {\n",
       "        vertical-align: middle;\n",
       "    }\n",
       "\n",
       "    .dataframe tbody tr th {\n",
       "        vertical-align: top;\n",
       "    }\n",
       "\n",
       "    .dataframe thead th {\n",
       "        text-align: right;\n",
       "    }\n",
       "</style>\n",
       "<table border=\"1\" class=\"dataframe\">\n",
       "  <thead>\n",
       "    <tr style=\"text-align: right;\">\n",
       "      <th></th>\n",
       "      <th>case_id</th>\n",
       "      <th>Hospital_code</th>\n",
       "      <th>Hospital_type_code</th>\n",
       "      <th>City_Code_Hospital</th>\n",
       "      <th>Hospital_region_code</th>\n",
       "      <th>Available Extra Rooms in Hospital</th>\n",
       "      <th>Department</th>\n",
       "      <th>Ward_Type</th>\n",
       "      <th>Ward_Facility_Code</th>\n",
       "      <th>Bed Grade</th>\n",
       "      <th>patientid</th>\n",
       "      <th>City_Code_Patient</th>\n",
       "      <th>Type of Admission</th>\n",
       "      <th>Severity of Illness</th>\n",
       "      <th>Visitors with Patient</th>\n",
       "      <th>Age</th>\n",
       "      <th>Admission_Deposit</th>\n",
       "      <th>Stay</th>\n",
       "    </tr>\n",
       "  </thead>\n",
       "  <tbody>\n",
       "    <tr>\n",
       "      <th>0</th>\n",
       "      <td>1</td>\n",
       "      <td>8</td>\n",
       "      <td>c</td>\n",
       "      <td>3</td>\n",
       "      <td>Z</td>\n",
       "      <td>3</td>\n",
       "      <td>radiotherapy</td>\n",
       "      <td>R</td>\n",
       "      <td>F</td>\n",
       "      <td>2.0</td>\n",
       "      <td>31397</td>\n",
       "      <td>7.0</td>\n",
       "      <td>Emergency</td>\n",
       "      <td>Extreme</td>\n",
       "      <td>2</td>\n",
       "      <td>51-60</td>\n",
       "      <td>4911.0</td>\n",
       "      <td>0-10</td>\n",
       "    </tr>\n",
       "    <tr>\n",
       "      <th>1</th>\n",
       "      <td>2</td>\n",
       "      <td>2</td>\n",
       "      <td>c</td>\n",
       "      <td>5</td>\n",
       "      <td>Z</td>\n",
       "      <td>2</td>\n",
       "      <td>radiotherapy</td>\n",
       "      <td>S</td>\n",
       "      <td>F</td>\n",
       "      <td>2.0</td>\n",
       "      <td>31397</td>\n",
       "      <td>7.0</td>\n",
       "      <td>Trauma</td>\n",
       "      <td>Extreme</td>\n",
       "      <td>2</td>\n",
       "      <td>51-60</td>\n",
       "      <td>5954.0</td>\n",
       "      <td>41-50</td>\n",
       "    </tr>\n",
       "    <tr>\n",
       "      <th>2</th>\n",
       "      <td>3</td>\n",
       "      <td>10</td>\n",
       "      <td>e</td>\n",
       "      <td>1</td>\n",
       "      <td>X</td>\n",
       "      <td>2</td>\n",
       "      <td>anesthesia</td>\n",
       "      <td>S</td>\n",
       "      <td>E</td>\n",
       "      <td>2.0</td>\n",
       "      <td>31397</td>\n",
       "      <td>7.0</td>\n",
       "      <td>Trauma</td>\n",
       "      <td>Extreme</td>\n",
       "      <td>2</td>\n",
       "      <td>51-60</td>\n",
       "      <td>4745.0</td>\n",
       "      <td>31-40</td>\n",
       "    </tr>\n",
       "    <tr>\n",
       "      <th>3</th>\n",
       "      <td>4</td>\n",
       "      <td>26</td>\n",
       "      <td>b</td>\n",
       "      <td>2</td>\n",
       "      <td>Y</td>\n",
       "      <td>2</td>\n",
       "      <td>radiotherapy</td>\n",
       "      <td>R</td>\n",
       "      <td>D</td>\n",
       "      <td>2.0</td>\n",
       "      <td>31397</td>\n",
       "      <td>7.0</td>\n",
       "      <td>Trauma</td>\n",
       "      <td>Extreme</td>\n",
       "      <td>2</td>\n",
       "      <td>51-60</td>\n",
       "      <td>7272.0</td>\n",
       "      <td>41-50</td>\n",
       "    </tr>\n",
       "    <tr>\n",
       "      <th>4</th>\n",
       "      <td>5</td>\n",
       "      <td>26</td>\n",
       "      <td>b</td>\n",
       "      <td>2</td>\n",
       "      <td>Y</td>\n",
       "      <td>2</td>\n",
       "      <td>radiotherapy</td>\n",
       "      <td>S</td>\n",
       "      <td>D</td>\n",
       "      <td>2.0</td>\n",
       "      <td>31397</td>\n",
       "      <td>7.0</td>\n",
       "      <td>Trauma</td>\n",
       "      <td>Extreme</td>\n",
       "      <td>2</td>\n",
       "      <td>51-60</td>\n",
       "      <td>5558.0</td>\n",
       "      <td>41-50</td>\n",
       "    </tr>\n",
       "  </tbody>\n",
       "</table>\n",
       "</div>"
      ],
      "text/plain": [
       "   case_id  Hospital_code Hospital_type_code  City_Code_Hospital  \\\n",
       "0        1              8                  c                   3   \n",
       "1        2              2                  c                   5   \n",
       "2        3             10                  e                   1   \n",
       "3        4             26                  b                   2   \n",
       "4        5             26                  b                   2   \n",
       "\n",
       "  Hospital_region_code  Available Extra Rooms in Hospital    Department  \\\n",
       "0                    Z                                  3  radiotherapy   \n",
       "1                    Z                                  2  radiotherapy   \n",
       "2                    X                                  2    anesthesia   \n",
       "3                    Y                                  2  radiotherapy   \n",
       "4                    Y                                  2  radiotherapy   \n",
       "\n",
       "  Ward_Type Ward_Facility_Code  Bed Grade  patientid  City_Code_Patient  \\\n",
       "0         R                  F        2.0      31397                7.0   \n",
       "1         S                  F        2.0      31397                7.0   \n",
       "2         S                  E        2.0      31397                7.0   \n",
       "3         R                  D        2.0      31397                7.0   \n",
       "4         S                  D        2.0      31397                7.0   \n",
       "\n",
       "  Type of Admission Severity of Illness  Visitors with Patient    Age  \\\n",
       "0         Emergency             Extreme                      2  51-60   \n",
       "1            Trauma             Extreme                      2  51-60   \n",
       "2            Trauma             Extreme                      2  51-60   \n",
       "3            Trauma             Extreme                      2  51-60   \n",
       "4            Trauma             Extreme                      2  51-60   \n",
       "\n",
       "   Admission_Deposit   Stay  \n",
       "0             4911.0   0-10  \n",
       "1             5954.0  41-50  \n",
       "2             4745.0  31-40  \n",
       "3             7272.0  41-50  \n",
       "4             5558.0  41-50  "
      ]
     },
     "execution_count": 8,
     "metadata": {},
     "output_type": "execute_result"
    }
   ],
   "source": [
    "train.head(5)"
   ]
  },
  {
   "cell_type": "code",
   "execution_count": 9,
   "id": "activated-header",
   "metadata": {
    "execution": {
     "iopub.execute_input": "2021-05-12T13:19:08.587478Z",
     "iopub.status.busy": "2021-05-12T13:19:08.586715Z",
     "iopub.status.idle": "2021-05-12T13:19:08.868395Z",
     "shell.execute_reply": "2021-05-12T13:19:08.867760Z"
    },
    "papermill": {
     "duration": 0.408374,
     "end_time": "2021-05-12T13:19:08.868553",
     "exception": false,
     "start_time": "2021-05-12T13:19:08.460179",
     "status": "completed"
    },
    "tags": []
   },
   "outputs": [
    {
     "data": {
      "text/plain": [
       "<AxesSubplot:>"
      ]
     },
     "execution_count": 9,
     "metadata": {},
     "output_type": "execute_result"
    },
    {
     "data": {
      "image/png": "[encoded data removed]",
      "text/plain": [
       "<Figure size 720x504 with 1 Axes>"
      ]
     },
     "metadata": {},
     "output_type": "display_data"
    }
   ],
   "source": [
    "# Distribution of target feature\n",
    "plt.figure(figsize=(10,7))\n",
    "train.Stay.value_counts().plot(kind=\"bar\", color = ['Salmon'])"
   ]
  },
  {
   "cell_type": "markdown",
   "id": "experienced-hundred",
   "metadata": {
    "papermill": {
     "duration": 0.044127,
     "end_time": "2021-05-12T13:19:08.958571",
     "exception": false,
     "start_time": "2021-05-12T13:19:08.914444",
     "status": "completed"
    },
    "tags": []
   },
   "source": [
    "Insight: Most of the patients stay in hospital for **21-30 days**, followed by **11-20**, **31-40**"
   ]
  },
  {
   "cell_type": "code",
   "execution_count": 10,
   "id": "played-hungarian",
   "metadata": {
    "execution": {
     "iopub.execute_input": "2021-05-12T13:19:09.055675Z",
     "iopub.status.busy": "2021-05-12T13:19:09.054936Z",
     "iopub.status.idle": "2021-05-12T13:19:09.327596Z",
     "shell.execute_reply": "2021-05-12T13:19:09.328145Z"
    },
    "papermill": {
     "duration": 0.325178,
     "end_time": "2021-05-12T13:19:09.328352",
     "exception": false,
     "start_time": "2021-05-12T13:19:09.003174",
     "status": "completed"
    },
    "tags": []
   },
   "outputs": [
    {
     "name": "stdout",
     "output_type": "stream",
     "text": [
      "Unique Values for case_id\n",
      "[     1      2      3 ... 318436 318437 318438]\n",
      "======================================\n",
      "\n",
      "Unique Values for Hospital_code\n",
      "[ 8  2 10 26 23 32  1 22 16  9  6 29 12  3 21 28 27 19  5 14 13 31 24 17\n",
      " 25 15 11 30 18  4  7 20]\n",
      "======================================\n",
      "\n",
      "Unique Values for Hospital_type_code\n",
      "['c' 'e' 'b' 'a' 'f' 'd' 'g']\n",
      "======================================\n",
      "\n",
      "Unique Values for City_Code_Hospital\n",
      "[ 3  5  1  2  6  9 10  4 11  7 13]\n",
      "======================================\n",
      "\n",
      "Unique Values for Hospital_region_code\n",
      "['Z' 'X' 'Y']\n",
      "======================================\n",
      "\n",
      "Unique Values for Available Extra Rooms in Hospital\n",
      "[ 3  2  1  4  6  5  7  8  9 10 12  0 11 20 14 21 13 24]\n",
      "======================================\n",
      "\n",
      "Unique Values for Department\n",
      "['radiotherapy' 'anesthesia' 'gynecology' 'TB & Chest disease' 'surgery']\n",
      "======================================\n",
      "\n",
      "Unique Values for Ward_Type\n",
      "['R' 'S' 'Q' 'P' 'T' 'U']\n",
      "======================================\n",
      "\n",
      "Unique Values for Ward_Facility_Code\n",
      "['F' 'E' 'D' 'B' 'A' 'C']\n",
      "======================================\n",
      "\n",
      "Unique Values for Bed Grade\n",
      "[ 2.  3.  4.  1. nan]\n",
      "======================================\n",
      "\n",
      "Unique Values for patientid\n",
      "[ 31397  63418   8088 ... 125235  91081  21641]\n",
      "======================================\n",
      "\n",
      "Unique Values for City_Code_Patient\n",
      "[ 7.  8.  2.  5.  6.  3.  4.  1.  9. 14. nan 25. 15. 12. 10. 28. 24. 23.\n",
      " 20. 11. 13. 21. 18. 16. 26. 27. 22. 19. 31. 34. 32. 30. 29. 37. 33. 35.\n",
      " 36. 38.]\n",
      "======================================\n",
      "\n",
      "Unique Values for Type of Admission\n",
      "['Emergency' 'Trauma' 'Urgent']\n",
      "======================================\n",
      "\n",
      "Unique Values for Severity of Illness\n",
      "['Extreme' 'Moderate' 'Minor']\n",
      "======================================\n",
      "\n",
      "Unique Values for Visitors with Patient\n",
      "[ 2  4  3  8  6  7 13  5  1 10 15 11 12  9 24 16 14 20  0 19 18 17 23 21\n",
      " 32 30 22 25]\n",
      "======================================\n",
      "\n",
      "Unique Values for Age\n",
      "['51-60' '71-80' '31-40' '41-50' '81-90' '61-70' '21-30' '11-20' '0-10'\n",
      " '91-100']\n",
      "======================================\n",
      "\n",
      "Unique Values for Admission_Deposit\n",
      "[4911. 5954. 4745. ... 1937. 9439. 2349.]\n",
      "======================================\n",
      "\n",
      "Unique Values for Stay\n",
      "['0-10' '41-50' '31-40' '11-20' '51-60' '21-30' '71-80'\n",
      " 'More than 100 Days' '81-90' '61-70' '91-100']\n",
      "======================================\n",
      "\n"
     ]
    }
   ],
   "source": [
    "# Check for unique values in every column\n",
    "for features in train.columns:\n",
    "    print('Unique Values for {}'.format(features))\n",
    "    print(train[features].unique())\n",
    "    print('======================================')\n",
    "    print()"
   ]
  },
  {
   "cell_type": "markdown",
   "id": "complete-china",
   "metadata": {
    "papermill": {
     "duration": 0.045466,
     "end_time": "2021-05-12T13:19:09.419632",
     "exception": false,
     "start_time": "2021-05-12T13:19:09.374166",
     "status": "completed"
    },
    "tags": []
   },
   "source": [
    "**Insights**:\n",
    "1. Categorical features which need to be encoded:\n",
    "- `Hospital_region_code`\n",
    "- `Department`\n",
    "- `Ward_Type`\n",
    "- `Admission`\n",
    "- `Illness`\n",
    "\n",
    "2. Bins (range) which need to be encoded:\n",
    "- `Age`\n",
    "- `Stay` (Target)\n"
   ]
  },
  {
   "cell_type": "code",
   "execution_count": 11,
   "id": "returning-county",
   "metadata": {
    "execution": {
     "iopub.execute_input": "2021-05-12T13:19:09.515890Z",
     "iopub.status.busy": "2021-05-12T13:19:09.515106Z",
     "iopub.status.idle": "2021-05-12T13:19:09.806313Z",
     "shell.execute_reply": "2021-05-12T13:19:09.805626Z"
    },
    "papermill": {
     "duration": 0.341085,
     "end_time": "2021-05-12T13:19:09.806474",
     "exception": false,
     "start_time": "2021-05-12T13:19:09.465389",
     "status": "completed"
    },
    "tags": []
   },
   "outputs": [
    {
     "data": {
      "text/plain": [
       "case_id                                 0\n",
       "Hospital_code                           0\n",
       "Hospital_type_code                      0\n",
       "City_Code_Hospital                      0\n",
       "Hospital_region_code                    0\n",
       "Available Extra Rooms in Hospital       0\n",
       "Department                              0\n",
       "Ward_Type                               0\n",
       "Ward_Facility_Code                      0\n",
       "Bed Grade                             113\n",
       "patientid                               0\n",
       "City_Code_Patient                    4532\n",
       "Type of Admission                       0\n",
       "Severity of Illness                     0\n",
       "Visitors with Patient                   0\n",
       "Age                                     0\n",
       "Admission_Deposit                       0\n",
       "Stay                                    0\n",
       "dtype: int64"
      ]
     },
     "execution_count": 11,
     "metadata": {},
     "output_type": "execute_result"
    }
   ],
   "source": [
    "# Check for null values\n",
    "train.isna().sum()"
   ]
  },
  {
   "cell_type": "markdown",
   "id": "dried-honor",
   "metadata": {
    "papermill": {
     "duration": 0.047184,
     "end_time": "2021-05-12T13:19:09.899991",
     "exception": false,
     "start_time": "2021-05-12T13:19:09.852807",
     "status": "completed"
    },
    "tags": []
   },
   "source": [
    "`Bed Grade` and `City_Code_Patient` features have null values to be filled.\n",
    "- But do we need them?"
   ]
  },
  {
   "cell_type": "markdown",
   "id": "another-desperate",
   "metadata": {
    "papermill": {
     "duration": 0.046013,
     "end_time": "2021-05-12T13:19:09.993556",
     "exception": false,
     "start_time": "2021-05-12T13:19:09.947543",
     "status": "completed"
    },
    "tags": []
   },
   "source": [
    "# 2. Data Processing & Feature engineering"
   ]
  },
  {
   "cell_type": "code",
   "execution_count": 12,
   "id": "endangered-removal",
   "metadata": {
    "execution": {
     "iopub.execute_input": "2021-05-12T13:19:10.098195Z",
     "iopub.status.busy": "2021-05-12T13:19:10.097397Z",
     "iopub.status.idle": "2021-05-12T13:19:10.141031Z",
     "shell.execute_reply": "2021-05-12T13:19:10.140437Z"
    },
    "papermill": {
     "duration": 0.101572,
     "end_time": "2021-05-12T13:19:10.141215",
     "exception": false,
     "start_time": "2021-05-12T13:19:10.039643",
     "status": "completed"
    },
    "tags": []
   },
   "outputs": [],
   "source": [
    "train = train.drop(['Hospital_region_code', 'Bed Grade', 'patientid', 'City_Code_Patient'], axis = 1)\n",
    "test = test.drop(['Hospital_region_code', 'Bed Grade', 'patientid', 'City_Code_Patient'], axis = 1)"
   ]
  },
  {
   "cell_type": "code",
   "execution_count": 13,
   "id": "general-andrew",
   "metadata": {
    "execution": {
     "iopub.execute_input": "2021-05-12T13:19:10.239628Z",
     "iopub.status.busy": "2021-05-12T13:19:10.238912Z",
     "iopub.status.idle": "2021-05-12T13:19:10.241504Z",
     "shell.execute_reply": "2021-05-12T13:19:10.240871Z"
    },
    "papermill": {
     "duration": 0.053782,
     "end_time": "2021-05-12T13:19:10.241659",
     "exception": false,
     "start_time": "2021-05-12T13:19:10.187877",
     "status": "completed"
    },
    "tags": []
   },
   "outputs": [],
   "source": [
    "# Combine test and train dataset for processing\n",
    "combined = [train, test]"
   ]
  },
  {
   "cell_type": "markdown",
   "id": "revised-twelve",
   "metadata": {
    "papermill": {
     "duration": 0.047486,
     "end_time": "2021-05-12T13:19:10.336016",
     "exception": false,
     "start_time": "2021-05-12T13:19:10.288530",
     "status": "completed"
    },
    "tags": []
   },
   "source": [
    "### 2a Encoding categorical features"
   ]
  },
  {
   "cell_type": "code",
   "execution_count": 14,
   "id": "civilian-clearance",
   "metadata": {
    "execution": {
     "iopub.execute_input": "2021-05-12T13:19:10.434973Z",
     "iopub.status.busy": "2021-05-12T13:19:10.434329Z",
     "iopub.status.idle": "2021-05-12T13:19:10.796115Z",
     "shell.execute_reply": "2021-05-12T13:19:10.796638Z"
    },
    "papermill": {
     "duration": 0.413896,
     "end_time": "2021-05-12T13:19:10.796862",
     "exception": false,
     "start_time": "2021-05-12T13:19:10.382966",
     "status": "completed"
    },
    "tags": []
   },
   "outputs": [],
   "source": [
    "from sklearn.preprocessing import LabelEncoder\n",
    "\n",
    "for dataset in combined:\n",
    "    label = LabelEncoder()\n",
    "    dataset['Department'] = label.fit_transform(dataset['Department'])"
   ]
  },
  {
   "cell_type": "code",
   "execution_count": 15,
   "id": "detected-david",
   "metadata": {
    "execution": {
     "iopub.execute_input": "2021-05-12T13:19:10.895575Z",
     "iopub.status.busy": "2021-05-12T13:19:10.894870Z",
     "iopub.status.idle": "2021-05-12T13:19:10.900744Z",
     "shell.execute_reply": "2021-05-12T13:19:10.900038Z"
    },
    "papermill": {
     "duration": 0.057528,
     "end_time": "2021-05-12T13:19:10.900889",
     "exception": false,
     "start_time": "2021-05-12T13:19:10.843361",
     "status": "completed"
    },
    "tags": []
   },
   "outputs": [
    {
     "data": {
      "text/plain": [
       "array([2, 1, 0, 3, 4])"
      ]
     },
     "execution_count": 15,
     "metadata": {},
     "output_type": "execute_result"
    }
   ],
   "source": [
    "combined[1].Department.unique()"
   ]
  },
  {
   "cell_type": "code",
   "execution_count": 16,
   "id": "intended-basics",
   "metadata": {
    "execution": {
     "iopub.execute_input": "2021-05-12T13:19:11.021219Z",
     "iopub.status.busy": "2021-05-12T13:19:11.016184Z",
     "iopub.status.idle": "2021-05-12T13:19:11.871956Z",
     "shell.execute_reply": "2021-05-12T13:19:11.871323Z"
    },
    "papermill": {
     "duration": 0.924463,
     "end_time": "2021-05-12T13:19:11.872110",
     "exception": false,
     "start_time": "2021-05-12T13:19:10.947647",
     "status": "completed"
    },
    "tags": []
   },
   "outputs": [],
   "source": [
    "# Ward type\n",
    "for dataset in combined:\n",
    "    label = LabelEncoder()\n",
    "    dataset['Hospital_type_code'] = label.fit_transform(dataset['Hospital_type_code'])\n",
    "    dataset['Ward_Facility_Code'] = label.fit_transform(dataset['Ward_Facility_Code'])\n",
    "    dataset['Ward_Type'] = label.fit_transform(dataset['Ward_Type'])\n",
    "    dataset['Type of Admission'] = label.fit_transform(dataset['Type of Admission'])\n",
    "    dataset['Severity of Illness'] = label.fit_transform(dataset['Severity of Illness'])"
   ]
  },
  {
   "cell_type": "code",
   "execution_count": 17,
   "id": "level-valuation",
   "metadata": {
    "execution": {
     "iopub.execute_input": "2021-05-12T13:19:11.991817Z",
     "iopub.status.busy": "2021-05-12T13:19:11.991185Z",
     "iopub.status.idle": "2021-05-12T13:19:11.995715Z",
     "shell.execute_reply": "2021-05-12T13:19:11.995041Z"
    },
    "papermill": {
     "duration": 0.074803,
     "end_time": "2021-05-12T13:19:11.995853",
     "exception": false,
     "start_time": "2021-05-12T13:19:11.921050",
     "status": "completed"
    },
    "tags": []
   },
   "outputs": [
    {
     "data": {
      "text/html": [
       "<div>\n",
       "<style scoped>\n",
       "    .dataframe tbody tr th:only-of-type {\n",
       "        vertical-align: middle;\n",
       "    }\n",
       "\n",
       "    .dataframe tbody tr th {\n",
       "        vertical-align: top;\n",
       "    }\n",
       "\n",
       "    .dataframe thead th {\n",
       "        text-align: right;\n",
       "    }\n",
       "</style>\n",
       "<table border=\"1\" class=\"dataframe\">\n",
       "  <thead>\n",
       "    <tr style=\"text-align: right;\">\n",
       "      <th></th>\n",
       "      <th>case_id</th>\n",
       "      <th>Hospital_code</th>\n",
       "      <th>Hospital_type_code</th>\n",
       "      <th>City_Code_Hospital</th>\n",
       "      <th>Available Extra Rooms in Hospital</th>\n",
       "      <th>Department</th>\n",
       "      <th>Ward_Type</th>\n",
       "      <th>Ward_Facility_Code</th>\n",
       "      <th>Type of Admission</th>\n",
       "      <th>Severity of Illness</th>\n",
       "      <th>Visitors with Patient</th>\n",
       "      <th>Age</th>\n",
       "      <th>Admission_Deposit</th>\n",
       "      <th>Stay</th>\n",
       "    </tr>\n",
       "  </thead>\n",
       "  <tbody>\n",
       "    <tr>\n",
       "      <th>0</th>\n",
       "      <td>1</td>\n",
       "      <td>8</td>\n",
       "      <td>2</td>\n",
       "      <td>3</td>\n",
       "      <td>3</td>\n",
       "      <td>3</td>\n",
       "      <td>2</td>\n",
       "      <td>5</td>\n",
       "      <td>0</td>\n",
       "      <td>0</td>\n",
       "      <td>2</td>\n",
       "      <td>51-60</td>\n",
       "      <td>4911.0</td>\n",
       "      <td>0-10</td>\n",
       "    </tr>\n",
       "    <tr>\n",
       "      <th>1</th>\n",
       "      <td>2</td>\n",
       "      <td>2</td>\n",
       "      <td>2</td>\n",
       "      <td>5</td>\n",
       "      <td>2</td>\n",
       "      <td>3</td>\n",
       "      <td>3</td>\n",
       "      <td>5</td>\n",
       "      <td>1</td>\n",
       "      <td>0</td>\n",
       "      <td>2</td>\n",
       "      <td>51-60</td>\n",
       "      <td>5954.0</td>\n",
       "      <td>41-50</td>\n",
       "    </tr>\n",
       "    <tr>\n",
       "      <th>2</th>\n",
       "      <td>3</td>\n",
       "      <td>10</td>\n",
       "      <td>4</td>\n",
       "      <td>1</td>\n",
       "      <td>2</td>\n",
       "      <td>1</td>\n",
       "      <td>3</td>\n",
       "      <td>4</td>\n",
       "      <td>1</td>\n",
       "      <td>0</td>\n",
       "      <td>2</td>\n",
       "      <td>51-60</td>\n",
       "      <td>4745.0</td>\n",
       "      <td>31-40</td>\n",
       "    </tr>\n",
       "    <tr>\n",
       "      <th>3</th>\n",
       "      <td>4</td>\n",
       "      <td>26</td>\n",
       "      <td>1</td>\n",
       "      <td>2</td>\n",
       "      <td>2</td>\n",
       "      <td>3</td>\n",
       "      <td>2</td>\n",
       "      <td>3</td>\n",
       "      <td>1</td>\n",
       "      <td>0</td>\n",
       "      <td>2</td>\n",
       "      <td>51-60</td>\n",
       "      <td>7272.0</td>\n",
       "      <td>41-50</td>\n",
       "    </tr>\n",
       "    <tr>\n",
       "      <th>4</th>\n",
       "      <td>5</td>\n",
       "      <td>26</td>\n",
       "      <td>1</td>\n",
       "      <td>2</td>\n",
       "      <td>2</td>\n",
       "      <td>3</td>\n",
       "      <td>3</td>\n",
       "      <td>3</td>\n",
       "      <td>1</td>\n",
       "      <td>0</td>\n",
       "      <td>2</td>\n",
       "      <td>51-60</td>\n",
       "      <td>5558.0</td>\n",
       "      <td>41-50</td>\n",
       "    </tr>\n",
       "    <tr>\n",
       "      <th>...</th>\n",
       "      <td>...</td>\n",
       "      <td>...</td>\n",
       "      <td>...</td>\n",
       "      <td>...</td>\n",
       "      <td>...</td>\n",
       "      <td>...</td>\n",
       "      <td>...</td>\n",
       "      <td>...</td>\n",
       "      <td>...</td>\n",
       "      <td>...</td>\n",
       "      <td>...</td>\n",
       "      <td>...</td>\n",
       "      <td>...</td>\n",
       "      <td>...</td>\n",
       "    </tr>\n",
       "    <tr>\n",
       "      <th>318433</th>\n",
       "      <td>318434</td>\n",
       "      <td>6</td>\n",
       "      <td>0</td>\n",
       "      <td>6</td>\n",
       "      <td>3</td>\n",
       "      <td>3</td>\n",
       "      <td>1</td>\n",
       "      <td>5</td>\n",
       "      <td>0</td>\n",
       "      <td>2</td>\n",
       "      <td>3</td>\n",
       "      <td>41-50</td>\n",
       "      <td>4144.0</td>\n",
       "      <td>11-20</td>\n",
       "    </tr>\n",
       "    <tr>\n",
       "      <th>318434</th>\n",
       "      <td>318435</td>\n",
       "      <td>24</td>\n",
       "      <td>0</td>\n",
       "      <td>1</td>\n",
       "      <td>2</td>\n",
       "      <td>1</td>\n",
       "      <td>1</td>\n",
       "      <td>4</td>\n",
       "      <td>2</td>\n",
       "      <td>2</td>\n",
       "      <td>4</td>\n",
       "      <td>81-90</td>\n",
       "      <td>6699.0</td>\n",
       "      <td>31-40</td>\n",
       "    </tr>\n",
       "    <tr>\n",
       "      <th>318435</th>\n",
       "      <td>318436</td>\n",
       "      <td>7</td>\n",
       "      <td>0</td>\n",
       "      <td>4</td>\n",
       "      <td>3</td>\n",
       "      <td>2</td>\n",
       "      <td>2</td>\n",
       "      <td>5</td>\n",
       "      <td>0</td>\n",
       "      <td>1</td>\n",
       "      <td>3</td>\n",
       "      <td>71-80</td>\n",
       "      <td>4235.0</td>\n",
       "      <td>11-20</td>\n",
       "    </tr>\n",
       "    <tr>\n",
       "      <th>318436</th>\n",
       "      <td>318437</td>\n",
       "      <td>11</td>\n",
       "      <td>1</td>\n",
       "      <td>2</td>\n",
       "      <td>3</td>\n",
       "      <td>1</td>\n",
       "      <td>1</td>\n",
       "      <td>3</td>\n",
       "      <td>1</td>\n",
       "      <td>1</td>\n",
       "      <td>5</td>\n",
       "      <td>11-20</td>\n",
       "      <td>3761.0</td>\n",
       "      <td>11-20</td>\n",
       "    </tr>\n",
       "    <tr>\n",
       "      <th>318437</th>\n",
       "      <td>318438</td>\n",
       "      <td>19</td>\n",
       "      <td>0</td>\n",
       "      <td>7</td>\n",
       "      <td>5</td>\n",
       "      <td>2</td>\n",
       "      <td>1</td>\n",
       "      <td>2</td>\n",
       "      <td>0</td>\n",
       "      <td>1</td>\n",
       "      <td>2</td>\n",
       "      <td>11-20</td>\n",
       "      <td>4752.0</td>\n",
       "      <td>0-10</td>\n",
       "    </tr>\n",
       "  </tbody>\n",
       "</table>\n",
       "<p>318438 rows × 14 columns</p>\n",
       "</div>"
      ],
      "text/plain": [
       "        case_id  Hospital_code  Hospital_type_code  City_Code_Hospital  \\\n",
       "0             1              8                   2                   3   \n",
       "1             2              2                   2                   5   \n",
       "2             3             10                   4                   1   \n",
       "3             4             26                   1                   2   \n",
       "4             5             26                   1                   2   \n",
       "...         ...            ...                 ...                 ...   \n",
       "318433   318434              6                   0                   6   \n",
       "318434   318435             24                   0                   1   \n",
       "318435   318436              7                   0                   4   \n",
       "318436   318437             11                   1                   2   \n",
       "318437   318438             19                   0                   7   \n",
       "\n",
       "        Available Extra Rooms in Hospital  Department  Ward_Type  \\\n",
       "0                                       3           3          2   \n",
       "1                                       2           3          3   \n",
       "2                                       2           1          3   \n",
       "3                                       2           3          2   \n",
       "4                                       2           3          3   \n",
       "...                                   ...         ...        ...   \n",
       "318433                                  3           3          1   \n",
       "318434                                  2           1          1   \n",
       "318435                                  3           2          2   \n",
       "318436                                  3           1          1   \n",
       "318437                                  5           2          1   \n",
       "\n",
       "        Ward_Facility_Code  Type of Admission  Severity of Illness  \\\n",
       "0                        5                  0                    0   \n",
       "1                        5                  1                    0   \n",
       "2                        4                  1                    0   \n",
       "3                        3                  1                    0   \n",
       "4                        3                  1                    0   \n",
       "...                    ...                ...                  ...   \n",
       "318433                   5                  0                    2   \n",
       "318434                   4                  2                    2   \n",
       "318435                   5                  0                    1   \n",
       "318436                   3                  1                    1   \n",
       "318437                   2                  0                    1   \n",
       "\n",
       "        Visitors with Patient    Age  Admission_Deposit   Stay  \n",
       "0                           2  51-60             4911.0   0-10  \n",
       "1                           2  51-60             5954.0  41-50  \n",
       "2                           2  51-60             4745.0  31-40  \n",
       "3                           2  51-60             7272.0  41-50  \n",
       "4                           2  51-60             5558.0  41-50  \n",
       "...                       ...    ...                ...    ...  \n",
       "318433                      3  41-50             4144.0  11-20  \n",
       "318434                      4  81-90             6699.0  31-40  \n",
       "318435                      3  71-80             4235.0  11-20  \n",
       "318436                      5  11-20             3761.0  11-20  \n",
       "318437                      2  11-20             4752.0   0-10  \n",
       "\n",
       "[318438 rows x 14 columns]"
      ]
     },
     "execution_count": 17,
     "metadata": {},
     "output_type": "execute_result"
    }
   ],
   "source": [
    "combined[0]"
   ]
  },
  {
   "cell_type": "markdown",
   "id": "suspected-reynolds",
   "metadata": {
    "papermill": {
     "duration": 0.047819,
     "end_time": "2021-05-12T13:19:12.091532",
     "exception": false,
     "start_time": "2021-05-12T13:19:12.043713",
     "status": "completed"
    },
    "tags": []
   },
   "source": [
    "### 2b Binning features"
   ]
  },
  {
   "cell_type": "code",
   "execution_count": 18,
   "id": "dietary-copying",
   "metadata": {
    "execution": {
     "iopub.execute_input": "2021-05-12T13:19:12.191769Z",
     "iopub.status.busy": "2021-05-12T13:19:12.191068Z",
     "iopub.status.idle": "2021-05-12T13:19:12.212419Z",
     "shell.execute_reply": "2021-05-12T13:19:12.212900Z"
    },
    "papermill": {
     "duration": 0.07313,
     "end_time": "2021-05-12T13:19:12.213062",
     "exception": false,
     "start_time": "2021-05-12T13:19:12.139932",
     "status": "completed"
    },
    "tags": []
   },
   "outputs": [
    {
     "data": {
      "text/html": [
       "<div>\n",
       "<style scoped>\n",
       "    .dataframe tbody tr th:only-of-type {\n",
       "        vertical-align: middle;\n",
       "    }\n",
       "\n",
       "    .dataframe tbody tr th {\n",
       "        vertical-align: top;\n",
       "    }\n",
       "\n",
       "    .dataframe thead th {\n",
       "        text-align: right;\n",
       "    }\n",
       "</style>\n",
       "<table border=\"1\" class=\"dataframe\">\n",
       "  <thead>\n",
       "    <tr style=\"text-align: right;\">\n",
       "      <th></th>\n",
       "      <th>case_id</th>\n",
       "      <th>Hospital_code</th>\n",
       "      <th>Hospital_type_code</th>\n",
       "      <th>City_Code_Hospital</th>\n",
       "      <th>Available Extra Rooms in Hospital</th>\n",
       "      <th>Department</th>\n",
       "      <th>Ward_Type</th>\n",
       "      <th>Ward_Facility_Code</th>\n",
       "      <th>Type of Admission</th>\n",
       "      <th>Severity of Illness</th>\n",
       "      <th>Visitors with Patient</th>\n",
       "      <th>Age</th>\n",
       "      <th>Admission_Deposit</th>\n",
       "    </tr>\n",
       "  </thead>\n",
       "  <tbody>\n",
       "    <tr>\n",
       "      <th>0</th>\n",
       "      <td>318439</td>\n",
       "      <td>21</td>\n",
       "      <td>2</td>\n",
       "      <td>3</td>\n",
       "      <td>3</td>\n",
       "      <td>2</td>\n",
       "      <td>3</td>\n",
       "      <td>0</td>\n",
       "      <td>0</td>\n",
       "      <td>2</td>\n",
       "      <td>2</td>\n",
       "      <td>71-80</td>\n",
       "      <td>3095.0</td>\n",
       "    </tr>\n",
       "    <tr>\n",
       "      <th>1</th>\n",
       "      <td>318440</td>\n",
       "      <td>29</td>\n",
       "      <td>0</td>\n",
       "      <td>4</td>\n",
       "      <td>2</td>\n",
       "      <td>2</td>\n",
       "      <td>3</td>\n",
       "      <td>5</td>\n",
       "      <td>1</td>\n",
       "      <td>2</td>\n",
       "      <td>4</td>\n",
       "      <td>71-80</td>\n",
       "      <td>4018.0</td>\n",
       "    </tr>\n",
       "    <tr>\n",
       "      <th>2</th>\n",
       "      <td>318441</td>\n",
       "      <td>26</td>\n",
       "      <td>1</td>\n",
       "      <td>2</td>\n",
       "      <td>3</td>\n",
       "      <td>2</td>\n",
       "      <td>1</td>\n",
       "      <td>3</td>\n",
       "      <td>0</td>\n",
       "      <td>2</td>\n",
       "      <td>3</td>\n",
       "      <td>71-80</td>\n",
       "      <td>4492.0</td>\n",
       "    </tr>\n",
       "    <tr>\n",
       "      <th>3</th>\n",
       "      <td>318442</td>\n",
       "      <td>6</td>\n",
       "      <td>0</td>\n",
       "      <td>6</td>\n",
       "      <td>3</td>\n",
       "      <td>2</td>\n",
       "      <td>1</td>\n",
       "      <td>5</td>\n",
       "      <td>1</td>\n",
       "      <td>2</td>\n",
       "      <td>3</td>\n",
       "      <td>71-80</td>\n",
       "      <td>4173.0</td>\n",
       "    </tr>\n",
       "    <tr>\n",
       "      <th>4</th>\n",
       "      <td>318443</td>\n",
       "      <td>28</td>\n",
       "      <td>1</td>\n",
       "      <td>11</td>\n",
       "      <td>2</td>\n",
       "      <td>2</td>\n",
       "      <td>2</td>\n",
       "      <td>5</td>\n",
       "      <td>1</td>\n",
       "      <td>2</td>\n",
       "      <td>4</td>\n",
       "      <td>71-80</td>\n",
       "      <td>4161.0</td>\n",
       "    </tr>\n",
       "    <tr>\n",
       "      <th>...</th>\n",
       "      <td>...</td>\n",
       "      <td>...</td>\n",
       "      <td>...</td>\n",
       "      <td>...</td>\n",
       "      <td>...</td>\n",
       "      <td>...</td>\n",
       "      <td>...</td>\n",
       "      <td>...</td>\n",
       "      <td>...</td>\n",
       "      <td>...</td>\n",
       "      <td>...</td>\n",
       "      <td>...</td>\n",
       "      <td>...</td>\n",
       "    </tr>\n",
       "    <tr>\n",
       "      <th>137052</th>\n",
       "      <td>455491</td>\n",
       "      <td>11</td>\n",
       "      <td>1</td>\n",
       "      <td>2</td>\n",
       "      <td>4</td>\n",
       "      <td>1</td>\n",
       "      <td>1</td>\n",
       "      <td>3</td>\n",
       "      <td>0</td>\n",
       "      <td>1</td>\n",
       "      <td>4</td>\n",
       "      <td>41-50</td>\n",
       "      <td>6313.0</td>\n",
       "    </tr>\n",
       "    <tr>\n",
       "      <th>137053</th>\n",
       "      <td>455492</td>\n",
       "      <td>25</td>\n",
       "      <td>4</td>\n",
       "      <td>1</td>\n",
       "      <td>2</td>\n",
       "      <td>3</td>\n",
       "      <td>2</td>\n",
       "      <td>4</td>\n",
       "      <td>0</td>\n",
       "      <td>2</td>\n",
       "      <td>2</td>\n",
       "      <td>0-10</td>\n",
       "      <td>3510.0</td>\n",
       "    </tr>\n",
       "    <tr>\n",
       "      <th>137054</th>\n",
       "      <td>455493</td>\n",
       "      <td>30</td>\n",
       "      <td>2</td>\n",
       "      <td>3</td>\n",
       "      <td>2</td>\n",
       "      <td>1</td>\n",
       "      <td>2</td>\n",
       "      <td>0</td>\n",
       "      <td>2</td>\n",
       "      <td>1</td>\n",
       "      <td>2</td>\n",
       "      <td>0-10</td>\n",
       "      <td>7190.0</td>\n",
       "    </tr>\n",
       "    <tr>\n",
       "      <th>137055</th>\n",
       "      <td>455494</td>\n",
       "      <td>5</td>\n",
       "      <td>0</td>\n",
       "      <td>1</td>\n",
       "      <td>2</td>\n",
       "      <td>1</td>\n",
       "      <td>2</td>\n",
       "      <td>4</td>\n",
       "      <td>1</td>\n",
       "      <td>1</td>\n",
       "      <td>2</td>\n",
       "      <td>41-50</td>\n",
       "      <td>5435.0</td>\n",
       "    </tr>\n",
       "    <tr>\n",
       "      <th>137056</th>\n",
       "      <td>455495</td>\n",
       "      <td>6</td>\n",
       "      <td>0</td>\n",
       "      <td>6</td>\n",
       "      <td>3</td>\n",
       "      <td>2</td>\n",
       "      <td>1</td>\n",
       "      <td>5</td>\n",
       "      <td>1</td>\n",
       "      <td>0</td>\n",
       "      <td>5</td>\n",
       "      <td>51-60</td>\n",
       "      <td>4702.0</td>\n",
       "    </tr>\n",
       "  </tbody>\n",
       "</table>\n",
       "<p>137057 rows × 13 columns</p>\n",
       "</div>"
      ],
      "text/plain": [
       "        case_id  Hospital_code  Hospital_type_code  City_Code_Hospital  \\\n",
       "0        318439             21                   2                   3   \n",
       "1        318440             29                   0                   4   \n",
       "2        318441             26                   1                   2   \n",
       "3        318442              6                   0                   6   \n",
       "4        318443             28                   1                  11   \n",
       "...         ...            ...                 ...                 ...   \n",
       "137052   455491             11                   1                   2   \n",
       "137053   455492             25                   4                   1   \n",
       "137054   455493             30                   2                   3   \n",
       "137055   455494              5                   0                   1   \n",
       "137056   455495              6                   0                   6   \n",
       "\n",
       "        Available Extra Rooms in Hospital  Department  Ward_Type  \\\n",
       "0                                       3           2          3   \n",
       "1                                       2           2          3   \n",
       "2                                       3           2          1   \n",
       "3                                       3           2          1   \n",
       "4                                       2           2          2   \n",
       "...                                   ...         ...        ...   \n",
       "137052                                  4           1          1   \n",
       "137053                                  2           3          2   \n",
       "137054                                  2           1          2   \n",
       "137055                                  2           1          2   \n",
       "137056                                  3           2          1   \n",
       "\n",
       "        Ward_Facility_Code  Type of Admission  Severity of Illness  \\\n",
       "0                        0                  0                    2   \n",
       "1                        5                  1                    2   \n",
       "2                        3                  0                    2   \n",
       "3                        5                  1                    2   \n",
       "4                        5                  1                    2   \n",
       "...                    ...                ...                  ...   \n",
       "137052                   3                  0                    1   \n",
       "137053                   4                  0                    2   \n",
       "137054                   0                  2                    1   \n",
       "137055                   4                  1                    1   \n",
       "137056                   5                  1                    0   \n",
       "\n",
       "        Visitors with Patient    Age  Admission_Deposit  \n",
       "0                           2  71-80             3095.0  \n",
       "1                           4  71-80             4018.0  \n",
       "2                           3  71-80             4492.0  \n",
       "3                           3  71-80             4173.0  \n",
       "4                           4  71-80             4161.0  \n",
       "...                       ...    ...                ...  \n",
       "137052                      4  41-50             6313.0  \n",
       "137053                      2   0-10             3510.0  \n",
       "137054                      2   0-10             7190.0  \n",
       "137055                      2  41-50             5435.0  \n",
       "137056                      5  51-60             4702.0  \n",
       "\n",
       "[137057 rows x 13 columns]"
      ]
     },
     "execution_count": 18,
     "metadata": {},
     "output_type": "execute_result"
    }
   ],
   "source": [
    "combined[1]"
   ]
  },
  {
   "cell_type": "code",
   "execution_count": 19,
   "id": "upset-problem",
   "metadata": {
    "execution": {
     "iopub.execute_input": "2021-05-12T13:19:12.313885Z",
     "iopub.status.busy": "2021-05-12T13:19:12.313300Z",
     "iopub.status.idle": "2021-05-12T13:19:12.692990Z",
     "shell.execute_reply": "2021-05-12T13:19:12.692304Z"
    },
    "papermill": {
     "duration": 0.431432,
     "end_time": "2021-05-12T13:19:12.693159",
     "exception": false,
     "start_time": "2021-05-12T13:19:12.261727",
     "status": "completed"
    },
    "tags": []
   },
   "outputs": [
    {
     "data": {
      "text/plain": [
       "<AxesSubplot:>"
      ]
     },
     "execution_count": 19,
     "metadata": {},
     "output_type": "execute_result"
    },
    {
     "data": {
      "image/png": "[encoded data removed]",
      "text/plain": [
       "<Figure size 432x288 with 1 Axes>"
      ]
     },
     "metadata": {},
     "output_type": "display_data"
    }
   ],
   "source": [
    "# Check age distribution\n",
    "combined[0].Age.hist()"
   ]
  },
  {
   "cell_type": "code",
   "execution_count": 20,
   "id": "quick-pierre",
   "metadata": {
    "execution": {
     "iopub.execute_input": "2021-05-12T13:19:12.817292Z",
     "iopub.status.busy": "2021-05-12T13:19:12.816585Z",
     "iopub.status.idle": "2021-05-12T13:19:12.827054Z",
     "shell.execute_reply": "2021-05-12T13:19:12.826458Z"
    },
    "papermill": {
     "duration": 0.083456,
     "end_time": "2021-05-12T13:19:12.827235",
     "exception": false,
     "start_time": "2021-05-12T13:19:12.743779",
     "status": "completed"
    },
    "tags": []
   },
   "outputs": [
    {
     "data": {
      "text/plain": [
       "array(['51-60', '71-80', '31-40', '41-50', '81-90', '61-70', '21-30',\n",
       "       '11-20', '0-10', '91-100'], dtype=object)"
      ]
     },
     "execution_count": 20,
     "metadata": {},
     "output_type": "execute_result"
    }
   ],
   "source": [
    "combined[0].Age.unique()"
   ]
  },
  {
   "cell_type": "code",
   "execution_count": 21,
   "id": "thirty-spank",
   "metadata": {
    "execution": {
     "iopub.execute_input": "2021-05-12T13:19:12.935629Z",
     "iopub.status.busy": "2021-05-12T13:19:12.934920Z",
     "iopub.status.idle": "2021-05-12T13:19:12.938365Z",
     "shell.execute_reply": "2021-05-12T13:19:12.937785Z"
    },
    "papermill": {
     "duration": 0.060152,
     "end_time": "2021-05-12T13:19:12.938521",
     "exception": false,
     "start_time": "2021-05-12T13:19:12.878369",
     "status": "completed"
    },
    "tags": []
   },
   "outputs": [],
   "source": [
    "age_dict = {'0-10': 0, '11-20': 1, '21-30': 2, '31-40': 3, '41-50': 4, '51-60': 5, '61-70': 6, '71-80': 7, '81-90': 8, '91-100': 9}"
   ]
  },
  {
   "cell_type": "code",
   "execution_count": 22,
   "id": "gorgeous-leone",
   "metadata": {
    "execution": {
     "iopub.execute_input": "2021-05-12T13:19:13.079066Z",
     "iopub.status.busy": "2021-05-12T13:19:13.077898Z",
     "iopub.status.idle": "2021-05-12T13:19:13.547416Z",
     "shell.execute_reply": "2021-05-12T13:19:13.546815Z"
    },
    "papermill": {
     "duration": 0.55746,
     "end_time": "2021-05-12T13:19:13.547563",
     "exception": false,
     "start_time": "2021-05-12T13:19:12.990103",
     "status": "completed"
    },
    "tags": []
   },
   "outputs": [],
   "source": [
    "for dataset in combined:\n",
    "    dataset['Age'] = dataset['Age'].replace(age_dict.keys(), age_dict.values())"
   ]
  },
  {
   "cell_type": "code",
   "execution_count": 23,
   "id": "macro-wallet",
   "metadata": {
    "execution": {
     "iopub.execute_input": "2021-05-12T13:19:13.671852Z",
     "iopub.status.busy": "2021-05-12T13:19:13.671217Z",
     "iopub.status.idle": "2021-05-12T13:19:13.682223Z",
     "shell.execute_reply": "2021-05-12T13:19:13.681651Z"
    },
    "papermill": {
     "duration": 0.083857,
     "end_time": "2021-05-12T13:19:13.682367",
     "exception": false,
     "start_time": "2021-05-12T13:19:13.598510",
     "status": "completed"
    },
    "tags": []
   },
   "outputs": [
    {
     "data": {
      "text/plain": [
       "array(['0-10', '41-50', '31-40', '11-20', '51-60', '21-30', '71-80',\n",
       "       'More than 100 Days', '81-90', '61-70', '91-100'], dtype=object)"
      ]
     },
     "execution_count": 23,
     "metadata": {},
     "output_type": "execute_result"
    }
   ],
   "source": [
    "combined[0].Stay.unique()"
   ]
  },
  {
   "cell_type": "code",
   "execution_count": 24,
   "id": "lightweight-burns",
   "metadata": {
    "execution": {
     "iopub.execute_input": "2021-05-12T13:19:13.791733Z",
     "iopub.status.busy": "2021-05-12T13:19:13.791103Z",
     "iopub.status.idle": "2021-05-12T13:19:13.794580Z",
     "shell.execute_reply": "2021-05-12T13:19:13.793911Z"
    },
    "papermill": {
     "duration": 0.060403,
     "end_time": "2021-05-12T13:19:13.794729",
     "exception": false,
     "start_time": "2021-05-12T13:19:13.734326",
     "status": "completed"
    },
    "tags": []
   },
   "outputs": [],
   "source": [
    "stay_dict = {'0-10': 0, '11-20': 1, '21-30': 2, '31-40': 3, '41-50': 4, '51-60': 5, '61-70': 6, '71-80': 7, '81-90': 8, '91-100': 9, 'More than 100 Days': 10}"
   ]
  },
  {
   "cell_type": "code",
   "execution_count": 25,
   "id": "prime-force",
   "metadata": {
    "execution": {
     "iopub.execute_input": "2021-05-12T13:19:13.938200Z",
     "iopub.status.busy": "2021-05-12T13:19:13.937040Z",
     "iopub.status.idle": "2021-05-12T13:19:14.276564Z",
     "shell.execute_reply": "2021-05-12T13:19:14.275864Z"
    },
    "papermill": {
     "duration": 0.430037,
     "end_time": "2021-05-12T13:19:14.276723",
     "exception": false,
     "start_time": "2021-05-12T13:19:13.846686",
     "status": "completed"
    },
    "tags": []
   },
   "outputs": [],
   "source": [
    "combined[0]['Stay'] = combined[0]['Stay'].replace(stay_dict.keys(), stay_dict.values())"
   ]
  },
  {
   "cell_type": "code",
   "execution_count": 26,
   "id": "fuzzy-aviation",
   "metadata": {
    "execution": {
     "iopub.execute_input": "2021-05-12T13:19:14.403370Z",
     "iopub.status.busy": "2021-05-12T13:19:14.402705Z",
     "iopub.status.idle": "2021-05-12T13:19:14.589187Z",
     "shell.execute_reply": "2021-05-12T13:19:14.588548Z"
    },
    "papermill": {
     "duration": 0.26055,
     "end_time": "2021-05-12T13:19:14.589325",
     "exception": false,
     "start_time": "2021-05-12T13:19:14.328775",
     "status": "completed"
    },
    "tags": []
   },
   "outputs": [
    {
     "data": {
      "text/plain": [
       "<AxesSubplot:>"
      ]
     },
     "execution_count": 26,
     "metadata": {},
     "output_type": "execute_result"
    },
    {
     "data": {
      "image/png": "[encoded data removed]",
      "text/plain": [
       "<Figure size 432x288 with 1 Axes>"
      ]
     },
     "metadata": {},
     "output_type": "display_data"
    }
   ],
   "source": [
    "combined[0].Age.hist()"
   ]
  },
  {
   "cell_type": "code",
   "execution_count": 27,
   "id": "diverse-latin",
   "metadata": {
    "execution": {
     "iopub.execute_input": "2021-05-12T13:19:14.700671Z",
     "iopub.status.busy": "2021-05-12T13:19:14.699991Z",
     "iopub.status.idle": "2021-05-12T13:19:14.702740Z",
     "shell.execute_reply": "2021-05-12T13:19:14.703585Z"
    },
    "papermill": {
     "duration": 0.061804,
     "end_time": "2021-05-12T13:19:14.703829",
     "exception": false,
     "start_time": "2021-05-12T13:19:14.642025",
     "status": "completed"
    },
    "tags": []
   },
   "outputs": [
    {
     "name": "stdout",
     "output_type": "stream",
     "text": [
      "(318438, 14)\n",
      "(137057, 13)\n"
     ]
    }
   ],
   "source": [
    "for dataset in combined:\n",
    "    print(dataset.shape)"
   ]
  },
  {
   "cell_type": "code",
   "execution_count": 28,
   "id": "binary-modem",
   "metadata": {
    "execution": {
     "iopub.execute_input": "2021-05-12T13:19:14.815801Z",
     "iopub.status.busy": "2021-05-12T13:19:14.815165Z",
     "iopub.status.idle": "2021-05-12T13:19:14.834369Z",
     "shell.execute_reply": "2021-05-12T13:19:14.833839Z"
    },
    "papermill": {
     "duration": 0.075706,
     "end_time": "2021-05-12T13:19:14.834523",
     "exception": false,
     "start_time": "2021-05-12T13:19:14.758817",
     "status": "completed"
    },
    "tags": []
   },
   "outputs": [
    {
     "name": "stdout",
     "output_type": "stream",
     "text": [
      "<class 'pandas.core.frame.DataFrame'>\n",
      "RangeIndex: 137057 entries, 0 to 137056\n",
      "Data columns (total 13 columns):\n",
      " #   Column                             Non-Null Count   Dtype  \n",
      "---  ------                             --------------   -----  \n",
      " 0   case_id                            137057 non-null  int64  \n",
      " 1   Hospital_code                      137057 non-null  int64  \n",
      " 2   Hospital_type_code                 137057 non-null  int32  \n",
      " 3   City_Code_Hospital                 137057 non-null  int64  \n",
      " 4   Available Extra Rooms in Hospital  137057 non-null  int64  \n",
      " 5   Department                         137057 non-null  int32  \n",
      " 6   Ward_Type                          137057 non-null  int32  \n",
      " 7   Ward_Facility_Code                 137057 non-null  int32  \n",
      " 8   Type of Admission                  137057 non-null  int32  \n",
      " 9   Severity of Illness                137057 non-null  int32  \n",
      " 10  Visitors with Patient              137057 non-null  int64  \n",
      " 11  Age                                137057 non-null  int64  \n",
      " 12  Admission_Deposit                  137057 non-null  float64\n",
      "dtypes: float64(1), int32(6), int64(6)\n",
      "memory usage: 10.5 MB\n"
     ]
    }
   ],
   "source": [
    "combined[1].info()"
   ]
  },
  {
   "cell_type": "markdown",
   "id": "indirect-communication",
   "metadata": {
    "papermill": {
     "duration": 0.05743,
     "end_time": "2021-05-12T13:19:14.946685",
     "exception": false,
     "start_time": "2021-05-12T13:19:14.889255",
     "status": "completed"
    },
    "tags": []
   },
   "source": [
    "### 2c. Scaling numerical data"
   ]
  },
  {
   "cell_type": "code",
   "execution_count": 29,
   "id": "protective-stadium",
   "metadata": {
    "execution": {
     "iopub.execute_input": "2021-05-12T13:19:15.062302Z",
     "iopub.status.busy": "2021-05-12T13:19:15.061297Z",
     "iopub.status.idle": "2021-05-12T13:19:15.063840Z",
     "shell.execute_reply": "2021-05-12T13:19:15.064576Z"
    },
    "papermill": {
     "duration": 0.063385,
     "end_time": "2021-05-12T13:19:15.064843",
     "exception": false,
     "start_time": "2021-05-12T13:19:15.001458",
     "status": "completed"
    },
    "tags": []
   },
   "outputs": [],
   "source": [
    "columns_list = ['Type of Admission', 'Available Extra Rooms in Hospital', 'Visitors with Patient', 'Admission_Deposit']"
   ]
  },
  {
   "cell_type": "code",
   "execution_count": 30,
   "id": "surgical-egyptian",
   "metadata": {
    "execution": {
     "iopub.execute_input": "2021-05-12T13:19:15.180769Z",
     "iopub.status.busy": "2021-05-12T13:19:15.180102Z",
     "iopub.status.idle": "2021-05-12T13:19:15.184972Z",
     "shell.execute_reply": "2021-05-12T13:19:15.185512Z"
    },
    "papermill": {
     "duration": 0.06386,
     "end_time": "2021-05-12T13:19:15.185692",
     "exception": false,
     "start_time": "2021-05-12T13:19:15.121832",
     "status": "completed"
    },
    "tags": []
   },
   "outputs": [
    {
     "data": {
      "text/plain": [
       "4"
      ]
     },
     "execution_count": 30,
     "metadata": {},
     "output_type": "execute_result"
    }
   ],
   "source": [
    "len(columns_list)"
   ]
  },
  {
   "cell_type": "code",
   "execution_count": 31,
   "id": "convertible-detection",
   "metadata": {
    "execution": {
     "iopub.execute_input": "2021-05-12T13:19:15.299222Z",
     "iopub.status.busy": "2021-05-12T13:19:15.298547Z",
     "iopub.status.idle": "2021-05-12T13:19:15.920738Z",
     "shell.execute_reply": "2021-05-12T13:19:15.921270Z"
    },
    "papermill": {
     "duration": 0.681564,
     "end_time": "2021-05-12T13:19:15.921490",
     "exception": false,
     "start_time": "2021-05-12T13:19:15.239926",
     "status": "completed"
    },
    "tags": []
   },
   "outputs": [],
   "source": [
    "from sklearn.preprocessing import StandardScaler\n",
    "\n",
    "ss= StandardScaler()\n",
    "\n",
    "for dataset in combined:\n",
    "    dataset[columns_list]= ss.fit_transform(dataset[columns_list].values)\n"
   ]
  },
  {
   "cell_type": "code",
   "execution_count": 32,
   "id": "developing-reggae",
   "metadata": {
    "execution": {
     "iopub.execute_input": "2021-05-12T13:19:16.040715Z",
     "iopub.status.busy": "2021-05-12T13:19:16.039767Z",
     "iopub.status.idle": "2021-05-12T13:19:16.064945Z",
     "shell.execute_reply": "2021-05-12T13:19:16.065438Z"
    },
    "papermill": {
     "duration": 0.085437,
     "end_time": "2021-05-12T13:19:16.065631",
     "exception": false,
     "start_time": "2021-05-12T13:19:15.980194",
     "status": "completed"
    },
    "tags": []
   },
   "outputs": [
    {
     "data": {
      "text/html": [
       "<div>\n",
       "<style scoped>\n",
       "    .dataframe tbody tr th:only-of-type {\n",
       "        vertical-align: middle;\n",
       "    }\n",
       "\n",
       "    .dataframe tbody tr th {\n",
       "        vertical-align: top;\n",
       "    }\n",
       "\n",
       "    .dataframe thead th {\n",
       "        text-align: right;\n",
       "    }\n",
       "</style>\n",
       "<table border=\"1\" class=\"dataframe\">\n",
       "  <thead>\n",
       "    <tr style=\"text-align: right;\">\n",
       "      <th></th>\n",
       "      <th>case_id</th>\n",
       "      <th>Hospital_code</th>\n",
       "      <th>Hospital_type_code</th>\n",
       "      <th>City_Code_Hospital</th>\n",
       "      <th>Available Extra Rooms in Hospital</th>\n",
       "      <th>Department</th>\n",
       "      <th>Ward_Type</th>\n",
       "      <th>Ward_Facility_Code</th>\n",
       "      <th>Type of Admission</th>\n",
       "      <th>Severity of Illness</th>\n",
       "      <th>Visitors with Patient</th>\n",
       "      <th>Age</th>\n",
       "      <th>Admission_Deposit</th>\n",
       "      <th>Stay</th>\n",
       "    </tr>\n",
       "  </thead>\n",
       "  <tbody>\n",
       "    <tr>\n",
       "      <th>0</th>\n",
       "      <td>1</td>\n",
       "      <td>8</td>\n",
       "      <td>2</td>\n",
       "      <td>3</td>\n",
       "      <td>-0.169177</td>\n",
       "      <td>3</td>\n",
       "      <td>2</td>\n",
       "      <td>5</td>\n",
       "      <td>-1.136165</td>\n",
       "      <td>0</td>\n",
       "      <td>-0.727923</td>\n",
       "      <td>5</td>\n",
       "      <td>0.027835</td>\n",
       "      <td>0</td>\n",
       "    </tr>\n",
       "    <tr>\n",
       "      <th>1</th>\n",
       "      <td>2</td>\n",
       "      <td>2</td>\n",
       "      <td>2</td>\n",
       "      <td>5</td>\n",
       "      <td>-1.025217</td>\n",
       "      <td>3</td>\n",
       "      <td>3</td>\n",
       "      <td>5</td>\n",
       "      <td>0.315306</td>\n",
       "      <td>0</td>\n",
       "      <td>-0.727923</td>\n",
       "      <td>5</td>\n",
       "      <td>0.987556</td>\n",
       "      <td>4</td>\n",
       "    </tr>\n",
       "    <tr>\n",
       "      <th>2</th>\n",
       "      <td>3</td>\n",
       "      <td>10</td>\n",
       "      <td>4</td>\n",
       "      <td>1</td>\n",
       "      <td>-1.025217</td>\n",
       "      <td>1</td>\n",
       "      <td>3</td>\n",
       "      <td>4</td>\n",
       "      <td>0.315306</td>\n",
       "      <td>0</td>\n",
       "      <td>-0.727923</td>\n",
       "      <td>5</td>\n",
       "      <td>-0.124910</td>\n",
       "      <td>3</td>\n",
       "    </tr>\n",
       "    <tr>\n",
       "      <th>3</th>\n",
       "      <td>4</td>\n",
       "      <td>26</td>\n",
       "      <td>1</td>\n",
       "      <td>2</td>\n",
       "      <td>-1.025217</td>\n",
       "      <td>3</td>\n",
       "      <td>2</td>\n",
       "      <td>3</td>\n",
       "      <td>0.315306</td>\n",
       "      <td>0</td>\n",
       "      <td>-0.727923</td>\n",
       "      <td>5</td>\n",
       "      <td>2.200319</td>\n",
       "      <td>4</td>\n",
       "    </tr>\n",
       "    <tr>\n",
       "      <th>4</th>\n",
       "      <td>5</td>\n",
       "      <td>26</td>\n",
       "      <td>1</td>\n",
       "      <td>2</td>\n",
       "      <td>-1.025217</td>\n",
       "      <td>3</td>\n",
       "      <td>3</td>\n",
       "      <td>3</td>\n",
       "      <td>0.315306</td>\n",
       "      <td>0</td>\n",
       "      <td>-0.727923</td>\n",
       "      <td>5</td>\n",
       "      <td>0.623175</td>\n",
       "      <td>4</td>\n",
       "    </tr>\n",
       "    <tr>\n",
       "      <th>...</th>\n",
       "      <td>...</td>\n",
       "      <td>...</td>\n",
       "      <td>...</td>\n",
       "      <td>...</td>\n",
       "      <td>...</td>\n",
       "      <td>...</td>\n",
       "      <td>...</td>\n",
       "      <td>...</td>\n",
       "      <td>...</td>\n",
       "      <td>...</td>\n",
       "      <td>...</td>\n",
       "      <td>...</td>\n",
       "      <td>...</td>\n",
       "      <td>...</td>\n",
       "    </tr>\n",
       "    <tr>\n",
       "      <th>318433</th>\n",
       "      <td>318434</td>\n",
       "      <td>6</td>\n",
       "      <td>0</td>\n",
       "      <td>6</td>\n",
       "      <td>-0.169177</td>\n",
       "      <td>3</td>\n",
       "      <td>1</td>\n",
       "      <td>5</td>\n",
       "      <td>-1.136165</td>\n",
       "      <td>2</td>\n",
       "      <td>-0.161049</td>\n",
       "      <td>4</td>\n",
       "      <td>-0.677923</td>\n",
       "      <td>1</td>\n",
       "    </tr>\n",
       "    <tr>\n",
       "      <th>318434</th>\n",
       "      <td>318435</td>\n",
       "      <td>24</td>\n",
       "      <td>0</td>\n",
       "      <td>1</td>\n",
       "      <td>-1.025217</td>\n",
       "      <td>1</td>\n",
       "      <td>1</td>\n",
       "      <td>4</td>\n",
       "      <td>1.766778</td>\n",
       "      <td>2</td>\n",
       "      <td>0.405826</td>\n",
       "      <td>8</td>\n",
       "      <td>1.673071</td>\n",
       "      <td>3</td>\n",
       "    </tr>\n",
       "    <tr>\n",
       "      <th>318435</th>\n",
       "      <td>318436</td>\n",
       "      <td>7</td>\n",
       "      <td>0</td>\n",
       "      <td>4</td>\n",
       "      <td>-0.169177</td>\n",
       "      <td>2</td>\n",
       "      <td>2</td>\n",
       "      <td>5</td>\n",
       "      <td>-1.136165</td>\n",
       "      <td>1</td>\n",
       "      <td>-0.161049</td>\n",
       "      <td>7</td>\n",
       "      <td>-0.594189</td>\n",
       "      <td>1</td>\n",
       "    </tr>\n",
       "    <tr>\n",
       "      <th>318436</th>\n",
       "      <td>318437</td>\n",
       "      <td>11</td>\n",
       "      <td>1</td>\n",
       "      <td>2</td>\n",
       "      <td>-0.169177</td>\n",
       "      <td>1</td>\n",
       "      <td>1</td>\n",
       "      <td>3</td>\n",
       "      <td>0.315306</td>\n",
       "      <td>1</td>\n",
       "      <td>0.972701</td>\n",
       "      <td>1</td>\n",
       "      <td>-1.030342</td>\n",
       "      <td>1</td>\n",
       "    </tr>\n",
       "    <tr>\n",
       "      <th>318437</th>\n",
       "      <td>318438</td>\n",
       "      <td>19</td>\n",
       "      <td>0</td>\n",
       "      <td>7</td>\n",
       "      <td>1.542903</td>\n",
       "      <td>2</td>\n",
       "      <td>1</td>\n",
       "      <td>2</td>\n",
       "      <td>-1.136165</td>\n",
       "      <td>1</td>\n",
       "      <td>-0.727923</td>\n",
       "      <td>1</td>\n",
       "      <td>-0.118469</td>\n",
       "      <td>0</td>\n",
       "    </tr>\n",
       "  </tbody>\n",
       "</table>\n",
       "<p>318438 rows × 14 columns</p>\n",
       "</div>"
      ],
      "text/plain": [
       "        case_id  Hospital_code  Hospital_type_code  City_Code_Hospital  \\\n",
       "0             1              8                   2                   3   \n",
       "1             2              2                   2                   5   \n",
       "2             3             10                   4                   1   \n",
       "3             4             26                   1                   2   \n",
       "4             5             26                   1                   2   \n",
       "...         ...            ...                 ...                 ...   \n",
       "318433   318434              6                   0                   6   \n",
       "318434   318435             24                   0                   1   \n",
       "318435   318436              7                   0                   4   \n",
       "318436   318437             11                   1                   2   \n",
       "318437   318438             19                   0                   7   \n",
       "\n",
       "        Available Extra Rooms in Hospital  Department  Ward_Type  \\\n",
       "0                               -0.169177           3          2   \n",
       "1                               -1.025217           3          3   \n",
       "2                               -1.025217           1          3   \n",
       "3                               -1.025217           3          2   \n",
       "4                               -1.025217           3          3   \n",
       "...                                   ...         ...        ...   \n",
       "318433                          -0.169177           3          1   \n",
       "318434                          -1.025217           1          1   \n",
       "318435                          -0.169177           2          2   \n",
       "318436                          -0.169177           1          1   \n",
       "318437                           1.542903           2          1   \n",
       "\n",
       "        Ward_Facility_Code  Type of Admission  Severity of Illness  \\\n",
       "0                        5          -1.136165                    0   \n",
       "1                        5           0.315306                    0   \n",
       "2                        4           0.315306                    0   \n",
       "3                        3           0.315306                    0   \n",
       "4                        3           0.315306                    0   \n",
       "...                    ...                ...                  ...   \n",
       "318433                   5          -1.136165                    2   \n",
       "318434                   4           1.766778                    2   \n",
       "318435                   5          -1.136165                    1   \n",
       "318436                   3           0.315306                    1   \n",
       "318437                   2          -1.136165                    1   \n",
       "\n",
       "        Visitors with Patient  Age  Admission_Deposit  Stay  \n",
       "0                   -0.727923    5           0.027835     0  \n",
       "1                   -0.727923    5           0.987556     4  \n",
       "2                   -0.727923    5          -0.124910     3  \n",
       "3                   -0.727923    5           2.200319     4  \n",
       "4                   -0.727923    5           0.623175     4  \n",
       "...                       ...  ...                ...   ...  \n",
       "318433              -0.161049    4          -0.677923     1  \n",
       "318434               0.405826    8           1.673071     3  \n",
       "318435              -0.161049    7          -0.594189     1  \n",
       "318436               0.972701    1          -1.030342     1  \n",
       "318437              -0.727923    1          -0.118469     0  \n",
       "\n",
       "[318438 rows x 14 columns]"
      ]
     },
     "execution_count": 32,
     "metadata": {},
     "output_type": "execute_result"
    }
   ],
   "source": [
    "combined[0]"
   ]
  },
  {
   "cell_type": "code",
   "execution_count": 33,
   "id": "classical-attempt",
   "metadata": {
    "execution": {
     "iopub.execute_input": "2021-05-12T13:19:16.179011Z",
     "iopub.status.busy": "2021-05-12T13:19:16.178060Z",
     "iopub.status.idle": "2021-05-12T13:19:17.792003Z",
     "shell.execute_reply": "2021-05-12T13:19:17.792487Z"
    },
    "papermill": {
     "duration": 1.672382,
     "end_time": "2021-05-12T13:19:17.792656",
     "exception": false,
     "start_time": "2021-05-12T13:19:16.120274",
     "status": "completed"
    },
    "tags": []
   },
   "outputs": [
    {
     "data": {
      "text/plain": [
       "<AxesSubplot:>"
      ]
     },
     "execution_count": 33,
     "metadata": {},
     "output_type": "execute_result"
    },
    {
     "data": {
      "image/png": "[encoded data removed]",
      "text/plain": [
       "<Figure size 864x864 with 2 Axes>"
      ]
     },
     "metadata": {},
     "output_type": "display_data"
    }
   ],
   "source": [
    "plt.figure(figsize=(12,12))\n",
    "sns.heatmap(combined[0].corr(), annot=True, cmap='coolwarm')"
   ]
  },
  {
   "cell_type": "markdown",
   "id": "august-illness",
   "metadata": {
    "papermill": {
     "duration": 0.061605,
     "end_time": "2021-05-12T13:19:17.917059",
     "exception": false,
     "start_time": "2021-05-12T13:19:17.855454",
     "status": "completed"
    },
    "tags": []
   },
   "source": [
    "# 3. Data Modelling"
   ]
  },
  {
   "cell_type": "code",
   "execution_count": 34,
   "id": "flying-seating",
   "metadata": {
    "execution": {
     "iopub.execute_input": "2021-05-12T13:19:18.049827Z",
     "iopub.status.busy": "2021-05-12T13:19:18.049087Z",
     "iopub.status.idle": "2021-05-12T13:19:18.374440Z",
     "shell.execute_reply": "2021-05-12T13:19:18.375095Z"
    },
    "papermill": {
     "duration": 0.394433,
     "end_time": "2021-05-12T13:19:18.375345",
     "exception": false,
     "start_time": "2021-05-12T13:19:17.980912",
     "status": "completed"
    },
    "tags": []
   },
   "outputs": [],
   "source": [
    "# machine learning\n",
    "from sklearn.linear_model import LogisticRegression\n",
    "from sklearn.svm import SVC, LinearSVC\n",
    "from sklearn.ensemble import RandomForestClassifier\n",
    "from sklearn.neighbors import KNeighborsClassifier\n",
    "from sklearn.naive_bayes import GaussianNB\n",
    "from sklearn.linear_model import Perceptron\n",
    "from sklearn.linear_model import SGDClassifier\n",
    "from sklearn.tree import DecisionTreeClassifier\n"
   ]
  },
  {
   "cell_type": "code",
   "execution_count": 35,
   "id": "armed-definition",
   "metadata": {
    "execution": {
     "iopub.execute_input": "2021-05-12T13:19:18.506679Z",
     "iopub.status.busy": "2021-05-12T13:19:18.505996Z",
     "iopub.status.idle": "2021-05-12T13:19:18.511093Z",
     "shell.execute_reply": "2021-05-12T13:19:18.511642Z"
    },
    "papermill": {
     "duration": 0.072387,
     "end_time": "2021-05-12T13:19:18.511838",
     "exception": false,
     "start_time": "2021-05-12T13:19:18.439451",
     "status": "completed"
    },
    "tags": []
   },
   "outputs": [],
   "source": [
    "train = combined[0]\n",
    "test = combined[1]"
   ]
  },
  {
   "cell_type": "code",
   "execution_count": 36,
   "id": "prostate-violation",
   "metadata": {
    "execution": {
     "iopub.execute_input": "2021-05-12T13:19:18.641921Z",
     "iopub.status.busy": "2021-05-12T13:19:18.641240Z",
     "iopub.status.idle": "2021-05-12T13:19:18.653498Z",
     "shell.execute_reply": "2021-05-12T13:19:18.652907Z"
    },
    "papermill": {
     "duration": 0.077983,
     "end_time": "2021-05-12T13:19:18.653652",
     "exception": false,
     "start_time": "2021-05-12T13:19:18.575669",
     "status": "completed"
    },
    "tags": []
   },
   "outputs": [
    {
     "data": {
      "text/html": [
       "<div>\n",
       "<style scoped>\n",
       "    .dataframe tbody tr th:only-of-type {\n",
       "        vertical-align: middle;\n",
       "    }\n",
       "\n",
       "    .dataframe tbody tr th {\n",
       "        vertical-align: top;\n",
       "    }\n",
       "\n",
       "    .dataframe thead th {\n",
       "        text-align: right;\n",
       "    }\n",
       "</style>\n",
       "<table border=\"1\" class=\"dataframe\">\n",
       "  <thead>\n",
       "    <tr style=\"text-align: right;\">\n",
       "      <th></th>\n",
       "      <th>case_id</th>\n",
       "      <th>Stay</th>\n",
       "    </tr>\n",
       "  </thead>\n",
       "  <tbody>\n",
       "    <tr>\n",
       "      <th>0</th>\n",
       "      <td>318439</td>\n",
       "      <td>0-10</td>\n",
       "    </tr>\n",
       "    <tr>\n",
       "      <th>1</th>\n",
       "      <td>318440</td>\n",
       "      <td>0-10</td>\n",
       "    </tr>\n",
       "    <tr>\n",
       "      <th>2</th>\n",
       "      <td>318441</td>\n",
       "      <td>0-10</td>\n",
       "    </tr>\n",
       "    <tr>\n",
       "      <th>3</th>\n",
       "      <td>318442</td>\n",
       "      <td>0-10</td>\n",
       "    </tr>\n",
       "    <tr>\n",
       "      <th>4</th>\n",
       "      <td>318443</td>\n",
       "      <td>0-10</td>\n",
       "    </tr>\n",
       "    <tr>\n",
       "      <th>...</th>\n",
       "      <td>...</td>\n",
       "      <td>...</td>\n",
       "    </tr>\n",
       "    <tr>\n",
       "      <th>137052</th>\n",
       "      <td>455491</td>\n",
       "      <td>0-10</td>\n",
       "    </tr>\n",
       "    <tr>\n",
       "      <th>137053</th>\n",
       "      <td>455492</td>\n",
       "      <td>0-10</td>\n",
       "    </tr>\n",
       "    <tr>\n",
       "      <th>137054</th>\n",
       "      <td>455493</td>\n",
       "      <td>0-10</td>\n",
       "    </tr>\n",
       "    <tr>\n",
       "      <th>137055</th>\n",
       "      <td>455494</td>\n",
       "      <td>0-10</td>\n",
       "    </tr>\n",
       "    <tr>\n",
       "      <th>137056</th>\n",
       "      <td>455495</td>\n",
       "      <td>0-10</td>\n",
       "    </tr>\n",
       "  </tbody>\n",
       "</table>\n",
       "<p>137057 rows × 2 columns</p>\n",
       "</div>"
      ],
      "text/plain": [
       "        case_id  Stay\n",
       "0        318439  0-10\n",
       "1        318440  0-10\n",
       "2        318441  0-10\n",
       "3        318442  0-10\n",
       "4        318443  0-10\n",
       "...         ...   ...\n",
       "137052   455491  0-10\n",
       "137053   455492  0-10\n",
       "137054   455493  0-10\n",
       "137055   455494  0-10\n",
       "137056   455495  0-10\n",
       "\n",
       "[137057 rows x 2 columns]"
      ]
     },
     "execution_count": 36,
     "metadata": {},
     "output_type": "execute_result"
    }
   ],
   "source": [
    "sample"
   ]
  },
  {
   "cell_type": "code",
   "execution_count": 37,
   "id": "boolean-comparison",
   "metadata": {
    "execution": {
     "iopub.execute_input": "2021-05-12T13:19:18.788587Z",
     "iopub.status.busy": "2021-05-12T13:19:18.787917Z",
     "iopub.status.idle": "2021-05-12T13:19:18.816225Z",
     "shell.execute_reply": "2021-05-12T13:19:18.816707Z"
    },
    "papermill": {
     "duration": 0.099476,
     "end_time": "2021-05-12T13:19:18.816908",
     "exception": false,
     "start_time": "2021-05-12T13:19:18.717432",
     "status": "completed"
    },
    "tags": []
   },
   "outputs": [
    {
     "data": {
      "text/plain": [
       "((318438, 12), (318438,), (137057, 12))"
      ]
     },
     "execution_count": 37,
     "metadata": {},
     "output_type": "execute_result"
    }
   ],
   "source": [
    "X_train = train.drop(['case_id', 'Stay'], axis=1)\n",
    "Y_train = train[\"Stay\"]\n",
    "X_test  = test.drop(\"case_id\", axis=1).copy()\n",
    "X_train.shape, Y_train.shape, X_test.shape"
   ]
  },
  {
   "cell_type": "code",
   "execution_count": 38,
   "id": "phantom-yacht",
   "metadata": {
    "execution": {
     "iopub.execute_input": "2021-05-12T13:19:18.949670Z",
     "iopub.status.busy": "2021-05-12T13:19:18.948931Z",
     "iopub.status.idle": "2021-05-12T13:19:18.955696Z",
     "shell.execute_reply": "2021-05-12T13:19:18.955018Z"
    },
    "papermill": {
     "duration": 0.074128,
     "end_time": "2021-05-12T13:19:18.955848",
     "exception": false,
     "start_time": "2021-05-12T13:19:18.881720",
     "status": "completed"
    },
    "tags": []
   },
   "outputs": [
    {
     "data": {
      "text/plain": [
       "(137057, 2)"
      ]
     },
     "execution_count": 38,
     "metadata": {},
     "output_type": "execute_result"
    }
   ],
   "source": [
    "sample.shape"
   ]
  },
  {
   "cell_type": "code",
   "execution_count": 39,
   "id": "elder-train",
   "metadata": {
    "execution": {
     "iopub.execute_input": "2021-05-12T13:19:19.092244Z",
     "iopub.status.busy": "2021-05-12T13:19:19.091558Z",
     "iopub.status.idle": "2021-05-12T13:19:19.095580Z",
     "shell.execute_reply": "2021-05-12T13:19:19.094930Z"
    },
    "papermill": {
     "duration": 0.074758,
     "end_time": "2021-05-12T13:19:19.095731",
     "exception": false,
     "start_time": "2021-05-12T13:19:19.020973",
     "status": "completed"
    },
    "tags": []
   },
   "outputs": [
    {
     "data": {
      "text/plain": [
       "Index(['Hospital_code', 'Hospital_type_code', 'City_Code_Hospital',\n",
       "       'Available Extra Rooms in Hospital', 'Department', 'Ward_Type',\n",
       "       'Ward_Facility_Code', 'Type of Admission', 'Severity of Illness',\n",
       "       'Visitors with Patient', 'Age', 'Admission_Deposit'],\n",
       "      dtype='object')"
      ]
     },
     "execution_count": 39,
     "metadata": {},
     "output_type": "execute_result"
    }
   ],
   "source": [
    "X_test.columns"
   ]
  },
  {
   "cell_type": "code",
   "execution_count": 40,
   "id": "geographic-jaguar",
   "metadata": {
    "execution": {
     "iopub.execute_input": "2021-05-12T13:19:19.233922Z",
     "iopub.status.busy": "2021-05-12T13:19:19.232966Z",
     "iopub.status.idle": "2021-05-12T13:19:19.237517Z",
     "shell.execute_reply": "2021-05-12T13:19:19.236881Z"
    },
    "papermill": {
     "duration": 0.076606,
     "end_time": "2021-05-12T13:19:19.237670",
     "exception": false,
     "start_time": "2021-05-12T13:19:19.161064",
     "status": "completed"
    },
    "tags": []
   },
   "outputs": [
    {
     "data": {
      "text/plain": [
       "0         0\n",
       "1         4\n",
       "2         3\n",
       "3         4\n",
       "4         4\n",
       "         ..\n",
       "318433    1\n",
       "318434    3\n",
       "318435    1\n",
       "318436    1\n",
       "318437    0\n",
       "Name: Stay, Length: 318438, dtype: int64"
      ]
     },
     "execution_count": 40,
     "metadata": {},
     "output_type": "execute_result"
    }
   ],
   "source": [
    "Y_train"
   ]
  },
  {
   "cell_type": "code",
   "execution_count": 41,
   "id": "vanilla-obligation",
   "metadata": {
    "execution": {
     "iopub.execute_input": "2021-05-12T13:19:19.377412Z",
     "iopub.status.busy": "2021-05-12T13:19:19.376629Z",
     "iopub.status.idle": "2021-05-12T13:21:11.936058Z",
     "shell.execute_reply": "2021-05-12T13:21:11.936614Z"
    },
    "papermill": {
     "duration": 112.633263,
     "end_time": "2021-05-12T13:21:11.936826",
     "exception": false,
     "start_time": "2021-05-12T13:19:19.303563",
     "status": "completed"
    },
    "tags": []
   },
   "outputs": [],
   "source": [
    "# KNN\n",
    "\n",
    "# knn = KNeighborsClassifier(n_neighbors = 3)\n",
    "# knn.fit(X_train, Y_train)\n",
    "# Y_pred = knn.predict(X_test)\n",
    "# acc_knn = round(knn.score(X_train, Y_train) * 100, 2)\n",
    "# acc_knn"
   ]
  },
  {
   "cell_type": "code",
   "execution_count": 42,
   "id": "wrapped-register",
   "metadata": {
    "execution": {
     "iopub.execute_input": "2021-05-12T13:21:12.079403Z",
     "iopub.status.busy": "2021-05-12T13:21:12.078703Z",
     "iopub.status.idle": "2021-05-12T13:21:14.938250Z",
     "shell.execute_reply": "2021-05-12T13:21:14.937608Z"
    },
    "papermill": {
     "duration": 2.933779,
     "end_time": "2021-05-12T13:21:14.938401",
     "exception": false,
     "start_time": "2021-05-12T13:21:12.004622",
     "status": "completed"
    },
    "tags": []
   },
   "outputs": [
    {
     "data": {
      "text/plain": [
       "99.71"
      ]
     },
     "execution_count": 42,
     "metadata": {},
     "output_type": "execute_result"
    }
   ],
   "source": [
    "# Decision Tree\n",
    "decision_tree = DecisionTreeClassifier()\n",
    "decision_tree.fit(X_train, Y_train)\n",
    "Y_pred = decision_tree.predict(X_test)\n",
    "acc_decision_tree = round(decision_tree.score(X_train, Y_train) * 100, 2)\n",
    "acc_decision_tree"
   ]
  },
  {
   "cell_type": "code",
   "execution_count": 43,
   "id": "f5389bf9",
   "metadata": {},
   "outputs": [],
   "source": [
    "# Exporting the Model\n",
    "\n",
    "with open('DT_MODEL.pkl', 'wb') as f:\n",
    "    pickle.dump(decision_tree, f)"
   ]
  },
  {
   "cell_type": "code",
   "execution_count": 44,
   "id": "based-stack",
   "metadata": {
    "execution": {
     "iopub.execute_input": "2021-05-12T13:21:15.083621Z",
     "iopub.status.busy": "2021-05-12T13:21:15.082333Z",
     "iopub.status.idle": "2021-05-12T13:23:11.219082Z",
     "shell.execute_reply": "2021-05-12T13:23:11.219619Z"
    },
    "papermill": {
     "duration": 116.213485,
     "end_time": "2021-05-12T13:23:11.219813",
     "exception": false,
     "start_time": "2021-05-12T13:21:15.006328",
     "status": "completed"
    },
    "tags": []
   },
   "outputs": [],
   "source": [
    "# Random Forest\n",
    "\n",
    "# random_forest = RandomForestClassifier(n_estimators=100)\n",
    "# random_forest.fit(X_train, Y_train)\n",
    "# Y_pred = random_forest.predict(X_test)\n",
    "# random_forest.score(X_train, Y_train)\n",
    "# acc_random_forest = round(random_forest.score(X_train, Y_train) * 100, 2)\n",
    "# acc_random_forest"
   ]
  },
  {
   "cell_type": "code",
   "execution_count": 45,
   "id": "narrow-upgrade",
   "metadata": {
    "execution": {
     "iopub.execute_input": "2021-05-12T13:23:11.387462Z",
     "iopub.status.busy": "2021-05-12T13:23:11.386734Z",
     "iopub.status.idle": "2021-05-12T13:23:11.490805Z",
     "shell.execute_reply": "2021-05-12T13:23:11.491335Z"
    },
    "papermill": {
     "duration": 0.2048,
     "end_time": "2021-05-12T13:23:11.491547",
     "exception": false,
     "start_time": "2021-05-12T13:23:11.286747",
     "status": "completed"
    },
    "tags": []
   },
   "outputs": [],
   "source": [
    "# sns.barplot(x= ['KNN','DT','RF'],y= [acc_knn, acc_decision_tree,acc_random_forest])"
   ]
  },
  {
   "cell_type": "code",
   "execution_count": 56,
   "id": "naughty-double",
   "metadata": {
    "papermill": {
     "duration": 0.06754,
     "end_time": "2021-05-12T13:23:11.627161",
     "exception": false,
     "start_time": "2021-05-12T13:23:11.559621",
     "status": "completed"
    },
    "tags": []
   },
   "outputs": [
    {
     "data": {
      "text/plain": [
       "Hospital_code                        16.000000\n",
       "Hospital_type_code                    2.000000\n",
       "City_Code_Hospital                    3.000000\n",
       "Available Extra Rooms in Hospital     0.693422\n",
       "Department                            2.000000\n",
       "Ward_Type                             2.000000\n",
       "Ward_Facility_Code                    0.000000\n",
       "Type of Admission                     0.314484\n",
       "Severity of Illness                   2.000000\n",
       "Visitors with Patient                -0.160095\n",
       "Age                                   3.000000\n",
       "Admission_Deposit                    -0.506800\n",
       "Name: 12, dtype: float64"
      ]
     },
     "execution_count": 56,
     "metadata": {},
     "output_type": "execute_result"
    }
   ],
   "source": [
    "# all values are Standard Scaled\n",
    "\n",
    "row_1 = X_test.iloc[12]\n",
    "row_1"
   ]
  },
  {
   "cell_type": "code",
   "execution_count": 57,
   "id": "d5678430",
   "metadata": {},
   "outputs": [
    {
     "data": {
      "text/plain": [
       "array([4], dtype=int64)"
      ]
     },
     "execution_count": 57,
     "metadata": {},
     "output_type": "execute_result"
    }
   ],
   "source": [
    "input_data = np.array(row_1).reshape(1, -1)\n",
    "\n",
    "new_pred = decision_tree.predict(input_data)\n",
    "new_pred"
   ]
  },
  {
   "cell_type": "code",
   "execution_count": 58,
   "id": "61be7352",
   "metadata": {},
   "outputs": [
    {
     "data": {
      "text/plain": [
       "array([4], dtype=int64)"
      ]
     },
     "execution_count": 58,
     "metadata": {},
     "output_type": "execute_result"
    }
   ],
   "source": [
    "# Calling the pkl Model and Predicting\n",
    "\n",
    "predictor = pickle.load(open(\"DT_MODEL.pkl\", 'rb'))\n",
    "prediction = predictor.predict(input_data)\n",
    "prediction"
   ]
  },
  {
   "cell_type": "code",
   "execution_count": null,
   "id": "8d1cf01a",
   "metadata": {},
   "outputs": [],
   "source": []
  },
  {
   "cell_type": "code",
   "execution_count": null,
   "id": "a0bbc0f4",
   "metadata": {},
   "outputs": [],
   "source": []
  },
  {
   "cell_type": "code",
   "execution_count": null,
   "id": "c209d869",
   "metadata": {},
   "outputs": [],
   "source": []
  },
  {
   "cell_type": "markdown",
   "id": "portuguese-receptor",
   "metadata": {
    "papermill": {
     "duration": 0.06766,
     "end_time": "2021-05-12T13:23:11.762682",
     "exception": false,
     "start_time": "2021-05-12T13:23:11.695022",
     "status": "completed"
    },
    "tags": []
   },
   "source": [
    "# 4. Submission"
   ]
  },
  {
   "cell_type": "code",
   "execution_count": 46,
   "id": "latin-percentage",
   "metadata": {
    "execution": {
     "iopub.execute_input": "2021-05-12T13:23:11.902916Z",
     "iopub.status.busy": "2021-05-12T13:23:11.902238Z",
     "iopub.status.idle": "2021-05-12T13:23:11.914159Z",
     "shell.execute_reply": "2021-05-12T13:23:11.914708Z"
    },
    "papermill": {
     "duration": 0.083483,
     "end_time": "2021-05-12T13:23:11.914875",
     "exception": false,
     "start_time": "2021-05-12T13:23:11.831392",
     "status": "completed"
    },
    "tags": []
   },
   "outputs": [
    {
     "data": {
      "text/html": [
       "<div>\n",
       "<style scoped>\n",
       "    .dataframe tbody tr th:only-of-type {\n",
       "        vertical-align: middle;\n",
       "    }\n",
       "\n",
       "    .dataframe tbody tr th {\n",
       "        vertical-align: top;\n",
       "    }\n",
       "\n",
       "    .dataframe thead th {\n",
       "        text-align: right;\n",
       "    }\n",
       "</style>\n",
       "<table border=\"1\" class=\"dataframe\">\n",
       "  <thead>\n",
       "    <tr style=\"text-align: right;\">\n",
       "      <th></th>\n",
       "      <th>case_id</th>\n",
       "      <th>Stay</th>\n",
       "    </tr>\n",
       "  </thead>\n",
       "  <tbody>\n",
       "    <tr>\n",
       "      <th>0</th>\n",
       "      <td>318439</td>\n",
       "      <td>0-10</td>\n",
       "    </tr>\n",
       "    <tr>\n",
       "      <th>1</th>\n",
       "      <td>318440</td>\n",
       "      <td>0-10</td>\n",
       "    </tr>\n",
       "    <tr>\n",
       "      <th>2</th>\n",
       "      <td>318441</td>\n",
       "      <td>0-10</td>\n",
       "    </tr>\n",
       "    <tr>\n",
       "      <th>3</th>\n",
       "      <td>318442</td>\n",
       "      <td>0-10</td>\n",
       "    </tr>\n",
       "    <tr>\n",
       "      <th>4</th>\n",
       "      <td>318443</td>\n",
       "      <td>0-10</td>\n",
       "    </tr>\n",
       "    <tr>\n",
       "      <th>...</th>\n",
       "      <td>...</td>\n",
       "      <td>...</td>\n",
       "    </tr>\n",
       "    <tr>\n",
       "      <th>137052</th>\n",
       "      <td>455491</td>\n",
       "      <td>0-10</td>\n",
       "    </tr>\n",
       "    <tr>\n",
       "      <th>137053</th>\n",
       "      <td>455492</td>\n",
       "      <td>0-10</td>\n",
       "    </tr>\n",
       "    <tr>\n",
       "      <th>137054</th>\n",
       "      <td>455493</td>\n",
       "      <td>0-10</td>\n",
       "    </tr>\n",
       "    <tr>\n",
       "      <th>137055</th>\n",
       "      <td>455494</td>\n",
       "      <td>0-10</td>\n",
       "    </tr>\n",
       "    <tr>\n",
       "      <th>137056</th>\n",
       "      <td>455495</td>\n",
       "      <td>0-10</td>\n",
       "    </tr>\n",
       "  </tbody>\n",
       "</table>\n",
       "<p>137057 rows × 2 columns</p>\n",
       "</div>"
      ],
      "text/plain": [
       "        case_id  Stay\n",
       "0        318439  0-10\n",
       "1        318440  0-10\n",
       "2        318441  0-10\n",
       "3        318442  0-10\n",
       "4        318443  0-10\n",
       "...         ...   ...\n",
       "137052   455491  0-10\n",
       "137053   455492  0-10\n",
       "137054   455493  0-10\n",
       "137055   455494  0-10\n",
       "137056   455495  0-10\n",
       "\n",
       "[137057 rows x 2 columns]"
      ]
     },
     "execution_count": 46,
     "metadata": {},
     "output_type": "execute_result"
    }
   ],
   "source": [
    "sample"
   ]
  },
  {
   "cell_type": "code",
   "execution_count": 47,
   "id": "modern-fiber",
   "metadata": {
    "execution": {
     "iopub.execute_input": "2021-05-12T13:23:12.056070Z",
     "iopub.status.busy": "2021-05-12T13:23:12.055434Z",
     "iopub.status.idle": "2021-05-12T13:23:12.061473Z",
     "shell.execute_reply": "2021-05-12T13:23:12.062000Z"
    },
    "papermill": {
     "duration": 0.079786,
     "end_time": "2021-05-12T13:23:12.062187",
     "exception": false,
     "start_time": "2021-05-12T13:23:11.982401",
     "status": "completed"
    },
    "tags": []
   },
   "outputs": [],
   "source": [
    "submission = pd.DataFrame({\n",
    "        \"case_id\": test[\"case_id\"],\n",
    "        \"Stay\": Y_pred\n",
    "})"
   ]
  },
  {
   "cell_type": "code",
   "execution_count": 48,
   "id": "greek-cleaners",
   "metadata": {
    "execution": {
     "iopub.execute_input": "2021-05-12T13:23:12.203978Z",
     "iopub.status.busy": "2021-05-12T13:23:12.203285Z",
     "iopub.status.idle": "2021-05-12T13:23:12.225436Z",
     "shell.execute_reply": "2021-05-12T13:23:12.225957Z"
    },
    "papermill": {
     "duration": 0.09424,
     "end_time": "2021-05-12T13:23:12.226147",
     "exception": false,
     "start_time": "2021-05-12T13:23:12.131907",
     "status": "completed"
    },
    "tags": []
   },
   "outputs": [],
   "source": [
    "submission['Stay'] = submission['Stay'].replace(stay_dict.values(), stay_dict.keys())"
   ]
  },
  {
   "cell_type": "code",
   "execution_count": 49,
   "id": "trying-hartford",
   "metadata": {
    "execution": {
     "iopub.execute_input": "2021-05-12T13:23:12.368223Z",
     "iopub.status.busy": "2021-05-12T13:23:12.367594Z",
     "iopub.status.idle": "2021-05-12T13:23:12.652892Z",
     "shell.execute_reply": "2021-05-12T13:23:12.652321Z"
    },
    "papermill": {
     "duration": 0.358351,
     "end_time": "2021-05-12T13:23:12.653044",
     "exception": false,
     "start_time": "2021-05-12T13:23:12.294693",
     "status": "completed"
    },
    "tags": []
   },
   "outputs": [],
   "source": [
    "# submission.to_csv('submission.csv', index = False)"
   ]
  },
  {
   "cell_type": "code",
   "execution_count": 50,
   "id": "everyday-theta",
   "metadata": {
    "execution": {
     "iopub.execute_input": "2021-05-12T13:23:12.802919Z",
     "iopub.status.busy": "2021-05-12T13:23:12.802037Z",
     "iopub.status.idle": "2021-05-12T13:23:12.806971Z",
     "shell.execute_reply": "2021-05-12T13:23:12.806488Z"
    },
    "papermill": {
     "duration": 0.08536,
     "end_time": "2021-05-12T13:23:12.807146",
     "exception": false,
     "start_time": "2021-05-12T13:23:12.721786",
     "status": "completed"
    },
    "tags": []
   },
   "outputs": [
    {
     "data": {
      "text/html": [
       "<div>\n",
       "<style scoped>\n",
       "    .dataframe tbody tr th:only-of-type {\n",
       "        vertical-align: middle;\n",
       "    }\n",
       "\n",
       "    .dataframe tbody tr th {\n",
       "        vertical-align: top;\n",
       "    }\n",
       "\n",
       "    .dataframe thead th {\n",
       "        text-align: right;\n",
       "    }\n",
       "</style>\n",
       "<table border=\"1\" class=\"dataframe\">\n",
       "  <thead>\n",
       "    <tr style=\"text-align: right;\">\n",
       "      <th></th>\n",
       "      <th>case_id</th>\n",
       "      <th>Stay</th>\n",
       "    </tr>\n",
       "  </thead>\n",
       "  <tbody>\n",
       "    <tr>\n",
       "      <th>0</th>\n",
       "      <td>318439</td>\n",
       "      <td>0-10</td>\n",
       "    </tr>\n",
       "    <tr>\n",
       "      <th>1</th>\n",
       "      <td>318440</td>\n",
       "      <td>0-10</td>\n",
       "    </tr>\n",
       "    <tr>\n",
       "      <th>2</th>\n",
       "      <td>318441</td>\n",
       "      <td>0-10</td>\n",
       "    </tr>\n",
       "    <tr>\n",
       "      <th>3</th>\n",
       "      <td>318442</td>\n",
       "      <td>0-10</td>\n",
       "    </tr>\n",
       "    <tr>\n",
       "      <th>4</th>\n",
       "      <td>318443</td>\n",
       "      <td>0-10</td>\n",
       "    </tr>\n",
       "    <tr>\n",
       "      <th>...</th>\n",
       "      <td>...</td>\n",
       "      <td>...</td>\n",
       "    </tr>\n",
       "    <tr>\n",
       "      <th>137052</th>\n",
       "      <td>455491</td>\n",
       "      <td>0-10</td>\n",
       "    </tr>\n",
       "    <tr>\n",
       "      <th>137053</th>\n",
       "      <td>455492</td>\n",
       "      <td>0-10</td>\n",
       "    </tr>\n",
       "    <tr>\n",
       "      <th>137054</th>\n",
       "      <td>455493</td>\n",
       "      <td>0-10</td>\n",
       "    </tr>\n",
       "    <tr>\n",
       "      <th>137055</th>\n",
       "      <td>455494</td>\n",
       "      <td>0-10</td>\n",
       "    </tr>\n",
       "    <tr>\n",
       "      <th>137056</th>\n",
       "      <td>455495</td>\n",
       "      <td>0-10</td>\n",
       "    </tr>\n",
       "  </tbody>\n",
       "</table>\n",
       "<p>137057 rows × 2 columns</p>\n",
       "</div>"
      ],
      "text/plain": [
       "        case_id  Stay\n",
       "0        318439  0-10\n",
       "1        318440  0-10\n",
       "2        318441  0-10\n",
       "3        318442  0-10\n",
       "4        318443  0-10\n",
       "...         ...   ...\n",
       "137052   455491  0-10\n",
       "137053   455492  0-10\n",
       "137054   455493  0-10\n",
       "137055   455494  0-10\n",
       "137056   455495  0-10\n",
       "\n",
       "[137057 rows x 2 columns]"
      ]
     },
     "execution_count": 50,
     "metadata": {},
     "output_type": "execute_result"
    }
   ],
   "source": [
    "sample"
   ]
  },
  {
   "cell_type": "code",
   "execution_count": null,
   "id": "third-nation",
   "metadata": {
    "papermill": {
     "duration": 0.069455,
     "end_time": "2021-05-12T13:23:12.946823",
     "exception": false,
     "start_time": "2021-05-12T13:23:12.877368",
     "status": "completed"
    },
    "tags": []
   },
   "outputs": [],
   "source": []
  }
 ],
 "metadata": {
  "kernelspec": {
   "display_name": "Python 3 (ipykernel)",
   "language": "python",
   "name": "python3"
  },
  "language_info": {
   "codemirror_mode": {
    "name": "ipython",
    "version": 3
   },
   "file_extension": ".py",
   "mimetype": "text/x-python",
   "name": "python",
   "nbconvert_exporter": "python",
   "pygments_lexer": "ipython3",
   "version": "3.9.7"
  },
  "papermill": {
   "default_parameters": {},
   "duration": 258.015414,
   "end_time": "2021-05-12T13:23:13.928593",
   "environment_variables": {},
   "exception": null,
   "input_path": "__notebook__.ipynb",
   "output_path": "__notebook__.ipynb",
   "parameters": {},
   "start_time": "2021-05-12T13:18:55.913179",
   "version": "2.3.3"
  }
 },
 "nbformat": 4,
 "nbformat_minor": 5
}
