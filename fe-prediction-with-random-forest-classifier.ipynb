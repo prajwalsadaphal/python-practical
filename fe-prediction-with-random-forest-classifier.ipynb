{
 "cells": [
  {
   "cell_type": "code",
   "execution_count": 64,
   "metadata": {
    "_cell_guid": "b1076dfc-b9ad-4769-8c92-a6c4dae69d19",
    "_uuid": "8f2839f25d086af736a60e9eeb907d3b93b6e0e5",
    "execution": {
     "iopub.execute_input": "2020-09-22T18:16:38.239475Z",
     "iopub.status.busy": "2020-09-22T18:16:38.238714Z",
     "iopub.status.idle": "2020-09-22T18:16:39.831960Z",
     "shell.execute_reply": "2020-09-22T18:16:39.831239Z"
    },
    "papermill": {
     "duration": 1.634737,
     "end_time": "2020-09-22T18:16:39.832125",
     "exception": false,
     "start_time": "2020-09-22T18:16:38.197388",
     "status": "completed"
    },
    "tags": []
   },
   "outputs": [],
   "source": [
    "# # For Data reading \n",
    "import numpy as np # linear algebra\n",
    "import pandas as pd # data processing, CSV file I/O (e.g. pd.read_csv)\n",
    "\n",
    "# For data visualization\n",
    "import matplotlib.pyplot as plt\n",
    "import seaborn as sns\n",
    "\n",
    "\n",
    "# For Feature Scaling & Feature Importance\n",
    "from sklearn.preprocessing import MinMaxScaler\n",
    "from sklearn.ensemble import ExtraTreesRegressor\n",
    "\n",
    "# For model building & scoreing\n",
    "from sklearn.ensemble import RandomForestClassifier\n",
    "from sklearn.model_selection import cross_val_score\n",
    "\n",
    "\n",
    "# others\n",
    "import warnings\n",
    "warnings.filterwarnings('ignore')"
   ]
  },
  {
   "cell_type": "markdown",
   "metadata": {
    "papermill": {
     "duration": 0.034058,
     "end_time": "2020-09-22T18:16:39.899216",
     "exception": false,
     "start_time": "2020-09-22T18:16:39.865158",
     "status": "completed"
    },
    "tags": []
   },
   "source": [
    "#### Read Dataset"
   ]
  },
  {
   "cell_type": "code",
   "execution_count": 65,
   "metadata": {
    "_cell_guid": "79c7e3d0-c299-4dcb-8224-4455121ee9b0",
    "_uuid": "d629ff2d2480ee46fbb7e2d37f6b5fab8052498a",
    "execution": {
     "iopub.execute_input": "2020-09-22T18:16:39.993052Z",
     "iopub.status.busy": "2020-09-22T18:16:39.992234Z",
     "iopub.status.idle": "2020-09-22T18:16:41.162594Z",
     "shell.execute_reply": "2020-09-22T18:16:41.161827Z"
    },
    "papermill": {
     "duration": 1.230659,
     "end_time": "2020-09-22T18:16:41.162735",
     "exception": false,
     "start_time": "2020-09-22T18:16:39.932076",
     "status": "completed"
    },
    "tags": []
   },
   "outputs": [],
   "source": [
    "train_df = pd.read_csv('train_data.csv')\n",
    "test_df = pd.read_csv('test_data.csv')\n",
    "train_dict = pd.read_csv('train_data_dictionary.csv')"
   ]
  },
  {
   "cell_type": "markdown",
   "metadata": {
    "papermill": {
     "duration": 0.032547,
     "end_time": "2020-09-22T18:16:41.228485",
     "exception": false,
     "start_time": "2020-09-22T18:16:41.195938",
     "status": "completed"
    },
    "tags": []
   },
   "source": [
    "#### Let's Encoded dependent Feature (\"Stay\" column)"
   ]
  },
  {
   "cell_type": "code",
   "execution_count": 66,
   "metadata": {
    "execution": {
     "iopub.execute_input": "2020-09-22T18:16:41.318348Z",
     "iopub.status.busy": "2020-09-22T18:16:41.308532Z",
     "iopub.status.idle": "2020-09-22T18:16:41.331649Z",
     "shell.execute_reply": "2020-09-22T18:16:41.331031Z"
    },
    "papermill": {
     "duration": 0.070259,
     "end_time": "2020-09-22T18:16:41.331779",
     "exception": false,
     "start_time": "2020-09-22T18:16:41.261520",
     "status": "completed"
    },
    "tags": []
   },
   "outputs": [
    {
     "data": {
      "text/plain": [
       "array(['0-10', '41-50', '31-40', '11-20', '51-60', '21-30', '71-80',\n",
       "       'More than 100 Days', '81-90', '61-70', '91-100'], dtype=object)"
      ]
     },
     "execution_count": 66,
     "metadata": {},
     "output_type": "execute_result"
    }
   ],
   "source": [
    "# Let's find unique values of dependent feature\n",
    "train_df[\"Stay\"].unique()"
   ]
  },
  {
   "cell_type": "code",
   "execution_count": 67,
   "metadata": {
    "execution": {
     "iopub.execute_input": "2020-09-22T18:16:41.450628Z",
     "iopub.status.busy": "2020-09-22T18:16:41.449840Z",
     "iopub.status.idle": "2020-09-22T18:16:41.506575Z",
     "shell.execute_reply": "2020-09-22T18:16:41.505783Z"
    },
    "papermill": {
     "duration": 0.141409,
     "end_time": "2020-09-22T18:16:41.506710",
     "exception": false,
     "start_time": "2020-09-22T18:16:41.365301",
     "status": "completed"
    },
    "tags": []
   },
   "outputs": [],
   "source": [
    "# Let's create a dictionary for dependent feature\n",
    "encode = {\n",
    "    '0-10' : 1, '11-20' : 2, '21-30' : 3, '31-40' : 4, '41-50' : 5, '51-60' : 6, '61-70' : 7, '71-80' : 8,\n",
    "    '81-90' : 9, '91-100' : 10, 'More than 100 Days' : 11\n",
    "}\n",
    "train_df['Stay'] = train_df['Stay'].map(encode)"
   ]
  },
  {
   "cell_type": "code",
   "execution_count": 68,
   "metadata": {},
   "outputs": [
    {
     "name": "stdout",
     "output_type": "stream",
     "text": [
      "(case_id)[     1      2      3 ... 318436 318437 318438]\n",
      "(Hospital_code)[ 8  2 10 26 23 32  1 22 16  9  6 29 12  3 21 28 27 19  5 14 13 31 24 17\n",
      " 25 15 11 30 18  4  7 20]\n",
      "(Hospital_type_code)['c' 'e' 'b' 'a' 'f' 'd' 'g']\n",
      "(City_Code_Hospital)[ 3  5  1  2  6  9 10  4 11  7 13]\n",
      "(Hospital_region_code)['Z' 'X' 'Y']\n",
      "(Available Extra Rooms in Hospital)[ 3  2  1  4  6  5  7  8  9 10 12  0 11 20 14 21 13 24]\n",
      "(Department)['radiotherapy' 'anesthesia' 'gynecology' 'TB & Chest disease' 'surgery']\n",
      "(Ward_Type)['R' 'S' 'Q' 'P' 'T' 'U']\n",
      "(Ward_Facility_Code)['F' 'E' 'D' 'B' 'A' 'C']\n",
      "(Bed Grade)[ 2.  3.  4.  1. nan]\n",
      "(patientid)[ 31397  63418   8088 ... 125235  91081  21641]\n",
      "(City_Code_Patient)[ 7.  8.  2.  5.  6.  3.  4.  1.  9. 14. nan 25. 15. 12. 10. 28. 24. 23.\n",
      " 20. 11. 13. 21. 18. 16. 26. 27. 22. 19. 31. 34. 32. 30. 29. 37. 33. 35.\n",
      " 36. 38.]\n",
      "(Type of Admission)['Emergency' 'Trauma' 'Urgent']\n",
      "(Severity of Illness)['Extreme' 'Moderate' 'Minor']\n",
      "(Visitors with Patient)[ 2  4  3  8  6  7 13  5  1 10 15 11 12  9 24 16 14 20  0 19 18 17 23 21\n",
      " 32 30 22 25]\n",
      "(Age)['51-60' '71-80' '31-40' '41-50' '81-90' '61-70' '21-30' '11-20' '0-10'\n",
      " '91-100']\n",
      "(Admission_Deposit)[4911. 5954. 4745. ... 1937. 9439. 2349.]\n",
      "(Stay)[ 1  5  4  2  6  3  8 11  9  7 10]\n"
     ]
    }
   ],
   "source": [
    "# unique Values\n",
    "\n",
    "for i in train_df.columns:\n",
    "    print(f'({i}){train_df[i].unique()}')\n",
    "\n"
   ]
  },
  {
   "cell_type": "markdown",
   "metadata": {
    "papermill": {
     "duration": 0.033625,
     "end_time": "2020-09-22T18:16:41.574373",
     "exception": false,
     "start_time": "2020-09-22T18:16:41.540748",
     "status": "completed"
    },
    "tags": []
   },
   "source": [
    "### Handle Missing value of features"
   ]
  },
  {
   "cell_type": "code",
   "execution_count": 69,
   "metadata": {
    "execution": {
     "iopub.execute_input": "2020-09-22T18:16:41.649415Z",
     "iopub.status.busy": "2020-09-22T18:16:41.648608Z",
     "iopub.status.idle": "2020-09-22T18:16:42.066811Z",
     "shell.execute_reply": "2020-09-22T18:16:42.067427Z"
    },
    "papermill": {
     "duration": 0.459406,
     "end_time": "2020-09-22T18:16:42.067605",
     "exception": false,
     "start_time": "2020-09-22T18:16:41.608199",
     "status": "completed"
    },
    "tags": []
   },
   "outputs": [
    {
     "name": "stdout",
     "output_type": "stream",
     "text": [
      "Train Dataset:::::::::::::::\n",
      "case_id                                 0\n",
      "Hospital_code                           0\n",
      "Hospital_type_code                      0\n",
      "City_Code_Hospital                      0\n",
      "Hospital_region_code                    0\n",
      "Available Extra Rooms in Hospital       0\n",
      "Department                              0\n",
      "Ward_Type                               0\n",
      "Ward_Facility_Code                      0\n",
      "Bed Grade                             113\n",
      "patientid                               0\n",
      "City_Code_Patient                    4532\n",
      "Type of Admission                       0\n",
      "Severity of Illness                     0\n",
      "Visitors with Patient                   0\n",
      "Age                                     0\n",
      "Admission_Deposit                       0\n",
      "Stay                                    0\n",
      "dtype: int64\n",
      "=========================================\n",
      "Test Dataset::::::::::::::::\n",
      "case_id                                 0\n",
      "Hospital_code                           0\n",
      "Hospital_type_code                      0\n",
      "City_Code_Hospital                      0\n",
      "Hospital_region_code                    0\n",
      "Available Extra Rooms in Hospital       0\n",
      "Department                              0\n",
      "Ward_Type                               0\n",
      "Ward_Facility_Code                      0\n",
      "Bed Grade                              35\n",
      "patientid                               0\n",
      "City_Code_Patient                    2157\n",
      "Type of Admission                       0\n",
      "Severity of Illness                     0\n",
      "Visitors with Patient                   0\n",
      "Age                                     0\n",
      "Admission_Deposit                       0\n",
      "dtype: int64\n"
     ]
    }
   ],
   "source": [
    "# Let's check missing values\n",
    "print('Train Dataset:::::::::::::::')\n",
    "print(train_df.isnull().sum())\n",
    "print(\"=========================================\")\n",
    "print('Test Dataset::::::::::::::::')\n",
    "print(test_df.isnull().sum())"
   ]
  },
  {
   "cell_type": "code",
   "execution_count": 70,
   "metadata": {
    "execution": {
     "iopub.execute_input": "2020-09-22T18:16:42.162887Z",
     "iopub.status.busy": "2020-09-22T18:16:42.161724Z",
     "iopub.status.idle": "2020-09-22T18:16:42.164739Z",
     "shell.execute_reply": "2020-09-22T18:16:42.165348Z"
    },
    "papermill": {
     "duration": 0.053746,
     "end_time": "2020-09-22T18:16:42.165515",
     "exception": false,
     "start_time": "2020-09-22T18:16:42.111769",
     "status": "completed"
    },
    "tags": []
   },
   "outputs": [],
   "source": [
    "# Find features of missing values \n",
    "def NaNFeature(df):\n",
    "    nan_feature = [n for n in df.columns if df[n].isnull().sum()>=1]\n",
    "    return nan_feature"
   ]
  },
  {
   "cell_type": "code",
   "execution_count": 71,
   "metadata": {
    "execution": {
     "iopub.execute_input": "2020-09-22T18:16:42.254849Z",
     "iopub.status.busy": "2020-09-22T18:16:42.253813Z",
     "iopub.status.idle": "2020-09-22T18:16:42.564892Z",
     "shell.execute_reply": "2020-09-22T18:16:42.563986Z"
    },
    "papermill": {
     "duration": 0.36262,
     "end_time": "2020-09-22T18:16:42.565078",
     "exception": false,
     "start_time": "2020-09-22T18:16:42.202458",
     "status": "completed"
    },
    "tags": []
   },
   "outputs": [],
   "source": [
    "# Let's fill missing values of train detaset \n",
    "nan_features_train = NaNFeature(train_df)\n",
    "for fillnan in nan_features_train:\n",
    "    train_df[fillnan].fillna(train_df[fillnan].mode()[0], inplace=True)"
   ]
  },
  {
   "cell_type": "code",
   "execution_count": 72,
   "metadata": {
    "execution": {
     "iopub.execute_input": "2020-09-22T18:16:42.648769Z",
     "iopub.status.busy": "2020-09-22T18:16:42.647922Z",
     "iopub.status.idle": "2020-09-22T18:16:42.793466Z",
     "shell.execute_reply": "2020-09-22T18:16:42.792587Z"
    },
    "papermill": {
     "duration": 0.190102,
     "end_time": "2020-09-22T18:16:42.793645",
     "exception": false,
     "start_time": "2020-09-22T18:16:42.603543",
     "status": "completed"
    },
    "tags": []
   },
   "outputs": [],
   "source": [
    "# Let's fill missing values of test detaset \n",
    "nan_features_test = NaNFeature(test_df)\n",
    "for fillnan in nan_features_test:\n",
    "    test_df[fillnan].fillna(test_df[fillnan].mode()[0], inplace=True)"
   ]
  },
  {
   "cell_type": "code",
   "execution_count": 73,
   "metadata": {
    "execution": {
     "iopub.execute_input": "2020-09-22T18:16:42.879826Z",
     "iopub.status.busy": "2020-09-22T18:16:42.878830Z",
     "iopub.status.idle": "2020-09-22T18:16:43.319798Z",
     "shell.execute_reply": "2020-09-22T18:16:43.320425Z"
    },
    "papermill": {
     "duration": 0.48974,
     "end_time": "2020-09-22T18:16:43.320601",
     "exception": false,
     "start_time": "2020-09-22T18:16:42.830861",
     "status": "completed"
    },
    "tags": []
   },
   "outputs": [
    {
     "name": "stdout",
     "output_type": "stream",
     "text": [
      "Train Dataset:::::::::::::::\n",
      "case_id                              0.0\n",
      "Hospital_code                        0.0\n",
      "Hospital_type_code                   0.0\n",
      "City_Code_Hospital                   0.0\n",
      "Hospital_region_code                 0.0\n",
      "Available Extra Rooms in Hospital    0.0\n",
      "Department                           0.0\n",
      "Ward_Type                            0.0\n",
      "Ward_Facility_Code                   0.0\n",
      "Bed Grade                            0.0\n",
      "patientid                            0.0\n",
      "City_Code_Patient                    0.0\n",
      "Type of Admission                    0.0\n",
      "Severity of Illness                  0.0\n",
      "Visitors with Patient                0.0\n",
      "Age                                  0.0\n",
      "Admission_Deposit                    0.0\n",
      "Stay                                 0.0\n",
      "dtype: float64\n",
      "=========================================\n",
      "Test Dataset:::::::::::::::\n",
      "case_id                              0.0\n",
      "Hospital_code                        0.0\n",
      "Hospital_type_code                   0.0\n",
      "City_Code_Hospital                   0.0\n",
      "Hospital_region_code                 0.0\n",
      "Available Extra Rooms in Hospital    0.0\n",
      "Department                           0.0\n",
      "Ward_Type                            0.0\n",
      "Ward_Facility_Code                   0.0\n",
      "Bed Grade                            0.0\n",
      "patientid                            0.0\n",
      "City_Code_Patient                    0.0\n",
      "Type of Admission                    0.0\n",
      "Severity of Illness                  0.0\n",
      "Visitors with Patient                0.0\n",
      "Age                                  0.0\n",
      "Admission_Deposit                    0.0\n",
      "dtype: float64\n"
     ]
    }
   ],
   "source": [
    "# Lets check missing values percentage\n",
    "print('Train Dataset:::::::::::::::')\n",
    "print(np.round(train_df.isnull().sum() * 100 / len(train_df), 4))\n",
    "print(\"=========================================\")\n",
    "print('Test Dataset:::::::::::::::')\n",
    "print(np.round(test_df.isnull().sum() * 100 / len(test_df), 4))"
   ]
  },
  {
   "cell_type": "markdown",
   "metadata": {
    "papermill": {
     "duration": 0.036843,
     "end_time": "2020-09-22T18:16:43.394379",
     "exception": false,
     "start_time": "2020-09-22T18:16:43.357536",
     "status": "completed"
    },
    "tags": []
   },
   "source": [
    "### Handle Categorical Features"
   ]
  },
  {
   "cell_type": "code",
   "execution_count": 74,
   "metadata": {
    "execution": {
     "iopub.execute_input": "2020-09-22T18:16:43.475257Z",
     "iopub.status.busy": "2020-09-22T18:16:43.474378Z",
     "iopub.status.idle": "2020-09-22T18:16:43.477395Z",
     "shell.execute_reply": "2020-09-22T18:16:43.478039Z"
    },
    "papermill": {
     "duration": 0.047303,
     "end_time": "2020-09-22T18:16:43.478208",
     "exception": false,
     "start_time": "2020-09-22T18:16:43.430905",
     "status": "completed"
    },
    "tags": []
   },
   "outputs": [],
   "source": [
    "# Let's Find out categorical features through a function\n",
    "def CatFeatures(df):\n",
    "    features = [feature for feature in df.columns if df[feature].dtypes == \"O\"]\n",
    "    return features"
   ]
  },
  {
   "cell_type": "code",
   "execution_count": 75,
   "metadata": {
    "execution": {
     "iopub.execute_input": "2020-09-22T18:16:43.562621Z",
     "iopub.status.busy": "2020-09-22T18:16:43.561458Z",
     "iopub.status.idle": "2020-09-22T18:16:43.565891Z",
     "shell.execute_reply": "2020-09-22T18:16:43.566490Z"
    },
    "papermill": {
     "duration": 0.050903,
     "end_time": "2020-09-22T18:16:43.566663",
     "exception": false,
     "start_time": "2020-09-22T18:16:43.515760",
     "status": "completed"
    },
    "tags": []
   },
   "outputs": [
    {
     "data": {
      "text/plain": [
       "['Hospital_type_code',\n",
       " 'Hospital_region_code',\n",
       " 'Department',\n",
       " 'Ward_Type',\n",
       " 'Ward_Facility_Code',\n",
       " 'Type of Admission',\n",
       " 'Severity of Illness',\n",
       " 'Age']"
      ]
     },
     "execution_count": 75,
     "metadata": {},
     "output_type": "execute_result"
    }
   ],
   "source": [
    "# categorical features of train dataset\n",
    "cat_features_train = CatFeatures(train_df)\n",
    "cat_features_train"
   ]
  },
  {
   "cell_type": "code",
   "execution_count": 76,
   "metadata": {
    "execution": {
     "iopub.execute_input": "2020-09-22T18:16:43.665075Z",
     "iopub.status.busy": "2020-09-22T18:16:43.664013Z",
     "iopub.status.idle": "2020-09-22T18:16:43.807721Z",
     "shell.execute_reply": "2020-09-22T18:16:43.806730Z"
    },
    "papermill": {
     "duration": 0.202815,
     "end_time": "2020-09-22T18:16:43.807889",
     "exception": false,
     "start_time": "2020-09-22T18:16:43.605074",
     "status": "completed"
    },
    "tags": []
   },
   "outputs": [
    {
     "name": "stdout",
     "output_type": "stream",
     "text": [
      "['c' 'e' 'b' 'a' 'f' 'd' 'g']\n",
      "['Z' 'X' 'Y']\n",
      "['radiotherapy' 'anesthesia' 'gynecology' 'TB & Chest disease' 'surgery']\n",
      "['R' 'S' 'Q' 'P' 'T' 'U']\n",
      "['F' 'E' 'D' 'B' 'A' 'C']\n",
      "['Emergency' 'Trauma' 'Urgent']\n",
      "['Extreme' 'Moderate' 'Minor']\n",
      "['51-60' '71-80' '31-40' '41-50' '81-90' '61-70' '21-30' '11-20' '0-10'\n",
      " '91-100']\n"
     ]
    }
   ],
   "source": [
    "# Let's check unique value of categorical features of train data\n",
    "for i in cat_features_train:\n",
    "    print(train_df[i].unique())"
   ]
  },
  {
   "cell_type": "code",
   "execution_count": 77,
   "metadata": {
    "execution": {
     "iopub.execute_input": "2020-09-22T18:16:43.894054Z",
     "iopub.status.busy": "2020-09-22T18:16:43.892969Z",
     "iopub.status.idle": "2020-09-22T18:16:43.898533Z",
     "shell.execute_reply": "2020-09-22T18:16:43.897773Z"
    },
    "papermill": {
     "duration": 0.050566,
     "end_time": "2020-09-22T18:16:43.898696",
     "exception": false,
     "start_time": "2020-09-22T18:16:43.848130",
     "status": "completed"
    },
    "tags": []
   },
   "outputs": [
    {
     "data": {
      "text/plain": [
       "['Hospital_type_code',\n",
       " 'Hospital_region_code',\n",
       " 'Department',\n",
       " 'Ward_Type',\n",
       " 'Ward_Facility_Code',\n",
       " 'Type of Admission',\n",
       " 'Severity of Illness',\n",
       " 'Age']"
      ]
     },
     "execution_count": 77,
     "metadata": {},
     "output_type": "execute_result"
    }
   ],
   "source": [
    "# categorical features of test dataset\n",
    "cat_features_test = CatFeatures(test_df)\n",
    "cat_features_test"
   ]
  },
  {
   "cell_type": "code",
   "execution_count": 78,
   "metadata": {
    "execution": {
     "iopub.execute_input": "2020-09-22T18:16:43.988397Z",
     "iopub.status.busy": "2020-09-22T18:16:43.986862Z",
     "iopub.status.idle": "2020-09-22T18:16:44.082802Z",
     "shell.execute_reply": "2020-09-22T18:16:44.079091Z"
    },
    "papermill": {
     "duration": 0.146018,
     "end_time": "2020-09-22T18:16:44.083462",
     "exception": false,
     "start_time": "2020-09-22T18:16:43.937444",
     "status": "completed"
    },
    "tags": []
   },
   "outputs": [
    {
     "name": "stdout",
     "output_type": "stream",
     "text": [
      "['c' 'a' 'b' 'e' 'f' 'd' 'g']\n",
      "['Z' 'X' 'Y']\n",
      "['gynecology' 'anesthesia' 'TB & Chest disease' 'radiotherapy' 'surgery']\n",
      "['S' 'Q' 'R' 'P' 'T' 'U']\n",
      "['A' 'F' 'D' 'E' 'C' 'B']\n",
      "['Emergency' 'Trauma' 'Urgent']\n",
      "['Moderate' 'Extreme' 'Minor']\n",
      "['71-80' '31-40' '51-60' '41-50' '11-20' '61-70' '21-30' '81-90' '0-10'\n",
      " '91-100']\n"
     ]
    }
   ],
   "source": [
    "for i in cat_features_test:\n",
    "    print(test_df[i].unique())"
   ]
  },
  {
   "cell_type": "code",
   "execution_count": 79,
   "metadata": {
    "execution": {
     "iopub.execute_input": "2020-09-22T18:16:44.209914Z",
     "iopub.status.busy": "2020-09-22T18:16:44.208855Z",
     "iopub.status.idle": "2020-09-22T18:16:44.223973Z",
     "shell.execute_reply": "2020-09-22T18:16:44.226002Z"
    },
    "papermill": {
     "duration": 0.082428,
     "end_time": "2020-09-22T18:16:44.226401",
     "exception": false,
     "start_time": "2020-09-22T18:16:44.143973",
     "status": "completed"
    },
    "tags": []
   },
   "outputs": [],
   "source": [
    "# # Let's create a function to handle categorical features \n",
    "def CatToNumaric():\n",
    "    # Handle categorical feature of train dataset\n",
    "    for n in cat_features_train:\n",
    "        num_data = dict(zip(train_df[n].unique(), range(len(train_df[n].unique()))))\n",
    "        train_df[n] = train_df[n].map(num_data) # or train_df[n].replace(num_data, inplace=True)\n",
    "        \n",
    "    # Handle categorical features of test dataset\n",
    "    for n in cat_features_test:\n",
    "        num_data = dict(zip(test_df[n].unique(), range(len(test_df[n].unique()))))\n",
    "        test_df[n] = test_df[n].map(num_data) # or test_df[n].replace(num_data, inplace=True)"
   ]
  },
  {
   "cell_type": "code",
   "execution_count": 80,
   "metadata": {
    "execution": {
     "iopub.execute_input": "2020-09-22T18:16:44.354243Z",
     "iopub.status.busy": "2020-09-22T18:16:44.353048Z",
     "iopub.status.idle": "2020-09-22T18:16:45.432812Z",
     "shell.execute_reply": "2020-09-22T18:16:45.433606Z"
    },
    "papermill": {
     "duration": 1.145254,
     "end_time": "2020-09-22T18:16:45.433831",
     "exception": false,
     "start_time": "2020-09-22T18:16:44.288577",
     "status": "completed"
    },
    "tags": []
   },
   "outputs": [
    {
     "name": "stdout",
     "output_type": "stream",
     "text": [
      "Train Dataset:::::::::::::::\n",
      "case_id                                int64\n",
      "Hospital_code                          int64\n",
      "Hospital_type_code                     int64\n",
      "City_Code_Hospital                     int64\n",
      "Hospital_region_code                   int64\n",
      "Available Extra Rooms in Hospital      int64\n",
      "Department                             int64\n",
      "Ward_Type                              int64\n",
      "Ward_Facility_Code                     int64\n",
      "Bed Grade                            float64\n",
      "patientid                              int64\n",
      "City_Code_Patient                    float64\n",
      "Type of Admission                      int64\n",
      "Severity of Illness                    int64\n",
      "Visitors with Patient                  int64\n",
      "Age                                    int64\n",
      "Admission_Deposit                    float64\n",
      "Stay                                   int64\n",
      "dtype: object\n",
      "=====================================\n",
      "Test Dataset:::::::::::::::\n",
      "case_id                                int64\n",
      "Hospital_code                          int64\n",
      "Hospital_type_code                     int64\n",
      "City_Code_Hospital                     int64\n",
      "Hospital_region_code                   int64\n",
      "Available Extra Rooms in Hospital      int64\n",
      "Department                             int64\n",
      "Ward_Type                              int64\n",
      "Ward_Facility_Code                     int64\n",
      "Bed Grade                            float64\n",
      "patientid                              int64\n",
      "City_Code_Patient                    float64\n",
      "Type of Admission                      int64\n",
      "Severity of Illness                    int64\n",
      "Visitors with Patient                  int64\n",
      "Age                                    int64\n",
      "Admission_Deposit                    float64\n",
      "dtype: object\n"
     ]
    }
   ],
   "source": [
    "# Let's check features data types\n",
    "CatToNumaric()\n",
    "print('Train Dataset:::::::::::::::')\n",
    "print(train_df.dtypes)\n",
    "print(\"=====================================\")\n",
    "print('Test Dataset:::::::::::::::')\n",
    "print(test_df.dtypes)"
   ]
  },
  {
   "cell_type": "markdown",
   "metadata": {
    "papermill": {
     "duration": 0.042472,
     "end_time": "2020-09-22T18:16:45.519957",
     "exception": false,
     "start_time": "2020-09-22T18:16:45.477485",
     "status": "completed"
    },
    "tags": []
   },
   "source": [
    "#### Clean unused features"
   ]
  },
  {
   "cell_type": "code",
   "execution_count": 81,
   "metadata": {
    "execution": {
     "iopub.execute_input": "2020-09-22T18:16:45.616262Z",
     "iopub.status.busy": "2020-09-22T18:16:45.615394Z",
     "iopub.status.idle": "2020-09-22T18:16:45.629776Z",
     "shell.execute_reply": "2020-09-22T18:16:45.629063Z"
    },
    "papermill": {
     "duration": 0.067766,
     "end_time": "2020-09-22T18:16:45.629915",
     "exception": false,
     "start_time": "2020-09-22T18:16:45.562149",
     "status": "completed"
    },
    "tags": []
   },
   "outputs": [
    {
     "data": {
      "text/html": [
       "<div>\n",
       "<style scoped>\n",
       "    .dataframe tbody tr th:only-of-type {\n",
       "        vertical-align: middle;\n",
       "    }\n",
       "\n",
       "    .dataframe tbody tr th {\n",
       "        vertical-align: top;\n",
       "    }\n",
       "\n",
       "    .dataframe thead th {\n",
       "        text-align: right;\n",
       "    }\n",
       "</style>\n",
       "<table border=\"1\" class=\"dataframe\">\n",
       "  <thead>\n",
       "    <tr style=\"text-align: right;\">\n",
       "      <th></th>\n",
       "      <th>Column</th>\n",
       "      <th>Description</th>\n",
       "    </tr>\n",
       "  </thead>\n",
       "  <tbody>\n",
       "    <tr>\n",
       "      <th>0</th>\n",
       "      <td>case_id</td>\n",
       "      <td>Case_ID registered in Hospital</td>\n",
       "    </tr>\n",
       "    <tr>\n",
       "      <th>1</th>\n",
       "      <td>Hospital_code</td>\n",
       "      <td>Unique code for the Hospital</td>\n",
       "    </tr>\n",
       "    <tr>\n",
       "      <th>2</th>\n",
       "      <td>Hospital_type_code</td>\n",
       "      <td>Unique code for the type of Hospital</td>\n",
       "    </tr>\n",
       "    <tr>\n",
       "      <th>3</th>\n",
       "      <td>City_Code_Hospital</td>\n",
       "      <td>City Code of the Hospital</td>\n",
       "    </tr>\n",
       "    <tr>\n",
       "      <th>4</th>\n",
       "      <td>Hospital_region_code</td>\n",
       "      <td>Region Code of the Hospital</td>\n",
       "    </tr>\n",
       "    <tr>\n",
       "      <th>5</th>\n",
       "      <td>Available Extra Rooms in Hospital</td>\n",
       "      <td>Number of Extra rooms available in the Hospital</td>\n",
       "    </tr>\n",
       "    <tr>\n",
       "      <th>6</th>\n",
       "      <td>Department</td>\n",
       "      <td>Department overlooking the case</td>\n",
       "    </tr>\n",
       "    <tr>\n",
       "      <th>7</th>\n",
       "      <td>Ward_Type</td>\n",
       "      <td>Code for the Ward type</td>\n",
       "    </tr>\n",
       "    <tr>\n",
       "      <th>8</th>\n",
       "      <td>Ward_Facility_Code</td>\n",
       "      <td>Code for the Ward Facility</td>\n",
       "    </tr>\n",
       "    <tr>\n",
       "      <th>9</th>\n",
       "      <td>Bed Grade</td>\n",
       "      <td>Condition of Bed in the Ward</td>\n",
       "    </tr>\n",
       "    <tr>\n",
       "      <th>10</th>\n",
       "      <td>patientid</td>\n",
       "      <td>Unique Patient Id</td>\n",
       "    </tr>\n",
       "    <tr>\n",
       "      <th>11</th>\n",
       "      <td>City_Code_Patient</td>\n",
       "      <td>City Code for the patient</td>\n",
       "    </tr>\n",
       "    <tr>\n",
       "      <th>12</th>\n",
       "      <td>Type of Admission</td>\n",
       "      <td>Admission Type registered by the Hospital</td>\n",
       "    </tr>\n",
       "    <tr>\n",
       "      <th>13</th>\n",
       "      <td>Severity of Illness</td>\n",
       "      <td>Severity of the illness recorded at the time o...</td>\n",
       "    </tr>\n",
       "    <tr>\n",
       "      <th>14</th>\n",
       "      <td>Visitors with Patient</td>\n",
       "      <td>Number of Visitors with the patient</td>\n",
       "    </tr>\n",
       "    <tr>\n",
       "      <th>15</th>\n",
       "      <td>Age</td>\n",
       "      <td>Age of the patient</td>\n",
       "    </tr>\n",
       "    <tr>\n",
       "      <th>16</th>\n",
       "      <td>Admission_Deposit</td>\n",
       "      <td>Deposit at the Admission Time</td>\n",
       "    </tr>\n",
       "    <tr>\n",
       "      <th>17</th>\n",
       "      <td>Stay</td>\n",
       "      <td>Stay Days by the patient</td>\n",
       "    </tr>\n",
       "  </tbody>\n",
       "</table>\n",
       "</div>"
      ],
      "text/plain": [
       "                               Column  \\\n",
       "0                             case_id   \n",
       "1                       Hospital_code   \n",
       "2                  Hospital_type_code   \n",
       "3                  City_Code_Hospital   \n",
       "4                Hospital_region_code   \n",
       "5   Available Extra Rooms in Hospital   \n",
       "6                          Department   \n",
       "7                           Ward_Type   \n",
       "8                  Ward_Facility_Code   \n",
       "9                           Bed Grade   \n",
       "10                          patientid   \n",
       "11                  City_Code_Patient   \n",
       "12                  Type of Admission   \n",
       "13                Severity of Illness   \n",
       "14              Visitors with Patient   \n",
       "15                                Age   \n",
       "16                  Admission_Deposit   \n",
       "17                               Stay   \n",
       "\n",
       "                                          Description  \n",
       "0                      Case_ID registered in Hospital  \n",
       "1                        Unique code for the Hospital  \n",
       "2                Unique code for the type of Hospital  \n",
       "3                           City Code of the Hospital  \n",
       "4                         Region Code of the Hospital  \n",
       "5     Number of Extra rooms available in the Hospital  \n",
       "6                     Department overlooking the case  \n",
       "7                              Code for the Ward type  \n",
       "8                          Code for the Ward Facility  \n",
       "9                        Condition of Bed in the Ward  \n",
       "10                                  Unique Patient Id  \n",
       "11                          City Code for the patient  \n",
       "12          Admission Type registered by the Hospital  \n",
       "13  Severity of the illness recorded at the time o...  \n",
       "14                Number of Visitors with the patient  \n",
       "15                                 Age of the patient  \n",
       "16                      Deposit at the Admission Time  \n",
       "17                           Stay Days by the patient  "
      ]
     },
     "execution_count": 81,
     "metadata": {},
     "output_type": "execute_result"
    }
   ],
   "source": [
    "# Let's see the train dictionary data to drop un necessary features\n",
    "train_dict"
   ]
  },
  {
   "cell_type": "code",
   "execution_count": 82,
   "metadata": {
    "execution": {
     "iopub.execute_input": "2020-09-22T18:16:45.726263Z",
     "iopub.status.busy": "2020-09-22T18:16:45.725276Z",
     "iopub.status.idle": "2020-09-22T18:16:45.728227Z",
     "shell.execute_reply": "2020-09-22T18:16:45.728837Z"
    },
    "papermill": {
     "duration": 0.056085,
     "end_time": "2020-09-22T18:16:45.729013",
     "exception": false,
     "start_time": "2020-09-22T18:16:45.672928",
     "status": "completed"
    },
    "tags": []
   },
   "outputs": [],
   "source": [
    "# Lets drop features those are necessary so much\n",
    "def DropFeatures(df):\n",
    "    drop_features = {'case_id', 'Hospital_code', 'Hospital_type_code', 'patientid'}\n",
    "    df.drop(drop_features, axis=1, inplace=True)\n",
    "    return df"
   ]
  },
  {
   "cell_type": "code",
   "execution_count": 83,
   "metadata": {
    "execution": {
     "iopub.execute_input": "2020-09-22T18:16:45.824510Z",
     "iopub.status.busy": "2020-09-22T18:16:45.823491Z",
     "iopub.status.idle": "2020-09-22T18:16:45.969393Z",
     "shell.execute_reply": "2020-09-22T18:16:45.968640Z"
    },
    "papermill": {
     "duration": 0.196633,
     "end_time": "2020-09-22T18:16:45.969515",
     "exception": false,
     "start_time": "2020-09-22T18:16:45.772882",
     "status": "completed"
    },
    "tags": []
   },
   "outputs": [
    {
     "data": {
      "text/html": [
       "<div>\n",
       "<style scoped>\n",
       "    .dataframe tbody tr th:only-of-type {\n",
       "        vertical-align: middle;\n",
       "    }\n",
       "\n",
       "    .dataframe tbody tr th {\n",
       "        vertical-align: top;\n",
       "    }\n",
       "\n",
       "    .dataframe thead th {\n",
       "        text-align: right;\n",
       "    }\n",
       "</style>\n",
       "<table border=\"1\" class=\"dataframe\">\n",
       "  <thead>\n",
       "    <tr style=\"text-align: right;\">\n",
       "      <th></th>\n",
       "      <th>City_Code_Hospital</th>\n",
       "      <th>Hospital_region_code</th>\n",
       "      <th>Available Extra Rooms in Hospital</th>\n",
       "      <th>Department</th>\n",
       "      <th>Ward_Type</th>\n",
       "      <th>Ward_Facility_Code</th>\n",
       "      <th>Bed Grade</th>\n",
       "      <th>City_Code_Patient</th>\n",
       "      <th>Type of Admission</th>\n",
       "      <th>Severity of Illness</th>\n",
       "      <th>Visitors with Patient</th>\n",
       "      <th>Age</th>\n",
       "      <th>Admission_Deposit</th>\n",
       "      <th>Stay</th>\n",
       "    </tr>\n",
       "  </thead>\n",
       "  <tbody>\n",
       "    <tr>\n",
       "      <th>0</th>\n",
       "      <td>3</td>\n",
       "      <td>0</td>\n",
       "      <td>3</td>\n",
       "      <td>0</td>\n",
       "      <td>0</td>\n",
       "      <td>0</td>\n",
       "      <td>2.0</td>\n",
       "      <td>7.0</td>\n",
       "      <td>0</td>\n",
       "      <td>0</td>\n",
       "      <td>2</td>\n",
       "      <td>0</td>\n",
       "      <td>4911.0</td>\n",
       "      <td>1</td>\n",
       "    </tr>\n",
       "    <tr>\n",
       "      <th>1</th>\n",
       "      <td>5</td>\n",
       "      <td>0</td>\n",
       "      <td>2</td>\n",
       "      <td>0</td>\n",
       "      <td>1</td>\n",
       "      <td>0</td>\n",
       "      <td>2.0</td>\n",
       "      <td>7.0</td>\n",
       "      <td>1</td>\n",
       "      <td>0</td>\n",
       "      <td>2</td>\n",
       "      <td>0</td>\n",
       "      <td>5954.0</td>\n",
       "      <td>5</td>\n",
       "    </tr>\n",
       "    <tr>\n",
       "      <th>2</th>\n",
       "      <td>1</td>\n",
       "      <td>1</td>\n",
       "      <td>2</td>\n",
       "      <td>1</td>\n",
       "      <td>1</td>\n",
       "      <td>1</td>\n",
       "      <td>2.0</td>\n",
       "      <td>7.0</td>\n",
       "      <td>1</td>\n",
       "      <td>0</td>\n",
       "      <td>2</td>\n",
       "      <td>0</td>\n",
       "      <td>4745.0</td>\n",
       "      <td>4</td>\n",
       "    </tr>\n",
       "    <tr>\n",
       "      <th>3</th>\n",
       "      <td>2</td>\n",
       "      <td>2</td>\n",
       "      <td>2</td>\n",
       "      <td>0</td>\n",
       "      <td>0</td>\n",
       "      <td>2</td>\n",
       "      <td>2.0</td>\n",
       "      <td>7.0</td>\n",
       "      <td>1</td>\n",
       "      <td>0</td>\n",
       "      <td>2</td>\n",
       "      <td>0</td>\n",
       "      <td>7272.0</td>\n",
       "      <td>5</td>\n",
       "    </tr>\n",
       "    <tr>\n",
       "      <th>4</th>\n",
       "      <td>2</td>\n",
       "      <td>2</td>\n",
       "      <td>2</td>\n",
       "      <td>0</td>\n",
       "      <td>1</td>\n",
       "      <td>2</td>\n",
       "      <td>2.0</td>\n",
       "      <td>7.0</td>\n",
       "      <td>1</td>\n",
       "      <td>0</td>\n",
       "      <td>2</td>\n",
       "      <td>0</td>\n",
       "      <td>5558.0</td>\n",
       "      <td>5</td>\n",
       "    </tr>\n",
       "  </tbody>\n",
       "</table>\n",
       "</div>"
      ],
      "text/plain": [
       "   City_Code_Hospital  Hospital_region_code  \\\n",
       "0                   3                     0   \n",
       "1                   5                     0   \n",
       "2                   1                     1   \n",
       "3                   2                     2   \n",
       "4                   2                     2   \n",
       "\n",
       "   Available Extra Rooms in Hospital  Department  Ward_Type  \\\n",
       "0                                  3           0          0   \n",
       "1                                  2           0          1   \n",
       "2                                  2           1          1   \n",
       "3                                  2           0          0   \n",
       "4                                  2           0          1   \n",
       "\n",
       "   Ward_Facility_Code  Bed Grade  City_Code_Patient  Type of Admission  \\\n",
       "0                   0        2.0                7.0                  0   \n",
       "1                   0        2.0                7.0                  1   \n",
       "2                   1        2.0                7.0                  1   \n",
       "3                   2        2.0                7.0                  1   \n",
       "4                   2        2.0                7.0                  1   \n",
       "\n",
       "   Severity of Illness  Visitors with Patient  Age  Admission_Deposit  Stay  \n",
       "0                    0                      2    0             4911.0     1  \n",
       "1                    0                      2    0             5954.0     5  \n",
       "2                    0                      2    0             4745.0     4  \n",
       "3                    0                      2    0             7272.0     5  \n",
       "4                    0                      2    0             5558.0     5  "
      ]
     },
     "execution_count": 83,
     "metadata": {},
     "output_type": "execute_result"
    }
   ],
   "source": [
    "# Show train dataset\n",
    "train_data = DropFeatures(train_df)\n",
    "train_data.head()"
   ]
  },
  {
   "cell_type": "code",
   "execution_count": 84,
   "metadata": {},
   "outputs": [
    {
     "name": "stdout",
     "output_type": "stream",
     "text": [
      "(City_Code_Hospital)[ 3  5  1  2  6  9 10  4 11  7 13]\n",
      "(Hospital_region_code)[0 1 2]\n",
      "(Available Extra Rooms in Hospital)[ 3  2  1  4  6  5  7  8  9 10 12  0 11 20 14 21 13 24]\n",
      "(Department)[0 1 2 3 4]\n",
      "(Ward_Type)[0 1 2 3 4 5]\n",
      "(Ward_Facility_Code)[0 1 2 3 4 5]\n",
      "(Bed Grade)[2. 3. 4. 1.]\n",
      "(City_Code_Patient)[ 7.  8.  2.  5.  6.  3.  4.  1.  9. 14. 25. 15. 12. 10. 28. 24. 23. 20.\n",
      " 11. 13. 21. 18. 16. 26. 27. 22. 19. 31. 34. 32. 30. 29. 37. 33. 35. 36.\n",
      " 38.]\n",
      "(Type of Admission)[0 1 2]\n",
      "(Severity of Illness)[0 1 2]\n",
      "(Visitors with Patient)[ 2  4  3  8  6  7 13  5  1 10 15 11 12  9 24 16 14 20  0 19 18 17 23 21\n",
      " 32 30 22 25]\n",
      "(Age)[0 1 2 3 4 5 6 7 8 9]\n",
      "(Admission_Deposit)[4911. 5954. 4745. ... 1937. 9439. 2349.]\n",
      "(Stay)[ 1  5  4  2  6  3  8 11  9  7 10]\n"
     ]
    }
   ],
   "source": [
    "# Uniques for Encoded_Dataset\n",
    "\n",
    "for i in train_data.columns:\n",
    "    print(f'({i}){train_data[i].unique()}')"
   ]
  },
  {
   "cell_type": "code",
   "execution_count": 85,
   "metadata": {},
   "outputs": [
    {
     "name": "stdout",
     "output_type": "stream",
     "text": [
      "1800.0\n",
      "11008.0\n"
     ]
    }
   ],
   "source": [
    "print(train_data['Admission_Deposit'].min())\n",
    "print(train_data['Admission_Deposit'].max())"
   ]
  },
  {
   "cell_type": "code",
   "execution_count": 86,
   "metadata": {},
   "outputs": [],
   "source": [
    "# train_data.to_csv('Encoded_Dataset.csv')"
   ]
  },
  {
   "cell_type": "code",
   "execution_count": 87,
   "metadata": {
    "execution": {
     "iopub.execute_input": "2020-09-22T18:16:46.069400Z",
     "iopub.status.busy": "2020-09-22T18:16:46.068250Z",
     "iopub.status.idle": "2020-09-22T18:16:46.125343Z",
     "shell.execute_reply": "2020-09-22T18:16:46.123940Z"
    },
    "papermill": {
     "duration": 0.109646,
     "end_time": "2020-09-22T18:16:46.125513",
     "exception": false,
     "start_time": "2020-09-22T18:16:46.015867",
     "status": "completed"
    },
    "tags": []
   },
   "outputs": [
    {
     "data": {
      "text/html": [
       "<div>\n",
       "<style scoped>\n",
       "    .dataframe tbody tr th:only-of-type {\n",
       "        vertical-align: middle;\n",
       "    }\n",
       "\n",
       "    .dataframe tbody tr th {\n",
       "        vertical-align: top;\n",
       "    }\n",
       "\n",
       "    .dataframe thead th {\n",
       "        text-align: right;\n",
       "    }\n",
       "</style>\n",
       "<table border=\"1\" class=\"dataframe\">\n",
       "  <thead>\n",
       "    <tr style=\"text-align: right;\">\n",
       "      <th></th>\n",
       "      <th>City_Code_Hospital</th>\n",
       "      <th>Hospital_region_code</th>\n",
       "      <th>Available Extra Rooms in Hospital</th>\n",
       "      <th>Department</th>\n",
       "      <th>Ward_Type</th>\n",
       "      <th>Ward_Facility_Code</th>\n",
       "      <th>Bed Grade</th>\n",
       "      <th>City_Code_Patient</th>\n",
       "      <th>Type of Admission</th>\n",
       "      <th>Severity of Illness</th>\n",
       "      <th>Visitors with Patient</th>\n",
       "      <th>Age</th>\n",
       "      <th>Admission_Deposit</th>\n",
       "    </tr>\n",
       "  </thead>\n",
       "  <tbody>\n",
       "    <tr>\n",
       "      <th>0</th>\n",
       "      <td>3</td>\n",
       "      <td>0</td>\n",
       "      <td>3</td>\n",
       "      <td>0</td>\n",
       "      <td>0</td>\n",
       "      <td>0</td>\n",
       "      <td>2.0</td>\n",
       "      <td>2.0</td>\n",
       "      <td>0</td>\n",
       "      <td>0</td>\n",
       "      <td>2</td>\n",
       "      <td>0</td>\n",
       "      <td>3095.0</td>\n",
       "    </tr>\n",
       "    <tr>\n",
       "      <th>1</th>\n",
       "      <td>4</td>\n",
       "      <td>1</td>\n",
       "      <td>2</td>\n",
       "      <td>0</td>\n",
       "      <td>0</td>\n",
       "      <td>1</td>\n",
       "      <td>2.0</td>\n",
       "      <td>2.0</td>\n",
       "      <td>1</td>\n",
       "      <td>0</td>\n",
       "      <td>4</td>\n",
       "      <td>0</td>\n",
       "      <td>4018.0</td>\n",
       "    </tr>\n",
       "    <tr>\n",
       "      <th>2</th>\n",
       "      <td>2</td>\n",
       "      <td>2</td>\n",
       "      <td>3</td>\n",
       "      <td>0</td>\n",
       "      <td>1</td>\n",
       "      <td>2</td>\n",
       "      <td>4.0</td>\n",
       "      <td>2.0</td>\n",
       "      <td>0</td>\n",
       "      <td>0</td>\n",
       "      <td>3</td>\n",
       "      <td>0</td>\n",
       "      <td>4492.0</td>\n",
       "    </tr>\n",
       "    <tr>\n",
       "      <th>3</th>\n",
       "      <td>6</td>\n",
       "      <td>1</td>\n",
       "      <td>3</td>\n",
       "      <td>0</td>\n",
       "      <td>1</td>\n",
       "      <td>1</td>\n",
       "      <td>2.0</td>\n",
       "      <td>2.0</td>\n",
       "      <td>1</td>\n",
       "      <td>0</td>\n",
       "      <td>3</td>\n",
       "      <td>0</td>\n",
       "      <td>4173.0</td>\n",
       "    </tr>\n",
       "    <tr>\n",
       "      <th>4</th>\n",
       "      <td>11</td>\n",
       "      <td>1</td>\n",
       "      <td>2</td>\n",
       "      <td>0</td>\n",
       "      <td>2</td>\n",
       "      <td>1</td>\n",
       "      <td>2.0</td>\n",
       "      <td>2.0</td>\n",
       "      <td>1</td>\n",
       "      <td>0</td>\n",
       "      <td>4</td>\n",
       "      <td>0</td>\n",
       "      <td>4161.0</td>\n",
       "    </tr>\n",
       "  </tbody>\n",
       "</table>\n",
       "</div>"
      ],
      "text/plain": [
       "   City_Code_Hospital  Hospital_region_code  \\\n",
       "0                   3                     0   \n",
       "1                   4                     1   \n",
       "2                   2                     2   \n",
       "3                   6                     1   \n",
       "4                  11                     1   \n",
       "\n",
       "   Available Extra Rooms in Hospital  Department  Ward_Type  \\\n",
       "0                                  3           0          0   \n",
       "1                                  2           0          0   \n",
       "2                                  3           0          1   \n",
       "3                                  3           0          1   \n",
       "4                                  2           0          2   \n",
       "\n",
       "   Ward_Facility_Code  Bed Grade  City_Code_Patient  Type of Admission  \\\n",
       "0                   0        2.0                2.0                  0   \n",
       "1                   1        2.0                2.0                  1   \n",
       "2                   2        4.0                2.0                  0   \n",
       "3                   1        2.0                2.0                  1   \n",
       "4                   1        2.0                2.0                  1   \n",
       "\n",
       "   Severity of Illness  Visitors with Patient  Age  Admission_Deposit  \n",
       "0                    0                      2    0             3095.0  \n",
       "1                    0                      4    0             4018.0  \n",
       "2                    0                      3    0             4492.0  \n",
       "3                    0                      3    0             4173.0  \n",
       "4                    0                      4    0             4161.0  "
      ]
     },
     "execution_count": 87,
     "metadata": {},
     "output_type": "execute_result"
    }
   ],
   "source": [
    "# Show test dataset\n",
    "test_data = DropFeatures(test_df)\n",
    "test_data.head()"
   ]
  },
  {
   "cell_type": "markdown",
   "metadata": {
    "papermill": {
     "duration": 0.044671,
     "end_time": "2020-09-22T18:16:46.217582",
     "exception": false,
     "start_time": "2020-09-22T18:16:46.172911",
     "status": "completed"
    },
    "tags": []
   },
   "source": [
    "### Feature Scaling (MinMax Scaler)"
   ]
  },
  {
   "cell_type": "code",
   "execution_count": 88,
   "metadata": {
    "execution": {
     "iopub.execute_input": "2020-09-22T18:16:46.323945Z",
     "iopub.status.busy": "2020-09-22T18:16:46.323118Z",
     "iopub.status.idle": "2020-09-22T18:16:46.326503Z",
     "shell.execute_reply": "2020-09-22T18:16:46.327215Z"
    },
    "papermill": {
     "duration": 0.064652,
     "end_time": "2020-09-22T18:16:46.327379",
     "exception": false,
     "start_time": "2020-09-22T18:16:46.262727",
     "status": "completed"
    },
    "tags": []
   },
   "outputs": [],
   "source": [
    "# create X_train & X_test for feature scaling \n",
    "X_train = train_data.iloc[: , :-1]\n",
    "X_test = test_data\n",
    "\n",
    "# y_train (depended feature)\n",
    "y_train = train_data.iloc[: , -1]"
   ]
  },
  {
   "cell_type": "code",
   "execution_count": 89,
   "metadata": {
    "execution": {
     "iopub.execute_input": "2020-09-22T18:16:46.424477Z",
     "iopub.status.busy": "2020-09-22T18:16:46.423547Z",
     "iopub.status.idle": "2020-09-22T18:16:46.427534Z",
     "shell.execute_reply": "2020-09-22T18:16:46.426895Z"
    },
    "papermill": {
     "duration": 0.055826,
     "end_time": "2020-09-22T18:16:46.427692",
     "exception": false,
     "start_time": "2020-09-22T18:16:46.371866",
     "status": "completed"
    },
    "tags": []
   },
   "outputs": [],
   "source": [
    "# create function for scaling X_ data \n",
    "def FeatureScaler(df):\n",
    "    min_max = MinMaxScaler()\n",
    "    df = pd.DataFrame(min_max.fit_transform(df), columns=df.columns)\n",
    "    return df"
   ]
  },
  {
   "cell_type": "code",
   "execution_count": 90,
   "metadata": {
    "execution": {
     "iopub.execute_input": "2020-09-22T18:16:46.526365Z",
     "iopub.status.busy": "2020-09-22T18:16:46.525315Z",
     "iopub.status.idle": "2020-09-22T18:16:46.654979Z",
     "shell.execute_reply": "2020-09-22T18:16:46.654265Z"
    },
    "papermill": {
     "duration": 0.181955,
     "end_time": "2020-09-22T18:16:46.655111",
     "exception": false,
     "start_time": "2020-09-22T18:16:46.473156",
     "status": "completed"
    },
    "tags": []
   },
   "outputs": [
    {
     "data": {
      "text/html": [
       "<div>\n",
       "<style scoped>\n",
       "    .dataframe tbody tr th:only-of-type {\n",
       "        vertical-align: middle;\n",
       "    }\n",
       "\n",
       "    .dataframe tbody tr th {\n",
       "        vertical-align: top;\n",
       "    }\n",
       "\n",
       "    .dataframe thead th {\n",
       "        text-align: right;\n",
       "    }\n",
       "</style>\n",
       "<table border=\"1\" class=\"dataframe\">\n",
       "  <thead>\n",
       "    <tr style=\"text-align: right;\">\n",
       "      <th></th>\n",
       "      <th>City_Code_Hospital</th>\n",
       "      <th>Hospital_region_code</th>\n",
       "      <th>Available Extra Rooms in Hospital</th>\n",
       "      <th>Department</th>\n",
       "      <th>Ward_Type</th>\n",
       "      <th>Ward_Facility_Code</th>\n",
       "      <th>Bed Grade</th>\n",
       "      <th>City_Code_Patient</th>\n",
       "      <th>Type of Admission</th>\n",
       "      <th>Severity of Illness</th>\n",
       "      <th>Visitors with Patient</th>\n",
       "      <th>Age</th>\n",
       "      <th>Admission_Deposit</th>\n",
       "    </tr>\n",
       "  </thead>\n",
       "  <tbody>\n",
       "    <tr>\n",
       "      <th>0</th>\n",
       "      <td>0.166667</td>\n",
       "      <td>0.0</td>\n",
       "      <td>0.125000</td>\n",
       "      <td>0.00</td>\n",
       "      <td>0.0</td>\n",
       "      <td>0.0</td>\n",
       "      <td>0.333333</td>\n",
       "      <td>0.162162</td>\n",
       "      <td>0.0</td>\n",
       "      <td>0.0</td>\n",
       "      <td>0.0625</td>\n",
       "      <td>0.0</td>\n",
       "      <td>0.337858</td>\n",
       "    </tr>\n",
       "    <tr>\n",
       "      <th>1</th>\n",
       "      <td>0.333333</td>\n",
       "      <td>0.0</td>\n",
       "      <td>0.083333</td>\n",
       "      <td>0.00</td>\n",
       "      <td>0.2</td>\n",
       "      <td>0.0</td>\n",
       "      <td>0.333333</td>\n",
       "      <td>0.162162</td>\n",
       "      <td>0.5</td>\n",
       "      <td>0.0</td>\n",
       "      <td>0.0625</td>\n",
       "      <td>0.0</td>\n",
       "      <td>0.451129</td>\n",
       "    </tr>\n",
       "    <tr>\n",
       "      <th>2</th>\n",
       "      <td>0.000000</td>\n",
       "      <td>0.5</td>\n",
       "      <td>0.083333</td>\n",
       "      <td>0.25</td>\n",
       "      <td>0.2</td>\n",
       "      <td>0.2</td>\n",
       "      <td>0.333333</td>\n",
       "      <td>0.162162</td>\n",
       "      <td>0.5</td>\n",
       "      <td>0.0</td>\n",
       "      <td>0.0625</td>\n",
       "      <td>0.0</td>\n",
       "      <td>0.319831</td>\n",
       "    </tr>\n",
       "    <tr>\n",
       "      <th>3</th>\n",
       "      <td>0.083333</td>\n",
       "      <td>1.0</td>\n",
       "      <td>0.083333</td>\n",
       "      <td>0.00</td>\n",
       "      <td>0.0</td>\n",
       "      <td>0.4</td>\n",
       "      <td>0.333333</td>\n",
       "      <td>0.162162</td>\n",
       "      <td>0.5</td>\n",
       "      <td>0.0</td>\n",
       "      <td>0.0625</td>\n",
       "      <td>0.0</td>\n",
       "      <td>0.594266</td>\n",
       "    </tr>\n",
       "    <tr>\n",
       "      <th>4</th>\n",
       "      <td>0.083333</td>\n",
       "      <td>1.0</td>\n",
       "      <td>0.083333</td>\n",
       "      <td>0.00</td>\n",
       "      <td>0.2</td>\n",
       "      <td>0.4</td>\n",
       "      <td>0.333333</td>\n",
       "      <td>0.162162</td>\n",
       "      <td>0.5</td>\n",
       "      <td>0.0</td>\n",
       "      <td>0.0625</td>\n",
       "      <td>0.0</td>\n",
       "      <td>0.408123</td>\n",
       "    </tr>\n",
       "  </tbody>\n",
       "</table>\n",
       "</div>"
      ],
      "text/plain": [
       "   City_Code_Hospital  Hospital_region_code  \\\n",
       "0            0.166667                   0.0   \n",
       "1            0.333333                   0.0   \n",
       "2            0.000000                   0.5   \n",
       "3            0.083333                   1.0   \n",
       "4            0.083333                   1.0   \n",
       "\n",
       "   Available Extra Rooms in Hospital  Department  Ward_Type  \\\n",
       "0                           0.125000        0.00        0.0   \n",
       "1                           0.083333        0.00        0.2   \n",
       "2                           0.083333        0.25        0.2   \n",
       "3                           0.083333        0.00        0.0   \n",
       "4                           0.083333        0.00        0.2   \n",
       "\n",
       "   Ward_Facility_Code  Bed Grade  City_Code_Patient  Type of Admission  \\\n",
       "0                 0.0   0.333333           0.162162                0.0   \n",
       "1                 0.0   0.333333           0.162162                0.5   \n",
       "2                 0.2   0.333333           0.162162                0.5   \n",
       "3                 0.4   0.333333           0.162162                0.5   \n",
       "4                 0.4   0.333333           0.162162                0.5   \n",
       "\n",
       "   Severity of Illness  Visitors with Patient  Age  Admission_Deposit  \n",
       "0                  0.0                 0.0625  0.0           0.337858  \n",
       "1                  0.0                 0.0625  0.0           0.451129  \n",
       "2                  0.0                 0.0625  0.0           0.319831  \n",
       "3                  0.0                 0.0625  0.0           0.594266  \n",
       "4                  0.0                 0.0625  0.0           0.408123  "
      ]
     },
     "execution_count": 90,
     "metadata": {},
     "output_type": "execute_result"
    }
   ],
   "source": [
    "# Let's show final train dataset\n",
    "X_train_final = FeatureScaler(X_train)\n",
    "X_train_final.head()"
   ]
  },
  {
   "cell_type": "code",
   "execution_count": 91,
   "metadata": {
    "execution": {
     "iopub.execute_input": "2020-09-22T18:16:46.756708Z",
     "iopub.status.busy": "2020-09-22T18:16:46.755650Z",
     "iopub.status.idle": "2020-09-22T18:16:46.799268Z",
     "shell.execute_reply": "2020-09-22T18:16:46.798467Z"
    },
    "papermill": {
     "duration": 0.098309,
     "end_time": "2020-09-22T18:16:46.799403",
     "exception": false,
     "start_time": "2020-09-22T18:16:46.701094",
     "status": "completed"
    },
    "tags": []
   },
   "outputs": [
    {
     "data": {
      "text/html": [
       "<div>\n",
       "<style scoped>\n",
       "    .dataframe tbody tr th:only-of-type {\n",
       "        vertical-align: middle;\n",
       "    }\n",
       "\n",
       "    .dataframe tbody tr th {\n",
       "        vertical-align: top;\n",
       "    }\n",
       "\n",
       "    .dataframe thead th {\n",
       "        text-align: right;\n",
       "    }\n",
       "</style>\n",
       "<table border=\"1\" class=\"dataframe\">\n",
       "  <thead>\n",
       "    <tr style=\"text-align: right;\">\n",
       "      <th></th>\n",
       "      <th>City_Code_Hospital</th>\n",
       "      <th>Hospital_region_code</th>\n",
       "      <th>Available Extra Rooms in Hospital</th>\n",
       "      <th>Department</th>\n",
       "      <th>Ward_Type</th>\n",
       "      <th>Ward_Facility_Code</th>\n",
       "      <th>Bed Grade</th>\n",
       "      <th>City_Code_Patient</th>\n",
       "      <th>Type of Admission</th>\n",
       "      <th>Severity of Illness</th>\n",
       "      <th>Visitors with Patient</th>\n",
       "      <th>Age</th>\n",
       "      <th>Admission_Deposit</th>\n",
       "    </tr>\n",
       "  </thead>\n",
       "  <tbody>\n",
       "    <tr>\n",
       "      <th>0</th>\n",
       "      <td>0.166667</td>\n",
       "      <td>0.0</td>\n",
       "      <td>0.142857</td>\n",
       "      <td>0.0</td>\n",
       "      <td>0.0</td>\n",
       "      <td>0.0</td>\n",
       "      <td>0.333333</td>\n",
       "      <td>0.027027</td>\n",
       "      <td>0.0</td>\n",
       "      <td>0.0</td>\n",
       "      <td>0.06250</td>\n",
       "      <td>0.0</td>\n",
       "      <td>0.127964</td>\n",
       "    </tr>\n",
       "    <tr>\n",
       "      <th>1</th>\n",
       "      <td>0.250000</td>\n",
       "      <td>0.5</td>\n",
       "      <td>0.095238</td>\n",
       "      <td>0.0</td>\n",
       "      <td>0.0</td>\n",
       "      <td>0.2</td>\n",
       "      <td>0.333333</td>\n",
       "      <td>0.027027</td>\n",
       "      <td>0.5</td>\n",
       "      <td>0.0</td>\n",
       "      <td>0.12500</td>\n",
       "      <td>0.0</td>\n",
       "      <td>0.219170</td>\n",
       "    </tr>\n",
       "    <tr>\n",
       "      <th>2</th>\n",
       "      <td>0.083333</td>\n",
       "      <td>1.0</td>\n",
       "      <td>0.142857</td>\n",
       "      <td>0.0</td>\n",
       "      <td>0.2</td>\n",
       "      <td>0.4</td>\n",
       "      <td>1.000000</td>\n",
       "      <td>0.027027</td>\n",
       "      <td>0.0</td>\n",
       "      <td>0.0</td>\n",
       "      <td>0.09375</td>\n",
       "      <td>0.0</td>\n",
       "      <td>0.266008</td>\n",
       "    </tr>\n",
       "    <tr>\n",
       "      <th>3</th>\n",
       "      <td>0.416667</td>\n",
       "      <td>0.5</td>\n",
       "      <td>0.142857</td>\n",
       "      <td>0.0</td>\n",
       "      <td>0.2</td>\n",
       "      <td>0.2</td>\n",
       "      <td>0.333333</td>\n",
       "      <td>0.027027</td>\n",
       "      <td>0.5</td>\n",
       "      <td>0.0</td>\n",
       "      <td>0.09375</td>\n",
       "      <td>0.0</td>\n",
       "      <td>0.234486</td>\n",
       "    </tr>\n",
       "    <tr>\n",
       "      <th>4</th>\n",
       "      <td>0.833333</td>\n",
       "      <td>0.5</td>\n",
       "      <td>0.095238</td>\n",
       "      <td>0.0</td>\n",
       "      <td>0.4</td>\n",
       "      <td>0.2</td>\n",
       "      <td>0.333333</td>\n",
       "      <td>0.027027</td>\n",
       "      <td>0.5</td>\n",
       "      <td>0.0</td>\n",
       "      <td>0.12500</td>\n",
       "      <td>0.0</td>\n",
       "      <td>0.233300</td>\n",
       "    </tr>\n",
       "  </tbody>\n",
       "</table>\n",
       "</div>"
      ],
      "text/plain": [
       "   City_Code_Hospital  Hospital_region_code  \\\n",
       "0            0.166667                   0.0   \n",
       "1            0.250000                   0.5   \n",
       "2            0.083333                   1.0   \n",
       "3            0.416667                   0.5   \n",
       "4            0.833333                   0.5   \n",
       "\n",
       "   Available Extra Rooms in Hospital  Department  Ward_Type  \\\n",
       "0                           0.142857         0.0        0.0   \n",
       "1                           0.095238         0.0        0.0   \n",
       "2                           0.142857         0.0        0.2   \n",
       "3                           0.142857         0.0        0.2   \n",
       "4                           0.095238         0.0        0.4   \n",
       "\n",
       "   Ward_Facility_Code  Bed Grade  City_Code_Patient  Type of Admission  \\\n",
       "0                 0.0   0.333333           0.027027                0.0   \n",
       "1                 0.2   0.333333           0.027027                0.5   \n",
       "2                 0.4   1.000000           0.027027                0.0   \n",
       "3                 0.2   0.333333           0.027027                0.5   \n",
       "4                 0.2   0.333333           0.027027                0.5   \n",
       "\n",
       "   Severity of Illness  Visitors with Patient  Age  Admission_Deposit  \n",
       "0                  0.0                0.06250  0.0           0.127964  \n",
       "1                  0.0                0.12500  0.0           0.219170  \n",
       "2                  0.0                0.09375  0.0           0.266008  \n",
       "3                  0.0                0.09375  0.0           0.234486  \n",
       "4                  0.0                0.12500  0.0           0.233300  "
      ]
     },
     "execution_count": 91,
     "metadata": {},
     "output_type": "execute_result"
    }
   ],
   "source": [
    "# Let's show final test dataset\n",
    "X_test_final = FeatureScaler(X_test)\n",
    "X_test_final.head()"
   ]
  },
  {
   "cell_type": "markdown",
   "metadata": {
    "papermill": {
     "duration": 0.046723,
     "end_time": "2020-09-22T18:16:46.901044",
     "exception": false,
     "start_time": "2020-09-22T18:16:46.854321",
     "status": "completed"
    },
    "tags": []
   },
   "source": [
    "### Find Feature Importance\n",
    "    Find best 10 features from datasets"
   ]
  },
  {
   "cell_type": "markdown",
   "metadata": {
    "papermill": {
     "duration": 0.046878,
     "end_time": "2020-09-22T18:18:47.653211",
     "exception": false,
     "start_time": "2020-09-22T18:18:47.606333",
     "status": "completed"
    },
    "tags": []
   },
   "source": [
    "### Create Model with Random Forest Classifier"
   ]
  },
  {
   "cell_type": "code",
   "execution_count": null,
   "metadata": {},
   "outputs": [],
   "source": [
    "row_1 = X_test.iloc[0]\n",
    "row_1"
   ]
  },
  {
   "cell_type": "code",
   "execution_count": 92,
   "metadata": {
    "execution": {
     "iopub.execute_input": "2020-09-22T18:18:47.755880Z",
     "iopub.status.busy": "2020-09-22T18:18:47.755120Z",
     "iopub.status.idle": "2020-09-22T18:20:17.168125Z",
     "shell.execute_reply": "2020-09-22T18:20:17.168762Z"
    },
    "papermill": {
     "duration": 89.468268,
     "end_time": "2020-09-22T18:20:17.168936",
     "exception": false,
     "start_time": "2020-09-22T18:18:47.700668",
     "status": "completed"
    },
    "tags": []
   },
   "outputs": [
    {
     "data": {
      "text/plain": [
       "RandomForestClassifier()"
      ]
     },
     "execution_count": 92,
     "metadata": {},
     "output_type": "execute_result"
    }
   ],
   "source": [
    "# Create model\n",
    "stay_predict = RandomForestClassifier()\n",
    "stay_predict.fit(X_train_final, y_train)"
   ]
  },
  {
   "cell_type": "markdown",
   "metadata": {
    "papermill": {
     "duration": 0.047345,
     "end_time": "2020-09-22T18:20:17.266421",
     "exception": false,
     "start_time": "2020-09-22T18:20:17.219076",
     "status": "completed"
    },
    "tags": []
   },
   "source": [
    "#### Model Testing"
   ]
  },
  {
   "cell_type": "code",
   "execution_count": 93,
   "metadata": {
    "execution": {
     "iopub.execute_input": "2020-09-22T18:20:17.367482Z",
     "iopub.status.busy": "2020-09-22T18:20:17.366751Z",
     "iopub.status.idle": "2020-09-22T18:20:23.786651Z",
     "shell.execute_reply": "2020-09-22T18:20:23.785500Z"
    },
    "papermill": {
     "duration": 6.47386,
     "end_time": "2020-09-22T18:20:23.786785",
     "exception": false,
     "start_time": "2020-09-22T18:20:17.312925",
     "status": "completed"
    },
    "tags": []
   },
   "outputs": [
    {
     "data": {
      "text/plain": [
       "array([1, 6, 2, ..., 2, 2, 6], dtype=int64)"
      ]
     },
     "execution_count": 93,
     "metadata": {},
     "output_type": "execute_result"
    }
   ],
   "source": [
    "# Let's test the model\n",
    "y_test = stay_predict.predict(X_test_final)\n",
    "y_test"
   ]
  },
  {
   "cell_type": "code",
   "execution_count": 94,
   "metadata": {},
   "outputs": [],
   "source": [
    "#Deployment\n",
    "\n",
    "import pickle"
   ]
  },
  {
   "cell_type": "code",
   "execution_count": 95,
   "metadata": {},
   "outputs": [],
   "source": [
    "# Exporting the Model\n",
    "\n",
    "# with open('Random_Forest_Model.pkl', 'wb') as f:\n",
    "#     pickle.dump(stay_predict, f)"
   ]
  },
  {
   "cell_type": "code",
   "execution_count": 96,
   "metadata": {
    "execution": {
     "iopub.execute_input": "2020-09-22T18:20:23.891038Z",
     "iopub.status.busy": "2020-09-22T18:20:23.890202Z",
     "iopub.status.idle": "2020-09-22T18:20:23.942094Z",
     "shell.execute_reply": "2020-09-22T18:20:23.941385Z"
    },
    "papermill": {
     "duration": 0.106918,
     "end_time": "2020-09-22T18:20:23.942242",
     "exception": false,
     "start_time": "2020-09-22T18:20:23.835324",
     "status": "completed"
    },
    "tags": []
   },
   "outputs": [
    {
     "ename": "FileNotFoundError",
     "evalue": "[Errno 2] No such file or directory: '../input/av-healthcare-analytics-ii/healthcare/sample_sub.csv'",
     "output_type": "error",
     "traceback": [
      "\u001b[1;31m---------------------------------------------------------------------------\u001b[0m",
      "\u001b[1;31mFileNotFoundError\u001b[0m                         Traceback (most recent call last)",
      "\u001b[1;32mC:\\Users\\DELLE7~1\\AppData\\Local\\Temp/ipykernel_10140/696668684.py\u001b[0m in \u001b[0;36m<module>\u001b[1;34m\u001b[0m\n\u001b[0;32m      1\u001b[0m \u001b[1;31m# For submission file we need 'case_id' so read sample_submission file\u001b[0m\u001b[1;33m\u001b[0m\u001b[1;33m\u001b[0m\u001b[0m\n\u001b[1;32m----> 2\u001b[1;33m \u001b[0msample_sub_df\u001b[0m \u001b[1;33m=\u001b[0m \u001b[0mtest_df\u001b[0m \u001b[1;33m=\u001b[0m \u001b[0mpd\u001b[0m\u001b[1;33m.\u001b[0m\u001b[0mread_csv\u001b[0m\u001b[1;33m(\u001b[0m\u001b[1;34m'../input/av-healthcare-analytics-ii/healthcare/sample_sub.csv'\u001b[0m\u001b[1;33m)\u001b[0m\u001b[1;33m\u001b[0m\u001b[1;33m\u001b[0m\u001b[0m\n\u001b[0m",
      "\u001b[1;32mC:\\ProgramData\\Anaconda3\\lib\\site-packages\\pandas\\util\\_decorators.py\u001b[0m in \u001b[0;36mwrapper\u001b[1;34m(*args, **kwargs)\u001b[0m\n\u001b[0;32m    309\u001b[0m                     \u001b[0mstacklevel\u001b[0m\u001b[1;33m=\u001b[0m\u001b[0mstacklevel\u001b[0m\u001b[1;33m,\u001b[0m\u001b[1;33m\u001b[0m\u001b[1;33m\u001b[0m\u001b[0m\n\u001b[0;32m    310\u001b[0m                 )\n\u001b[1;32m--> 311\u001b[1;33m             \u001b[1;32mreturn\u001b[0m \u001b[0mfunc\u001b[0m\u001b[1;33m(\u001b[0m\u001b[1;33m*\u001b[0m\u001b[0margs\u001b[0m\u001b[1;33m,\u001b[0m \u001b[1;33m**\u001b[0m\u001b[0mkwargs\u001b[0m\u001b[1;33m)\u001b[0m\u001b[1;33m\u001b[0m\u001b[1;33m\u001b[0m\u001b[0m\n\u001b[0m\u001b[0;32m    312\u001b[0m \u001b[1;33m\u001b[0m\u001b[0m\n\u001b[0;32m    313\u001b[0m         \u001b[1;32mreturn\u001b[0m \u001b[0mwrapper\u001b[0m\u001b[1;33m\u001b[0m\u001b[1;33m\u001b[0m\u001b[0m\n",
      "\u001b[1;32mC:\\ProgramData\\Anaconda3\\lib\\site-packages\\pandas\\io\\parsers\\readers.py\u001b[0m in \u001b[0;36mread_csv\u001b[1;34m(filepath_or_buffer, sep, delimiter, header, names, index_col, usecols, squeeze, prefix, mangle_dupe_cols, dtype, engine, converters, true_values, false_values, skipinitialspace, skiprows, skipfooter, nrows, na_values, keep_default_na, na_filter, verbose, skip_blank_lines, parse_dates, infer_datetime_format, keep_date_col, date_parser, dayfirst, cache_dates, iterator, chunksize, compression, thousands, decimal, lineterminator, quotechar, quoting, doublequote, escapechar, comment, encoding, encoding_errors, dialect, error_bad_lines, warn_bad_lines, on_bad_lines, delim_whitespace, low_memory, memory_map, float_precision, storage_options)\u001b[0m\n\u001b[0;32m    584\u001b[0m     \u001b[0mkwds\u001b[0m\u001b[1;33m.\u001b[0m\u001b[0mupdate\u001b[0m\u001b[1;33m(\u001b[0m\u001b[0mkwds_defaults\u001b[0m\u001b[1;33m)\u001b[0m\u001b[1;33m\u001b[0m\u001b[1;33m\u001b[0m\u001b[0m\n\u001b[0;32m    585\u001b[0m \u001b[1;33m\u001b[0m\u001b[0m\n\u001b[1;32m--> 586\u001b[1;33m     \u001b[1;32mreturn\u001b[0m \u001b[0m_read\u001b[0m\u001b[1;33m(\u001b[0m\u001b[0mfilepath_or_buffer\u001b[0m\u001b[1;33m,\u001b[0m \u001b[0mkwds\u001b[0m\u001b[1;33m)\u001b[0m\u001b[1;33m\u001b[0m\u001b[1;33m\u001b[0m\u001b[0m\n\u001b[0m\u001b[0;32m    587\u001b[0m \u001b[1;33m\u001b[0m\u001b[0m\n\u001b[0;32m    588\u001b[0m \u001b[1;33m\u001b[0m\u001b[0m\n",
      "\u001b[1;32mC:\\ProgramData\\Anaconda3\\lib\\site-packages\\pandas\\io\\parsers\\readers.py\u001b[0m in \u001b[0;36m_read\u001b[1;34m(filepath_or_buffer, kwds)\u001b[0m\n\u001b[0;32m    480\u001b[0m \u001b[1;33m\u001b[0m\u001b[0m\n\u001b[0;32m    481\u001b[0m     \u001b[1;31m# Create the parser.\u001b[0m\u001b[1;33m\u001b[0m\u001b[1;33m\u001b[0m\u001b[0m\n\u001b[1;32m--> 482\u001b[1;33m     \u001b[0mparser\u001b[0m \u001b[1;33m=\u001b[0m \u001b[0mTextFileReader\u001b[0m\u001b[1;33m(\u001b[0m\u001b[0mfilepath_or_buffer\u001b[0m\u001b[1;33m,\u001b[0m \u001b[1;33m**\u001b[0m\u001b[0mkwds\u001b[0m\u001b[1;33m)\u001b[0m\u001b[1;33m\u001b[0m\u001b[1;33m\u001b[0m\u001b[0m\n\u001b[0m\u001b[0;32m    483\u001b[0m \u001b[1;33m\u001b[0m\u001b[0m\n\u001b[0;32m    484\u001b[0m     \u001b[1;32mif\u001b[0m \u001b[0mchunksize\u001b[0m \u001b[1;32mor\u001b[0m \u001b[0miterator\u001b[0m\u001b[1;33m:\u001b[0m\u001b[1;33m\u001b[0m\u001b[1;33m\u001b[0m\u001b[0m\n",
      "\u001b[1;32mC:\\ProgramData\\Anaconda3\\lib\\site-packages\\pandas\\io\\parsers\\readers.py\u001b[0m in \u001b[0;36m__init__\u001b[1;34m(self, f, engine, **kwds)\u001b[0m\n\u001b[0;32m    809\u001b[0m             \u001b[0mself\u001b[0m\u001b[1;33m.\u001b[0m\u001b[0moptions\u001b[0m\u001b[1;33m[\u001b[0m\u001b[1;34m\"has_index_names\"\u001b[0m\u001b[1;33m]\u001b[0m \u001b[1;33m=\u001b[0m \u001b[0mkwds\u001b[0m\u001b[1;33m[\u001b[0m\u001b[1;34m\"has_index_names\"\u001b[0m\u001b[1;33m]\u001b[0m\u001b[1;33m\u001b[0m\u001b[1;33m\u001b[0m\u001b[0m\n\u001b[0;32m    810\u001b[0m \u001b[1;33m\u001b[0m\u001b[0m\n\u001b[1;32m--> 811\u001b[1;33m         \u001b[0mself\u001b[0m\u001b[1;33m.\u001b[0m\u001b[0m_engine\u001b[0m \u001b[1;33m=\u001b[0m \u001b[0mself\u001b[0m\u001b[1;33m.\u001b[0m\u001b[0m_make_engine\u001b[0m\u001b[1;33m(\u001b[0m\u001b[0mself\u001b[0m\u001b[1;33m.\u001b[0m\u001b[0mengine\u001b[0m\u001b[1;33m)\u001b[0m\u001b[1;33m\u001b[0m\u001b[1;33m\u001b[0m\u001b[0m\n\u001b[0m\u001b[0;32m    812\u001b[0m \u001b[1;33m\u001b[0m\u001b[0m\n\u001b[0;32m    813\u001b[0m     \u001b[1;32mdef\u001b[0m \u001b[0mclose\u001b[0m\u001b[1;33m(\u001b[0m\u001b[0mself\u001b[0m\u001b[1;33m)\u001b[0m\u001b[1;33m:\u001b[0m\u001b[1;33m\u001b[0m\u001b[1;33m\u001b[0m\u001b[0m\n",
      "\u001b[1;32mC:\\ProgramData\\Anaconda3\\lib\\site-packages\\pandas\\io\\parsers\\readers.py\u001b[0m in \u001b[0;36m_make_engine\u001b[1;34m(self, engine)\u001b[0m\n\u001b[0;32m   1038\u001b[0m             )\n\u001b[0;32m   1039\u001b[0m         \u001b[1;31m# error: Too many arguments for \"ParserBase\"\u001b[0m\u001b[1;33m\u001b[0m\u001b[1;33m\u001b[0m\u001b[0m\n\u001b[1;32m-> 1040\u001b[1;33m         \u001b[1;32mreturn\u001b[0m \u001b[0mmapping\u001b[0m\u001b[1;33m[\u001b[0m\u001b[0mengine\u001b[0m\u001b[1;33m]\u001b[0m\u001b[1;33m(\u001b[0m\u001b[0mself\u001b[0m\u001b[1;33m.\u001b[0m\u001b[0mf\u001b[0m\u001b[1;33m,\u001b[0m \u001b[1;33m**\u001b[0m\u001b[0mself\u001b[0m\u001b[1;33m.\u001b[0m\u001b[0moptions\u001b[0m\u001b[1;33m)\u001b[0m  \u001b[1;31m# type: ignore[call-arg]\u001b[0m\u001b[1;33m\u001b[0m\u001b[1;33m\u001b[0m\u001b[0m\n\u001b[0m\u001b[0;32m   1041\u001b[0m \u001b[1;33m\u001b[0m\u001b[0m\n\u001b[0;32m   1042\u001b[0m     \u001b[1;32mdef\u001b[0m \u001b[0m_failover_to_python\u001b[0m\u001b[1;33m(\u001b[0m\u001b[0mself\u001b[0m\u001b[1;33m)\u001b[0m\u001b[1;33m:\u001b[0m\u001b[1;33m\u001b[0m\u001b[1;33m\u001b[0m\u001b[0m\n",
      "\u001b[1;32mC:\\ProgramData\\Anaconda3\\lib\\site-packages\\pandas\\io\\parsers\\c_parser_wrapper.py\u001b[0m in \u001b[0;36m__init__\u001b[1;34m(self, src, **kwds)\u001b[0m\n\u001b[0;32m     49\u001b[0m \u001b[1;33m\u001b[0m\u001b[0m\n\u001b[0;32m     50\u001b[0m         \u001b[1;31m# open handles\u001b[0m\u001b[1;33m\u001b[0m\u001b[1;33m\u001b[0m\u001b[0m\n\u001b[1;32m---> 51\u001b[1;33m         \u001b[0mself\u001b[0m\u001b[1;33m.\u001b[0m\u001b[0m_open_handles\u001b[0m\u001b[1;33m(\u001b[0m\u001b[0msrc\u001b[0m\u001b[1;33m,\u001b[0m \u001b[0mkwds\u001b[0m\u001b[1;33m)\u001b[0m\u001b[1;33m\u001b[0m\u001b[1;33m\u001b[0m\u001b[0m\n\u001b[0m\u001b[0;32m     52\u001b[0m         \u001b[1;32massert\u001b[0m \u001b[0mself\u001b[0m\u001b[1;33m.\u001b[0m\u001b[0mhandles\u001b[0m \u001b[1;32mis\u001b[0m \u001b[1;32mnot\u001b[0m \u001b[1;32mNone\u001b[0m\u001b[1;33m\u001b[0m\u001b[1;33m\u001b[0m\u001b[0m\n\u001b[0;32m     53\u001b[0m \u001b[1;33m\u001b[0m\u001b[0m\n",
      "\u001b[1;32mC:\\ProgramData\\Anaconda3\\lib\\site-packages\\pandas\\io\\parsers\\base_parser.py\u001b[0m in \u001b[0;36m_open_handles\u001b[1;34m(self, src, kwds)\u001b[0m\n\u001b[0;32m    220\u001b[0m         \u001b[0mLet\u001b[0m \u001b[0mthe\u001b[0m \u001b[0mreaders\u001b[0m \u001b[0mopen\u001b[0m \u001b[0mIOHandles\u001b[0m \u001b[0mafter\u001b[0m \u001b[0mthey\u001b[0m \u001b[0mare\u001b[0m \u001b[0mdone\u001b[0m \u001b[1;32mwith\u001b[0m \u001b[0mtheir\u001b[0m \u001b[0mpotential\u001b[0m \u001b[0mraises\u001b[0m\u001b[1;33m.\u001b[0m\u001b[1;33m\u001b[0m\u001b[1;33m\u001b[0m\u001b[0m\n\u001b[0;32m    221\u001b[0m         \"\"\"\n\u001b[1;32m--> 222\u001b[1;33m         self.handles = get_handle(\n\u001b[0m\u001b[0;32m    223\u001b[0m             \u001b[0msrc\u001b[0m\u001b[1;33m,\u001b[0m\u001b[1;33m\u001b[0m\u001b[1;33m\u001b[0m\u001b[0m\n\u001b[0;32m    224\u001b[0m             \u001b[1;34m\"r\"\u001b[0m\u001b[1;33m,\u001b[0m\u001b[1;33m\u001b[0m\u001b[1;33m\u001b[0m\u001b[0m\n",
      "\u001b[1;32mC:\\ProgramData\\Anaconda3\\lib\\site-packages\\pandas\\io\\common.py\u001b[0m in \u001b[0;36mget_handle\u001b[1;34m(path_or_buf, mode, encoding, compression, memory_map, is_text, errors, storage_options)\u001b[0m\n\u001b[0;32m    700\u001b[0m         \u001b[1;32mif\u001b[0m \u001b[0mioargs\u001b[0m\u001b[1;33m.\u001b[0m\u001b[0mencoding\u001b[0m \u001b[1;32mand\u001b[0m \u001b[1;34m\"b\"\u001b[0m \u001b[1;32mnot\u001b[0m \u001b[1;32min\u001b[0m \u001b[0mioargs\u001b[0m\u001b[1;33m.\u001b[0m\u001b[0mmode\u001b[0m\u001b[1;33m:\u001b[0m\u001b[1;33m\u001b[0m\u001b[1;33m\u001b[0m\u001b[0m\n\u001b[0;32m    701\u001b[0m             \u001b[1;31m# Encoding\u001b[0m\u001b[1;33m\u001b[0m\u001b[1;33m\u001b[0m\u001b[0m\n\u001b[1;32m--> 702\u001b[1;33m             handle = open(\n\u001b[0m\u001b[0;32m    703\u001b[0m                 \u001b[0mhandle\u001b[0m\u001b[1;33m,\u001b[0m\u001b[1;33m\u001b[0m\u001b[1;33m\u001b[0m\u001b[0m\n\u001b[0;32m    704\u001b[0m                 \u001b[0mioargs\u001b[0m\u001b[1;33m.\u001b[0m\u001b[0mmode\u001b[0m\u001b[1;33m,\u001b[0m\u001b[1;33m\u001b[0m\u001b[1;33m\u001b[0m\u001b[0m\n",
      "\u001b[1;31mFileNotFoundError\u001b[0m: [Errno 2] No such file or directory: '../input/av-healthcare-analytics-ii/healthcare/sample_sub.csv'"
     ]
    }
   ],
   "source": [
    "# For submission file we need 'case_id' so read sample_submission file\n",
    "sample_sub_df = test_df = pd.read_csv('../input/av-healthcare-analytics-ii/healthcare/sample_sub.csv')"
   ]
  },
  {
   "cell_type": "markdown",
   "metadata": {
    "papermill": {
     "duration": 0.048411,
     "end_time": "2020-09-22T18:20:24.038230",
     "exception": false,
     "start_time": "2020-09-22T18:20:23.989819",
     "status": "completed"
    },
    "tags": []
   },
   "source": [
    "#### Decode Prediction data"
   ]
  },
  {
   "cell_type": "code",
   "execution_count": null,
   "metadata": {
    "execution": {
     "iopub.execute_input": "2020-09-22T18:20:24.143182Z",
     "iopub.status.busy": "2020-09-22T18:20:24.142376Z",
     "iopub.status.idle": "2020-09-22T18:20:24.185375Z",
     "shell.execute_reply": "2020-09-22T18:20:24.186168Z"
    },
    "papermill": {
     "duration": 0.100418,
     "end_time": "2020-09-22T18:20:24.186383",
     "exception": false,
     "start_time": "2020-09-22T18:20:24.085965",
     "status": "completed"
    },
    "tags": []
   },
   "outputs": [],
   "source": [
    "predection_df = pd.DataFrame()\n",
    "predection_df['case_id'] = sample_sub_df['case_id'] \n",
    "predection_df['Stay'] = y_test\n",
    "\n",
    "decode_prediction = { 1 : '0-10', 2 : '11-20', 3 : '21-30', 4 : '31-40', 5 : '41-50', 6 : '51-60', 7 : '61-70'\n",
    "            ,8 : '71-80', 9 : '81-90', 10 : '91-100', 11 : 'More than 100 Days'}\n",
    "\n",
    "predection_df['Stay'] = predection_df['Stay'].map(decode_prediction)\n",
    "predection_df.head()"
   ]
  },
  {
   "cell_type": "markdown",
   "metadata": {
    "papermill": {
     "duration": 0.048037,
     "end_time": "2020-09-22T18:20:24.284437",
     "exception": false,
     "start_time": "2020-09-22T18:20:24.236400",
     "status": "completed"
    },
    "tags": []
   },
   "source": [
    "### Scoring & Validation"
   ]
  },
  {
   "cell_type": "code",
   "execution_count": null,
   "metadata": {
    "execution": {
     "iopub.execute_input": "2020-09-22T18:20:24.388968Z",
     "iopub.status.busy": "2020-09-22T18:20:24.388135Z",
     "iopub.status.idle": "2020-09-22T18:20:46.496048Z",
     "shell.execute_reply": "2020-09-22T18:20:46.495278Z"
    },
    "papermill": {
     "duration": 22.163143,
     "end_time": "2020-09-22T18:20:46.496178",
     "exception": false,
     "start_time": "2020-09-22T18:20:24.333035",
     "status": "completed"
    },
    "tags": []
   },
   "outputs": [],
   "source": [
    "# Model score\n",
    "stay_predict.score(X_train_final, y_train)"
   ]
  },
  {
   "cell_type": "code",
   "execution_count": null,
   "metadata": {
    "execution": {
     "iopub.execute_input": "2020-09-22T18:20:46.602056Z",
     "iopub.status.busy": "2020-09-22T18:20:46.600847Z",
     "iopub.status.idle": "2020-09-22T18:34:02.392006Z",
     "shell.execute_reply": "2020-09-22T18:34:02.392623Z"
    },
    "papermill": {
     "duration": 795.847441,
     "end_time": "2020-09-22T18:34:02.392826",
     "exception": false,
     "start_time": "2020-09-22T18:20:46.545385",
     "status": "completed"
    },
    "tags": []
   },
   "outputs": [],
   "source": [
    "# Cross Validation \n",
    "score = cross_val_score(stay_predict, X_train_final, y_train.ravel(), cv=10)\n",
    "score.mean()"
   ]
  },
  {
   "cell_type": "markdown",
   "metadata": {
    "papermill": {
     "duration": 0.049108,
     "end_time": "2020-09-22T18:34:02.491456",
     "exception": false,
     "start_time": "2020-09-22T18:34:02.442348",
     "status": "completed"
    },
    "tags": []
   },
   "source": [
    "#### Create a submission File"
   ]
  },
  {
   "cell_type": "code",
   "execution_count": null,
   "metadata": {
    "execution": {
     "iopub.execute_input": "2020-09-22T18:34:02.596146Z",
     "iopub.status.busy": "2020-09-22T18:34:02.595065Z",
     "iopub.status.idle": "2020-09-22T18:34:02.606497Z",
     "shell.execute_reply": "2020-09-22T18:34:02.605787Z"
    },
    "papermill": {
     "duration": 0.065918,
     "end_time": "2020-09-22T18:34:02.606638",
     "exception": false,
     "start_time": "2020-09-22T18:34:02.540720",
     "status": "completed"
    },
    "tags": []
   },
   "outputs": [],
   "source": [
    "submission = predection_df.copy()\n",
    "submission.head()"
   ]
  },
  {
   "cell_type": "markdown",
   "metadata": {
    "papermill": {
     "duration": 0.05021,
     "end_time": "2020-09-22T18:34:02.707808",
     "exception": false,
     "start_time": "2020-09-22T18:34:02.657598",
     "status": "completed"
    },
    "tags": []
   },
   "source": [
    "#### Thanks\n",
    "Wish to get comments from all."
   ]
  },
  {
   "cell_type": "markdown",
   "metadata": {
    "papermill": {
     "duration": 0.049724,
     "end_time": "2020-09-22T18:34:02.807604",
     "exception": false,
     "start_time": "2020-09-22T18:34:02.757880",
     "status": "completed"
    },
    "tags": []
   },
   "source": [
    "Source Code on github-  https://github.com/sheikhmasudrana/ML_Practice/tree/master/Healthcare%20Analytics(stay%20days%20prediction)"
   ]
  }
 ],
 "metadata": {
  "kernelspec": {
   "display_name": "Python 3 (ipykernel)",
   "language": "python",
   "name": "python3"
  },
  "language_info": {
   "codemirror_mode": {
    "name": "ipython",
    "version": 3
   },
   "file_extension": ".py",
   "mimetype": "text/x-python",
   "name": "python",
   "nbconvert_exporter": "python",
   "pygments_lexer": "ipython3",
   "version": "3.9.7"
  },
  "papermill": {
   "duration": 1051.470673,
   "end_time": "2020-09-22T18:34:04.030797",
   "environment_variables": {},
   "exception": null,
   "input_path": "__notebook__.ipynb",
   "output_path": "__notebook__.ipynb",
   "parameters": {},
   "start_time": "2020-09-22T18:16:32.560124",
   "version": "2.1.0"
  }
 },
 "nbformat": 4,
 "nbformat_minor": 4
}
